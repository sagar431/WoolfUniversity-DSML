{
  "nbformat": 4,
  "nbformat_minor": 0,
  "metadata": {
    "colab": {
      "provenance": []
    },
    "kernelspec": {
      "name": "python3",
      "display_name": "Python 3"
    },
    "language_info": {
      "name": "python"
    }
  },
  "cells": [
    {
      "cell_type": "code",
      "execution_count": null,
      "metadata": {
        "id": "Ajy1LlL6MSDk"
      },
      "outputs": [],
      "source": [
        "# math is an in-built module in Python\n",
        "import math"
      ]
    },
    {
      "cell_type": "code",
      "source": [
        "# help(math)"
      ],
      "metadata": {
        "id": "2uTz3mhDPtaH"
      },
      "execution_count": null,
      "outputs": []
    },
    {
      "cell_type": "code",
      "source": [
        "class math:\n",
        "\n",
        "  def __init__(self, shdjsd):\n",
        "    pass\n",
        "\n",
        "  def square(self, value):\n",
        "\n",
        "    return self.value ** 2"
      ],
      "metadata": {
        "id": "iGwV3yCvQAxQ"
      },
      "execution_count": null,
      "outputs": []
    },
    {
      "cell_type": "code",
      "source": [
        "math.sqrt(25)"
      ],
      "metadata": {
        "colab": {
          "base_uri": "https://localhost:8080/"
        },
        "id": "nDzPDqo7Py_R",
        "outputId": "5e65ffd0-c597-496e-d3ba-cf939617942f"
      },
      "execution_count": null,
      "outputs": [
        {
          "output_type": "execute_result",
          "data": {
            "text/plain": [
              "5.0"
            ]
          },
          "metadata": {},
          "execution_count": 4
        }
      ]
    },
    {
      "cell_type": "code",
      "source": [
        "# random is a built-in module in Python\n",
        "import random"
      ],
      "metadata": {
        "id": "x1JgkP6gQUhC"
      },
      "execution_count": null,
      "outputs": []
    },
    {
      "cell_type": "code",
      "source": [
        "## help(random)"
      ],
      "metadata": {
        "id": "utg3EZlaQt2P"
      },
      "execution_count": null,
      "outputs": []
    },
    {
      "cell_type": "code",
      "source": [
        "random.randint(0,100)\n",
        "\n",
        "# math.randint(0,100) # This wrong"
      ],
      "metadata": {
        "colab": {
          "base_uri": "https://localhost:8080/"
        },
        "id": "RUPQyCiKQyaw",
        "outputId": "389f56f9-9f61-450f-e334-4774aa87e00a"
      },
      "execution_count": null,
      "outputs": [
        {
          "output_type": "execute_result",
          "data": {
            "text/plain": [
              "76"
            ]
          },
          "metadata": {},
          "execution_count": 41
        }
      ]
    },
    {
      "cell_type": "code",
      "source": [
        "res = []\n",
        "\n",
        "for i in range(1,11):\n",
        "  res.append(random.randint(0,100))\n",
        "\n",
        "res"
      ],
      "metadata": {
        "colab": {
          "base_uri": "https://localhost:8080/"
        },
        "id": "YJHor1LVQ-0T",
        "outputId": "4d492e4c-7f6a-4656-f1b1-03fb5bc66257"
      },
      "execution_count": null,
      "outputs": [
        {
          "output_type": "execute_result",
          "data": {
            "text/plain": [
              "[88, 43, 51, 45, 55, 48, 0, 21, 78, 20]"
            ]
          },
          "metadata": {},
          "execution_count": 12
        }
      ]
    },
    {
      "cell_type": "code",
      "source": [
        "a = list(range(1,100001))\n",
        "\n",
        "random.sample(a, 10)"
      ],
      "metadata": {
        "colab": {
          "base_uri": "https://localhost:8080/"
        },
        "id": "XUb7g7AsRQb1",
        "outputId": "1c04ffc1-e7f1-4cf8-a96f-2d4d5668247b"
      },
      "execution_count": null,
      "outputs": [
        {
          "output_type": "execute_result",
          "data": {
            "text/plain": [
              "[21210, 50059, 41825, 88930, 11144, 72861, 18307, 71160, 43868, 21246]"
            ]
          },
          "metadata": {},
          "execution_count": 15
        }
      ]
    },
    {
      "cell_type": "code",
      "source": [
        "random.seed(1001.42) # tejas code\n",
        "print(random.randint(0,10))\n",
        "print(random.randint(0,10))\n",
        "print(random.randint(0,10))\n",
        "print(random.randint(0,10))\n",
        "print(random.randint(0,10))"
      ],
      "metadata": {
        "colab": {
          "base_uri": "https://localhost:8080/"
        },
        "id": "9Ze3sa4ORZcH",
        "outputId": "2b0c3146-fd85-4ae4-a06c-c2a5c31c01d9"
      },
      "execution_count": null,
      "outputs": [
        {
          "output_type": "stream",
          "name": "stdout",
          "text": [
            "1\n",
            "8\n",
            "2\n",
            "10\n",
            "9\n"
          ]
        }
      ]
    },
    {
      "cell_type": "code",
      "source": [
        "random.seed(1001.43) # my code\n",
        "print(random.randint(0,10))\n",
        "print(random.randint(0,10))\n",
        "print(random.randint(0,10))\n",
        "print(random.randint(0,10))\n",
        "print(random.randint(0,10))"
      ],
      "metadata": {
        "colab": {
          "base_uri": "https://localhost:8080/"
        },
        "id": "SeWvk6i5SM64",
        "outputId": "e1a8ec87-0b39-4fc8-badb-a01b832729ad"
      },
      "execution_count": null,
      "outputs": [
        {
          "output_type": "stream",
          "name": "stdout",
          "text": [
            "5\n",
            "6\n",
            "5\n",
            "3\n",
            "0\n"
          ]
        }
      ]
    },
    {
      "cell_type": "code",
      "source": [
        "# import math\n",
        "from math import sqrt,floor\n",
        "\n",
        "# from math import * # This is not recommended\n",
        "\n",
        "# import math"
      ],
      "metadata": {
        "id": "r6DvaS2hSQyb"
      },
      "execution_count": null,
      "outputs": []
    },
    {
      "cell_type": "code",
      "source": [
        "sqrt(16)"
      ],
      "metadata": {
        "colab": {
          "base_uri": "https://localhost:8080/"
        },
        "id": "Cjswe1-cTyS1",
        "outputId": "716434d9-9f36-41ba-b5cd-4d875389e9ba"
      },
      "execution_count": null,
      "outputs": [
        {
          "output_type": "execute_result",
          "data": {
            "text/plain": [
              "4.0"
            ]
          },
          "metadata": {},
          "execution_count": 35
        }
      ]
    },
    {
      "cell_type": "code",
      "source": [
        "floor(90.5)"
      ],
      "metadata": {
        "colab": {
          "base_uri": "https://localhost:8080/"
        },
        "id": "l0xpcYb2T2kF",
        "outputId": "4da63bfe-8b4d-4bfe-a2a3-e8f908dbf0c7"
      },
      "execution_count": null,
      "outputs": [
        {
          "output_type": "execute_result",
          "data": {
            "text/plain": [
              "90"
            ]
          },
          "metadata": {},
          "execution_count": 36
        }
      ]
    },
    {
      "cell_type": "code",
      "source": [
        "import math as m"
      ],
      "metadata": {
        "id": "qwLvMx9LT6rH"
      },
      "execution_count": null,
      "outputs": []
    },
    {
      "cell_type": "code",
      "source": [
        "# math.sqrt(16)\n",
        "m.sqrt(16)"
      ],
      "metadata": {
        "colab": {
          "base_uri": "https://localhost:8080/"
        },
        "id": "8UIUMfWrVJ5J",
        "outputId": "27ff09c7-3664-4d6e-ee02-af8112ecec71"
      },
      "execution_count": null,
      "outputs": [
        {
          "output_type": "execute_result",
          "data": {
            "text/plain": [
              "4.0"
            ]
          },
          "metadata": {},
          "execution_count": 38
        }
      ]
    },
    {
      "cell_type": "code",
      "source": [
        "# import numpy as np\n",
        "# import pandas as pd\n",
        "# import matplotlib.pyplot as plt\n",
        "# import seaborn as sns"
      ],
      "metadata": {
        "id": "bdZMAkFAVNZ5"
      },
      "execution_count": null,
      "outputs": []
    },
    {
      "cell_type": "code",
      "source": [
        "from functools import reduce"
      ],
      "metadata": {
        "id": "1Q2Fnb98YOM3"
      },
      "execution_count": null,
      "outputs": []
    },
    {
      "cell_type": "code",
      "source": [
        "reduce"
      ],
      "metadata": {
        "id": "sb9i260GYUEo"
      },
      "execution_count": null,
      "outputs": []
    },
    {
      "cell_type": "markdown",
      "source": [
        "HOMEWORK"
      ],
      "metadata": {
        "id": "bQ5TIBweegiY"
      }
    },
    {
      "cell_type": "markdown",
      "source": [
        "Create a custom math module with 4 functions -\n",
        "\n",
        "- add\n",
        "- subtract\n",
        "- multiply\n",
        "- divide"
      ],
      "metadata": {
        "id": "Le3qmpRwagJ4"
      }
    },
    {
      "cell_type": "code",
      "source": [
        "def cal(a,b):\n",
        "    w = a/b\n",
        "    s = a + b\n",
        "\n",
        "    return w,s"
      ],
      "metadata": {
        "id": "R3VVA6aHaftu"
      },
      "execution_count": null,
      "outputs": []
    },
    {
      "cell_type": "code",
      "source": [
        "cal(10,0)"
      ],
      "metadata": {
        "colab": {
          "base_uri": "https://localhost:8080/",
          "height": 263
        },
        "id": "1mApvmp0etuo",
        "outputId": "436acb8f-1f6f-4eaa-dc4a-c63bbcff9bbb"
      },
      "execution_count": null,
      "outputs": [
        {
          "output_type": "error",
          "ename": "ZeroDivisionError",
          "evalue": "division by zero",
          "traceback": [
            "\u001b[0;31m---------------------------------------------------------------------------\u001b[0m",
            "\u001b[0;31mZeroDivisionError\u001b[0m                         Traceback (most recent call last)",
            "\u001b[0;32m<ipython-input-46-4c010fed19bd>\u001b[0m in \u001b[0;36m<cell line: 1>\u001b[0;34m()\u001b[0m\n\u001b[0;32m----> 1\u001b[0;31m \u001b[0mcal\u001b[0m\u001b[0;34m(\u001b[0m\u001b[0;36m10\u001b[0m\u001b[0;34m,\u001b[0m\u001b[0;36m0\u001b[0m\u001b[0;34m)\u001b[0m\u001b[0;34m\u001b[0m\u001b[0;34m\u001b[0m\u001b[0m\n\u001b[0m",
            "\u001b[0;32m<ipython-input-45-91ac6db0ab3c>\u001b[0m in \u001b[0;36mcal\u001b[0;34m(a, b)\u001b[0m\n\u001b[1;32m      1\u001b[0m \u001b[0;32mdef\u001b[0m \u001b[0mcal\u001b[0m\u001b[0;34m(\u001b[0m\u001b[0ma\u001b[0m\u001b[0;34m,\u001b[0m\u001b[0mb\u001b[0m\u001b[0;34m)\u001b[0m\u001b[0;34m:\u001b[0m\u001b[0;34m\u001b[0m\u001b[0;34m\u001b[0m\u001b[0m\n\u001b[0;32m----> 2\u001b[0;31m     \u001b[0mw\u001b[0m \u001b[0;34m=\u001b[0m \u001b[0ma\u001b[0m\u001b[0;34m/\u001b[0m\u001b[0mb\u001b[0m\u001b[0;34m\u001b[0m\u001b[0;34m\u001b[0m\u001b[0m\n\u001b[0m\u001b[1;32m      3\u001b[0m     \u001b[0ms\u001b[0m \u001b[0;34m=\u001b[0m \u001b[0ma\u001b[0m \u001b[0;34m+\u001b[0m \u001b[0mb\u001b[0m\u001b[0;34m\u001b[0m\u001b[0;34m\u001b[0m\u001b[0m\n\u001b[1;32m      4\u001b[0m \u001b[0;34m\u001b[0m\u001b[0m\n\u001b[1;32m      5\u001b[0m     \u001b[0;32mreturn\u001b[0m \u001b[0mw\u001b[0m\u001b[0;34m,\u001b[0m\u001b[0ms\u001b[0m\u001b[0;34m\u001b[0m\u001b[0;34m\u001b[0m\u001b[0m\n",
            "\u001b[0;31mZeroDivisionError\u001b[0m: division by zero"
          ]
        }
      ]
    },
    {
      "cell_type": "code",
      "source": [
        "# 1\n",
        "# 5 error\n",
        "# 100"
      ],
      "metadata": {
        "id": "1vCLG0VjezXd"
      },
      "execution_count": null,
      "outputs": []
    },
    {
      "cell_type": "code",
      "source": [
        "if 573:"
      ],
      "metadata": {
        "colab": {
          "base_uri": "https://localhost:8080/",
          "height": 106
        },
        "id": "_VNQ6gvxfg6q",
        "outputId": "c87a7014-caa1-452c-e189-a8dab781534a"
      },
      "execution_count": null,
      "outputs": [
        {
          "output_type": "error",
          "ename": "SyntaxError",
          "evalue": "incomplete input (<ipython-input-47-236e0dbab875>, line 1)",
          "traceback": [
            "\u001b[0;36m  File \u001b[0;32m\"<ipython-input-47-236e0dbab875>\"\u001b[0;36m, line \u001b[0;32m1\u001b[0m\n\u001b[0;31m    if 573:\u001b[0m\n\u001b[0m           ^\u001b[0m\n\u001b[0;31mSyntaxError\u001b[0m\u001b[0;31m:\u001b[0m incomplete input\n"
          ]
        }
      ]
    },
    {
      "cell_type": "code",
      "source": [
        "import module_random_which_does_not_exist"
      ],
      "metadata": {
        "colab": {
          "base_uri": "https://localhost:8080/",
          "height": 314
        },
        "id": "5XEwKipUfh3m",
        "outputId": "6b321ec4-6929-4daa-d331-4c58aa0c8886"
      },
      "execution_count": null,
      "outputs": [
        {
          "output_type": "error",
          "ename": "ModuleNotFoundError",
          "evalue": "No module named 'module_random_which_does_not_exist'",
          "traceback": [
            "\u001b[0;31m---------------------------------------------------------------------------\u001b[0m",
            "\u001b[0;31mModuleNotFoundError\u001b[0m                       Traceback (most recent call last)",
            "\u001b[0;32m<ipython-input-48-a132a4a652e6>\u001b[0m in \u001b[0;36m<cell line: 1>\u001b[0;34m()\u001b[0m\n\u001b[0;32m----> 1\u001b[0;31m \u001b[0;32mimport\u001b[0m \u001b[0mmodule_random_which_does_not_exist\u001b[0m\u001b[0;34m\u001b[0m\u001b[0;34m\u001b[0m\u001b[0m\n\u001b[0m",
            "\u001b[0;31mModuleNotFoundError\u001b[0m: No module named 'module_random_which_does_not_exist'",
            "",
            "\u001b[0;31m---------------------------------------------------------------------------\u001b[0;32m\nNOTE: If your import is failing due to a missing package, you can\nmanually install dependencies using either !pip or !apt.\n\nTo view examples of installing some common dependencies, click the\n\"Open Examples\" button below.\n\u001b[0;31m---------------------------------------------------------------------------\u001b[0m\n"
          ],
          "errorDetails": {
            "actions": [
              {
                "action": "open_url",
                "actionText": "Open Examples",
                "url": "/notebooks/snippets/importing_libraries.ipynb"
              }
            ]
          }
        }
      ]
    },
    {
      "cell_type": "code",
      "source": [
        "\"random i am\".sort()"
      ],
      "metadata": {
        "colab": {
          "base_uri": "https://localhost:8080/",
          "height": 141
        },
        "id": "Sdukk1-4foCo",
        "outputId": "ea00235c-cb95-417b-9363-0d7ba6ea95e9"
      },
      "execution_count": null,
      "outputs": [
        {
          "output_type": "error",
          "ename": "AttributeError",
          "evalue": "'str' object has no attribute 'sort'",
          "traceback": [
            "\u001b[0;31m---------------------------------------------------------------------------\u001b[0m",
            "\u001b[0;31mAttributeError\u001b[0m                            Traceback (most recent call last)",
            "\u001b[0;32m<ipython-input-49-a913f33d29b2>\u001b[0m in \u001b[0;36m<cell line: 1>\u001b[0;34m()\u001b[0m\n\u001b[0;32m----> 1\u001b[0;31m \u001b[0;34m\"random i am\"\u001b[0m\u001b[0;34m.\u001b[0m\u001b[0msort\u001b[0m\u001b[0;34m(\u001b[0m\u001b[0;34m)\u001b[0m\u001b[0;34m\u001b[0m\u001b[0;34m\u001b[0m\u001b[0m\n\u001b[0m",
            "\u001b[0;31mAttributeError\u001b[0m: 'str' object has no attribute 'sort'"
          ]
        }
      ]
    },
    {
      "cell_type": "code",
      "source": [
        "# if error happens:\n",
        "#   tell me the error and continue with the remain code"
      ],
      "metadata": {
        "id": "H8FVWZG2ft8U"
      },
      "execution_count": null,
      "outputs": []
    },
    {
      "cell_type": "markdown",
      "source": [
        "## Exception Handling"
      ],
      "metadata": {
        "id": "aOgDk5BsgJTR"
      }
    },
    {
      "cell_type": "code",
      "source": [
        "def i_divide_by_zero(a):\n",
        "    return a / 1\n",
        "\n",
        "try:\n",
        "  w = i_divide_by_zero(10)\n",
        "  print(wfedhghd)\n",
        "except:\n",
        "  print(\"Why are you dividing by zero?\")\n",
        "\n",
        "\n",
        "# w = i_divide_by_zero(10)\n",
        "# print(wfedhghd)\n",
        "\n",
        "print(\"This is a great day\")\n"
      ],
      "metadata": {
        "colab": {
          "base_uri": "https://localhost:8080/",
          "height": 211
        },
        "id": "v3Bv6XJEgK0F",
        "outputId": "069e023e-d601-498f-f6ef-a1ac74e86980"
      },
      "execution_count": null,
      "outputs": [
        {
          "output_type": "error",
          "ename": "NameError",
          "evalue": "name 'wfedhghd' is not defined",
          "traceback": [
            "\u001b[0;31m---------------------------------------------------------------------------\u001b[0m",
            "\u001b[0;31mNameError\u001b[0m                                 Traceback (most recent call last)",
            "\u001b[0;32m<ipython-input-60-7d2296855b65>\u001b[0m in \u001b[0;36m<cell line: 12>\u001b[0;34m()\u001b[0m\n\u001b[1;32m     10\u001b[0m \u001b[0;34m\u001b[0m\u001b[0m\n\u001b[1;32m     11\u001b[0m \u001b[0mw\u001b[0m \u001b[0;34m=\u001b[0m \u001b[0mi_divide_by_zero\u001b[0m\u001b[0;34m(\u001b[0m\u001b[0;36m10\u001b[0m\u001b[0;34m)\u001b[0m\u001b[0;34m\u001b[0m\u001b[0;34m\u001b[0m\u001b[0m\n\u001b[0;32m---> 12\u001b[0;31m \u001b[0mprint\u001b[0m\u001b[0;34m(\u001b[0m\u001b[0mwfedhghd\u001b[0m\u001b[0;34m)\u001b[0m\u001b[0;34m\u001b[0m\u001b[0;34m\u001b[0m\u001b[0m\n\u001b[0m\u001b[1;32m     13\u001b[0m \u001b[0;34m\u001b[0m\u001b[0m\n\u001b[1;32m     14\u001b[0m \u001b[0mprint\u001b[0m\u001b[0;34m(\u001b[0m\u001b[0;34m\"This is a great day\"\u001b[0m\u001b[0;34m)\u001b[0m\u001b[0;34m\u001b[0m\u001b[0;34m\u001b[0m\u001b[0m\n",
            "\u001b[0;31mNameError\u001b[0m: name 'wfedhghd' is not defined"
          ]
        }
      ]
    },
    {
      "cell_type": "code",
      "source": [
        "# Getting what exception is occuring -\n",
        "\n",
        "l1 = [2, 0, \"hello\", None]\n",
        "\n",
        "for e in l1:\n",
        "    try:\n",
        "        print(f\"Current element - {e}\")\n",
        "        result = 5 / int(e)\n",
        "        print(f\"Result - {result}\")\n",
        "\n",
        "    except Exception as exp:\n",
        "        print(f\"Excpetion - {exp}\")\n",
        "\n",
        "    print(\"-\"*50)\n",
        "\n",
        "print(\"Execution Successful!\")"
      ],
      "metadata": {
        "colab": {
          "base_uri": "https://localhost:8080/"
        },
        "id": "5gxRxJ9IgWhk",
        "outputId": "99fe30e8-ac4c-4ec7-97a5-a4a85df25d03"
      },
      "execution_count": null,
      "outputs": [
        {
          "output_type": "stream",
          "name": "stdout",
          "text": [
            "Current element - 2\n",
            "Result - 2.5\n",
            "--------------------------------------------------\n",
            "Current element - 0\n",
            "Excpetion - division by zero\n",
            "--------------------------------------------------\n",
            "Current element - hello\n",
            "Excpetion - invalid literal for int() with base 10: 'hello'\n",
            "--------------------------------------------------\n",
            "Current element - None\n",
            "Excpetion - int() argument must be a string, a bytes-like object or a real number, not 'NoneType'\n",
            "--------------------------------------------------\n",
            "Execution Successful!\n"
          ]
        }
      ]
    },
    {
      "cell_type": "code",
      "source": [
        "# Handling different exceptions differently -\n",
        "\n",
        "l1 = [2, 0, \"hello\", None]\n",
        "\n",
        "for e in l1:\n",
        "    try:\n",
        "        print(f\"Current element - {e}\")\n",
        "        result = 5 / int(e)\n",
        "        print(f\"Result - {result}\")\n",
        "    except ZeroDivisionError as z:\n",
        "        print(f\"You divided by zero. Number is {e}!\")\n",
        "    except Exception as exp:\n",
        "        print(f\"Exception - {exp}\")\n",
        "\n",
        "    print(\"-\"*50)\n",
        "\n",
        "print(\"Execution Successful!\")"
      ],
      "metadata": {
        "colab": {
          "base_uri": "https://localhost:8080/"
        },
        "id": "AlBXOGmOh-cU",
        "outputId": "583d1b9e-8142-42eb-c5af-3163a8f2c18b"
      },
      "execution_count": null,
      "outputs": [
        {
          "output_type": "stream",
          "name": "stdout",
          "text": [
            "Current element - 2\n",
            "Result - 2.5\n",
            "--------------------------------------------------\n",
            "Current element - 0\n",
            "You divided by zero. Number is 0!\n",
            "--------------------------------------------------\n",
            "Current element - hello\n",
            "Exception - invalid literal for int() with base 10: 'hello'\n",
            "--------------------------------------------------\n",
            "Current element - None\n",
            "Exception - int() argument must be a string, a bytes-like object or a real number, not 'NoneType'\n",
            "--------------------------------------------------\n",
            "Execution Successful!\n"
          ]
        }
      ]
    },
    {
      "cell_type": "markdown",
      "source": [
        "## finally"
      ],
      "metadata": {
        "id": "gfCH0mD5jXOI"
      }
    },
    {
      "cell_type": "code",
      "source": [
        "try:\n",
        "    print(\"I am trying!\")\n",
        "    1/0\n",
        "\n",
        "except:\n",
        "    print(\"Exception\")\n",
        "\n",
        "\n",
        "finally:\n",
        "    print(\"FINALLY\")"
      ],
      "metadata": {
        "colab": {
          "base_uri": "https://localhost:8080/"
        },
        "id": "DQXkg7I9i7Od",
        "outputId": "c7ff2aa5-c1ef-4cb0-d3e2-a7125991f204"
      },
      "execution_count": null,
      "outputs": [
        {
          "output_type": "stream",
          "name": "stdout",
          "text": [
            "I am trying!\n",
            "Exception\n",
            "FINALLY\n"
          ]
        }
      ]
    },
    {
      "cell_type": "markdown",
      "source": [
        "Homework: Find out why finally exists when we can achieve same code structure using a print statement."
      ],
      "metadata": {
        "id": "iTLx-ryjkHK1"
      }
    },
    {
      "cell_type": "code",
      "source": [
        "try:\n",
        "    print(\"I am trying!\")\n",
        "    1/0\n",
        "\n",
        "except:\n",
        "    print(\"Exception\")\n",
        "\n",
        "\n",
        "print(\"FINALLY\")"
      ],
      "metadata": {
        "colab": {
          "base_uri": "https://localhost:8080/"
        },
        "id": "pIBbEiRvjnQu",
        "outputId": "f32f6cfc-cd3a-4cbb-ee3e-96758a6dfb16"
      },
      "execution_count": null,
      "outputs": [
        {
          "output_type": "stream",
          "name": "stdout",
          "text": [
            "I am trying!\n",
            "Exception\n",
            "FINALLY\n"
          ]
        }
      ]
    },
    {
      "cell_type": "code",
      "source": [
        "raise Exception(\"This password is incorrect!\")"
      ],
      "metadata": {
        "colab": {
          "base_uri": "https://localhost:8080/",
          "height": 141
        },
        "id": "hXMgNek6kLEM",
        "outputId": "885ae768-603e-4e75-9ac5-4ccecd92c045"
      },
      "execution_count": null,
      "outputs": [
        {
          "output_type": "error",
          "ename": "Exception",
          "evalue": "This password is incorrect!",
          "traceback": [
            "\u001b[0;31m---------------------------------------------------------------------------\u001b[0m",
            "\u001b[0;31mException\u001b[0m                                 Traceback (most recent call last)",
            "\u001b[0;32m<ipython-input-67-06bd7c35b8f2>\u001b[0m in \u001b[0;36m<cell line: 1>\u001b[0;34m()\u001b[0m\n\u001b[0;32m----> 1\u001b[0;31m \u001b[0;32mraise\u001b[0m \u001b[0mException\u001b[0m\u001b[0;34m(\u001b[0m\u001b[0;34m\"This password is incorrect!\"\u001b[0m\u001b[0;34m)\u001b[0m\u001b[0;34m\u001b[0m\u001b[0;34m\u001b[0m\u001b[0m\n\u001b[0m",
            "\u001b[0;31mException\u001b[0m: This password is incorrect!"
          ]
        }
      ]
    },
    {
      "cell_type": "code",
      "source": [
        "num = 5\n",
        "if num%2 != 0:\n",
        "    raise Exception(\"Number is odd!\")"
      ],
      "metadata": {
        "colab": {
          "base_uri": "https://localhost:8080/",
          "height": 176
        },
        "id": "hh8gnsNhkrZS",
        "outputId": "0f5ecdaa-9a58-41b4-cdac-4706141b4296"
      },
      "execution_count": null,
      "outputs": [
        {
          "output_type": "error",
          "ename": "Exception",
          "evalue": "Number is odd!",
          "traceback": [
            "\u001b[0;31m---------------------------------------------------------------------------\u001b[0m",
            "\u001b[0;31mException\u001b[0m                                 Traceback (most recent call last)",
            "\u001b[0;32m<ipython-input-68-9e98b5a32062>\u001b[0m in \u001b[0;36m<cell line: 2>\u001b[0;34m()\u001b[0m\n\u001b[1;32m      1\u001b[0m \u001b[0mnum\u001b[0m \u001b[0;34m=\u001b[0m \u001b[0;36m5\u001b[0m\u001b[0;34m\u001b[0m\u001b[0;34m\u001b[0m\u001b[0m\n\u001b[1;32m      2\u001b[0m \u001b[0;32mif\u001b[0m \u001b[0mnum\u001b[0m\u001b[0;34m%\u001b[0m\u001b[0;36m2\u001b[0m \u001b[0;34m!=\u001b[0m \u001b[0;36m0\u001b[0m\u001b[0;34m:\u001b[0m\u001b[0;34m\u001b[0m\u001b[0;34m\u001b[0m\u001b[0m\n\u001b[0;32m----> 3\u001b[0;31m     \u001b[0;32mraise\u001b[0m \u001b[0mException\u001b[0m\u001b[0;34m(\u001b[0m\u001b[0;34m\"Number is odd!\"\u001b[0m\u001b[0;34m)\u001b[0m\u001b[0;34m\u001b[0m\u001b[0;34m\u001b[0m\u001b[0m\n\u001b[0m",
            "\u001b[0;31mException\u001b[0m: Number is odd!"
          ]
        }
      ]
    },
    {
      "cell_type": "code",
      "source": [
        "a = [1,2,3,4,5,0,4]\n",
        "num = 15\n",
        "\n",
        "try:\n",
        "  for ele in a:\n",
        "    print(15/ele)\n",
        "\n",
        "except:\n",
        "  raise Exception(\"Number is zero!\")\n"
      ],
      "metadata": {
        "colab": {
          "base_uri": "https://localhost:8080/",
          "height": 436
        },
        "id": "tWdxyqPbkz-L",
        "outputId": "194bf145-021e-4e7f-dc5c-29e1caf3a544"
      },
      "execution_count": null,
      "outputs": [
        {
          "output_type": "stream",
          "name": "stdout",
          "text": [
            "15.0\n",
            "7.5\n",
            "5.0\n",
            "3.75\n",
            "3.0\n"
          ]
        },
        {
          "output_type": "error",
          "ename": "Exception",
          "evalue": "Number is zero!",
          "traceback": [
            "\u001b[0;31m---------------------------------------------------------------------------\u001b[0m",
            "\u001b[0;31mZeroDivisionError\u001b[0m                         Traceback (most recent call last)",
            "\u001b[0;32m<ipython-input-72-3bef1c34317a>\u001b[0m in \u001b[0;36m<cell line: 4>\u001b[0;34m()\u001b[0m\n\u001b[1;32m      5\u001b[0m   \u001b[0;32mfor\u001b[0m \u001b[0mele\u001b[0m \u001b[0;32min\u001b[0m \u001b[0ma\u001b[0m\u001b[0;34m:\u001b[0m\u001b[0;34m\u001b[0m\u001b[0;34m\u001b[0m\u001b[0m\n\u001b[0;32m----> 6\u001b[0;31m     \u001b[0mprint\u001b[0m\u001b[0;34m(\u001b[0m\u001b[0;36m15\u001b[0m\u001b[0;34m/\u001b[0m\u001b[0mele\u001b[0m\u001b[0;34m)\u001b[0m\u001b[0;34m\u001b[0m\u001b[0;34m\u001b[0m\u001b[0m\n\u001b[0m\u001b[1;32m      7\u001b[0m \u001b[0;34m\u001b[0m\u001b[0m\n",
            "\u001b[0;31mZeroDivisionError\u001b[0m: division by zero",
            "\nDuring handling of the above exception, another exception occurred:\n",
            "\u001b[0;31mException\u001b[0m                                 Traceback (most recent call last)",
            "\u001b[0;32m<ipython-input-72-3bef1c34317a>\u001b[0m in \u001b[0;36m<cell line: 4>\u001b[0;34m()\u001b[0m\n\u001b[1;32m      7\u001b[0m \u001b[0;34m\u001b[0m\u001b[0m\n\u001b[1;32m      8\u001b[0m \u001b[0;32mexcept\u001b[0m\u001b[0;34m:\u001b[0m\u001b[0;34m\u001b[0m\u001b[0;34m\u001b[0m\u001b[0m\n\u001b[0;32m----> 9\u001b[0;31m   \u001b[0;32mraise\u001b[0m \u001b[0mException\u001b[0m\u001b[0;34m(\u001b[0m\u001b[0;34m\"Number is zero!\"\u001b[0m\u001b[0;34m)\u001b[0m\u001b[0;34m\u001b[0m\u001b[0;34m\u001b[0m\u001b[0m\n\u001b[0m",
            "\u001b[0;31mException\u001b[0m: Number is zero!"
          ]
        }
      ]
    },
    {
      "cell_type": "markdown",
      "source": [
        "assert"
      ],
      "metadata": {
        "id": "3dYDRJHSl0pF"
      }
    },
    {
      "cell_type": "code",
      "source": [
        "x = \"hello\"\n",
        "\n",
        "assert x == \"hello\", \"Hello world\""
      ],
      "metadata": {
        "id": "kyIemcrplQ-O"
      },
      "execution_count": null,
      "outputs": []
    },
    {
      "cell_type": "code",
      "source": [
        "try:\n",
        "  assert False, \"Hellow, this is an error\"\n",
        "\n",
        "except AssertionError as e:\n",
        "  print(e)\n"
      ],
      "metadata": {
        "colab": {
          "base_uri": "https://localhost:8080/"
        },
        "id": "VwOmEkYBl9u0",
        "outputId": "08bf7cf3-8e31-462f-c071-f17a69a43503"
      },
      "execution_count": null,
      "outputs": [
        {
          "output_type": "stream",
          "name": "stdout",
          "text": [
            "Hellow, this is an error\n"
          ]
        }
      ]
    },
    {
      "cell_type": "code",
      "source": [
        "assert False"
      ],
      "metadata": {
        "colab": {
          "base_uri": "https://localhost:8080/",
          "height": 141
        },
        "id": "78mDrZfamXDE",
        "outputId": "ade4f88a-4d55-49a8-96e6-652524be28bc"
      },
      "execution_count": null,
      "outputs": [
        {
          "output_type": "error",
          "ename": "AssertionError",
          "evalue": "",
          "traceback": [
            "\u001b[0;31m---------------------------------------------------------------------------\u001b[0m",
            "\u001b[0;31mAssertionError\u001b[0m                            Traceback (most recent call last)",
            "\u001b[0;32m<ipython-input-79-a871fdc9ebee>\u001b[0m in \u001b[0;36m<cell line: 1>\u001b[0;34m()\u001b[0m\n\u001b[0;32m----> 1\u001b[0;31m \u001b[0;32massert\u001b[0m \u001b[0;32mFalse\u001b[0m\u001b[0;34m\u001b[0m\u001b[0;34m\u001b[0m\u001b[0m\n\u001b[0m",
            "\u001b[0;31mAssertionError\u001b[0m: "
          ]
        }
      ]
    },
    {
      "cell_type": "code",
      "source": [
        "l1 = [2, 0, \"hello\", None]\n",
        "\n",
        "for e in l1:\n",
        "    try:\n",
        "        result = 5 / int(e)\n",
        "        print(f\"{result}: N\")\n",
        "\n",
        "    except ZeroDivisionError as z:\n",
        "      print(\"Z\")\n",
        "\n",
        "    except Exception as ex:\n",
        "        print(\"E\")\n",
        "\n",
        "\n",
        "\n",
        "\n"
      ],
      "metadata": {
        "colab": {
          "base_uri": "https://localhost:8080/"
        },
        "id": "fucTE8COmZR5",
        "outputId": "a8b5cfb5-36bc-4b3f-f182-226a4c2b8988"
      },
      "execution_count": null,
      "outputs": [
        {
          "output_type": "stream",
          "name": "stdout",
          "text": [
            "2.5: N\n",
            "Z\n",
            "E\n",
            "E\n"
          ]
        }
      ]
    },
    {
      "cell_type": "code",
      "source": [],
      "metadata": {
        "id": "6QM_4ux5niMs"
      },
      "execution_count": null,
      "outputs": []
    }
  ]
}