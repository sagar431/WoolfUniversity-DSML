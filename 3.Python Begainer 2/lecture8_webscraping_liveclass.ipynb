{
  "nbformat": 4,
  "nbformat_minor": 0,
  "metadata": {
    "colab": {
      "provenance": []
    },
    "kernelspec": {
      "name": "python3",
      "display_name": "Python 3"
    },
    "language_info": {
      "name": "python"
    }
  },
  "cells": [
    {
      "cell_type": "markdown",
      "source": [
        "# H1\n",
        "## H2\n",
        "### H3\n",
        "#### H4\n",
        "\n",
        "<a class=\"mw-jump-link\" href=\"https://google.com\n",
        "\">Jump to content</a>"
      ],
      "metadata": {
        "id": "NSoJfelMXWt5"
      }
    },
    {
      "cell_type": "code",
      "source": [
        "import requests\n",
        "\n",
        "base_url = \"http://books.toscrape.com/index.html\"\n",
        "home_page = requests.get(base_url)\n",
        "\n",
        "# checking whether the request made was successful or not\n",
        "if home_page.status_code == 200:\n",
        "  print(\"SUCCESS\")\n",
        "else:\n",
        "  print(f\"FAILED, status code: {home_page.status_code}\")"
      ],
      "metadata": {
        "colab": {
          "base_uri": "https://localhost:8080/"
        },
        "id": "cxe-HWvLZ1en",
        "outputId": "8ed061d1-b318-4b71-83c2-9a43298ff36b"
      },
      "execution_count": null,
      "outputs": [
        {
          "output_type": "stream",
          "name": "stdout",
          "text": [
            "SUCCESS\n"
          ]
        }
      ]
    },
    {
      "cell_type": "markdown",
      "source": [
        "Information about some common staus codes :\n",
        "- 200 OK: The request has been successfully processed, and the server returns the requested content.\n",
        "- 404 Not Found: The requested resource or page could not be found on the server.\n",
        "- 403 Forbidden: Access to the requested resource is forbidden or not allowed for the client.\n",
        "- 500 Internal Server Error: The server encountered an unexpected error while processing the request.\n",
        "- 302 Found (or 301 Moved Permanently): The requested resource has been temporarily (or permanently) moved to a different URL, and the client should follow the redirection.\n"
      ],
      "metadata": {
        "id": "k0fH4txva6yX"
      }
    },
    {
      "cell_type": "markdown",
      "source": [
        "## Web Scraping"
      ],
      "metadata": {
        "id": "OfHi1h1JcKez"
      }
    },
    {
      "cell_type": "code",
      "execution_count": null,
      "metadata": {
        "id": "Uy4XxNpBM-C9"
      },
      "outputs": [],
      "source": [
        "from bs4 import BeautifulSoup"
      ]
    },
    {
      "cell_type": "code",
      "source": [
        "soup = BeautifulSoup(markup=home_page.content, parser=\"html.parser\")"
      ],
      "metadata": {
        "id": "bgW7ccDBcTAb"
      },
      "execution_count": null,
      "outputs": []
    },
    {
      "cell_type": "code",
      "source": [
        "soup"
      ],
      "metadata": {
        "colab": {
          "base_uri": "https://localhost:8080/"
        },
        "id": "KNZx3EYpcqIt",
        "outputId": "89615f93-40d4-40d3-9351-263f74abe3fd"
      },
      "execution_count": null,
      "outputs": [
        {
          "output_type": "execute_result",
          "data": {
            "text/plain": [
              "<!DOCTYPE html>\n",
              "<!--[if lt IE 7]>      <html lang=\"en-us\" class=\"no-js lt-ie9 lt-ie8 lt-ie7\"> <![endif]--><!--[if IE 7]>         <html lang=\"en-us\" class=\"no-js lt-ie9 lt-ie8\"> <![endif]--><!--[if IE 8]>         <html lang=\"en-us\" class=\"no-js lt-ie9\"> <![endif]--><!--[if gt IE 8]><!--><html class=\"no-js\" lang=\"en-us\"> <!--<![endif]-->\n",
              "<head>\n",
              "<title>\n",
              "    All products | Books to Scrape - Sandbox\n",
              "</title>\n",
              "<meta content=\"text/html; charset=utf-8\" http-equiv=\"content-type\"/>\n",
              "<meta content=\"24th Jun 2016 09:29\" name=\"created\"/>\n",
              "<meta content=\"\" name=\"description\"/>\n",
              "<meta content=\"width=device-width\" name=\"viewport\"/>\n",
              "<meta content=\"NOARCHIVE,NOCACHE\" name=\"robots\"/>\n",
              "<!-- Le HTML5 shim, for IE6-8 support of HTML elements -->\n",
              "<!--[if lt IE 9]>\n",
              "        <script src=\"//html5shim.googlecode.com/svn/trunk/html5.js\"></script>\n",
              "        <![endif]-->\n",
              "<link href=\"static/oscar/favicon.ico\" rel=\"shortcut icon\"/>\n",
              "<link href=\"static/oscar/css/styles.css\" rel=\"stylesheet\" type=\"text/css\"/>\n",
              "<link href=\"static/oscar/js/bootstrap-datetimepicker/bootstrap-datetimepicker.css\" rel=\"stylesheet\"/>\n",
              "<link href=\"static/oscar/css/datetimepicker.css\" rel=\"stylesheet\" type=\"text/css\"/>\n",
              "</head>\n",
              "<body class=\"default\" id=\"default\">\n",
              "<header class=\"header container-fluid\">\n",
              "<div class=\"page_inner\">\n",
              "<div class=\"row\">\n",
              "<div class=\"col-sm-8 h1\"><a href=\"index.html\">Books to Scrape</a><small> We love being scraped!</small>\n",
              "</div>\n",
              "</div>\n",
              "</div>\n",
              "</header>\n",
              "<div class=\"container-fluid page\">\n",
              "<div class=\"page_inner\">\n",
              "<ul class=\"breadcrumb\">\n",
              "<li>\n",
              "<a href=\"index.html\">Home</a>\n",
              "</li>\n",
              "<li class=\"active\">All products</li>\n",
              "</ul>\n",
              "<div class=\"row\">\n",
              "<aside class=\"sidebar col-sm-4 col-md-3\">\n",
              "<div id=\"promotions_left\">\n",
              "</div>\n",
              "<div class=\"side_categories\">\n",
              "<ul class=\"nav nav-list\">\n",
              "<li>\n",
              "<a href=\"catalogue/category/books_1/index.html\">\n",
              "                            \n",
              "                                Books\n",
              "                            \n",
              "                        </a>\n",
              "<ul>\n",
              "<li>\n",
              "<a href=\"catalogue/category/books/travel_2/index.html\">\n",
              "                            \n",
              "                                Travel\n",
              "                            \n",
              "                        </a>\n",
              "</li>\n",
              "<li>\n",
              "<a href=\"catalogue/category/books/mystery_3/index.html\">\n",
              "                            \n",
              "                                Mystery\n",
              "                            \n",
              "                        </a>\n",
              "</li>\n",
              "<li>\n",
              "<a href=\"catalogue/category/books/historical-fiction_4/index.html\">\n",
              "                            \n",
              "                                Historical Fiction\n",
              "                            \n",
              "                        </a>\n",
              "</li>\n",
              "<li>\n",
              "<a href=\"catalogue/category/books/sequential-art_5/index.html\">\n",
              "                            \n",
              "                                Sequential Art\n",
              "                            \n",
              "                        </a>\n",
              "</li>\n",
              "<li>\n",
              "<a href=\"catalogue/category/books/classics_6/index.html\">\n",
              "                            \n",
              "                                Classics\n",
              "                            \n",
              "                        </a>\n",
              "</li>\n",
              "<li>\n",
              "<a href=\"catalogue/category/books/philosophy_7/index.html\">\n",
              "                            \n",
              "                                Philosophy\n",
              "                            \n",
              "                        </a>\n",
              "</li>\n",
              "<li>\n",
              "<a href=\"catalogue/category/books/romance_8/index.html\">\n",
              "                            \n",
              "                                Romance\n",
              "                            \n",
              "                        </a>\n",
              "</li>\n",
              "<li>\n",
              "<a href=\"catalogue/category/books/womens-fiction_9/index.html\">\n",
              "                            \n",
              "                                Womens Fiction\n",
              "                            \n",
              "                        </a>\n",
              "</li>\n",
              "<li>\n",
              "<a href=\"catalogue/category/books/fiction_10/index.html\">\n",
              "                            \n",
              "                                Fiction\n",
              "                            \n",
              "                        </a>\n",
              "</li>\n",
              "<li>\n",
              "<a href=\"catalogue/category/books/childrens_11/index.html\">\n",
              "                            \n",
              "                                Childrens\n",
              "                            \n",
              "                        </a>\n",
              "</li>\n",
              "<li>\n",
              "<a href=\"catalogue/category/books/religion_12/index.html\">\n",
              "                            \n",
              "                                Religion\n",
              "                            \n",
              "                        </a>\n",
              "</li>\n",
              "<li>\n",
              "<a href=\"catalogue/category/books/nonfiction_13/index.html\">\n",
              "                            \n",
              "                                Nonfiction\n",
              "                            \n",
              "                        </a>\n",
              "</li>\n",
              "<li>\n",
              "<a href=\"catalogue/category/books/music_14/index.html\">\n",
              "                            \n",
              "                                Music\n",
              "                            \n",
              "                        </a>\n",
              "</li>\n",
              "<li>\n",
              "<a href=\"catalogue/category/books/default_15/index.html\">\n",
              "                            \n",
              "                                Default\n",
              "                            \n",
              "                        </a>\n",
              "</li>\n",
              "<li>\n",
              "<a href=\"catalogue/category/books/science-fiction_16/index.html\">\n",
              "                            \n",
              "                                Science Fiction\n",
              "                            \n",
              "                        </a>\n",
              "</li>\n",
              "<li>\n",
              "<a href=\"catalogue/category/books/sports-and-games_17/index.html\">\n",
              "                            \n",
              "                                Sports and Games\n",
              "                            \n",
              "                        </a>\n",
              "</li>\n",
              "<li>\n",
              "<a href=\"catalogue/category/books/add-a-comment_18/index.html\">\n",
              "                            \n",
              "                                Add a comment\n",
              "                            \n",
              "                        </a>\n",
              "</li>\n",
              "<li>\n",
              "<a href=\"catalogue/category/books/fantasy_19/index.html\">\n",
              "                            \n",
              "                                Fantasy\n",
              "                            \n",
              "                        </a>\n",
              "</li>\n",
              "<li>\n",
              "<a href=\"catalogue/category/books/new-adult_20/index.html\">\n",
              "                            \n",
              "                                New Adult\n",
              "                            \n",
              "                        </a>\n",
              "</li>\n",
              "<li>\n",
              "<a href=\"catalogue/category/books/young-adult_21/index.html\">\n",
              "                            \n",
              "                                Young Adult\n",
              "                            \n",
              "                        </a>\n",
              "</li>\n",
              "<li>\n",
              "<a href=\"catalogue/category/books/science_22/index.html\">\n",
              "                            \n",
              "                                Science\n",
              "                            \n",
              "                        </a>\n",
              "</li>\n",
              "<li>\n",
              "<a href=\"catalogue/category/books/poetry_23/index.html\">\n",
              "                            \n",
              "                                Poetry\n",
              "                            \n",
              "                        </a>\n",
              "</li>\n",
              "<li>\n",
              "<a href=\"catalogue/category/books/paranormal_24/index.html\">\n",
              "                            \n",
              "                                Paranormal\n",
              "                            \n",
              "                        </a>\n",
              "</li>\n",
              "<li>\n",
              "<a href=\"catalogue/category/books/art_25/index.html\">\n",
              "                            \n",
              "                                Art\n",
              "                            \n",
              "                        </a>\n",
              "</li>\n",
              "<li>\n",
              "<a href=\"catalogue/category/books/psychology_26/index.html\">\n",
              "                            \n",
              "                                Psychology\n",
              "                            \n",
              "                        </a>\n",
              "</li>\n",
              "<li>\n",
              "<a href=\"catalogue/category/books/autobiography_27/index.html\">\n",
              "                            \n",
              "                                Autobiography\n",
              "                            \n",
              "                        </a>\n",
              "</li>\n",
              "<li>\n",
              "<a href=\"catalogue/category/books/parenting_28/index.html\">\n",
              "                            \n",
              "                                Parenting\n",
              "                            \n",
              "                        </a>\n",
              "</li>\n",
              "<li>\n",
              "<a href=\"catalogue/category/books/adult-fiction_29/index.html\">\n",
              "                            \n",
              "                                Adult Fiction\n",
              "                            \n",
              "                        </a>\n",
              "</li>\n",
              "<li>\n",
              "<a href=\"catalogue/category/books/humor_30/index.html\">\n",
              "                            \n",
              "                                Humor\n",
              "                            \n",
              "                        </a>\n",
              "</li>\n",
              "<li>\n",
              "<a href=\"catalogue/category/books/horror_31/index.html\">\n",
              "                            \n",
              "                                Horror\n",
              "                            \n",
              "                        </a>\n",
              "</li>\n",
              "<li>\n",
              "<a href=\"catalogue/category/books/history_32/index.html\">\n",
              "                            \n",
              "                                History\n",
              "                            \n",
              "                        </a>\n",
              "</li>\n",
              "<li>\n",
              "<a href=\"catalogue/category/books/food-and-drink_33/index.html\">\n",
              "                            \n",
              "                                Food and Drink\n",
              "                            \n",
              "                        </a>\n",
              "</li>\n",
              "<li>\n",
              "<a href=\"catalogue/category/books/christian-fiction_34/index.html\">\n",
              "                            \n",
              "                                Christian Fiction\n",
              "                            \n",
              "                        </a>\n",
              "</li>\n",
              "<li>\n",
              "<a href=\"catalogue/category/books/business_35/index.html\">\n",
              "                            \n",
              "                                Business\n",
              "                            \n",
              "                        </a>\n",
              "</li>\n",
              "<li>\n",
              "<a href=\"catalogue/category/books/biography_36/index.html\">\n",
              "                            \n",
              "                                Biography\n",
              "                            \n",
              "                        </a>\n",
              "</li>\n",
              "<li>\n",
              "<a href=\"catalogue/category/books/thriller_37/index.html\">\n",
              "                            \n",
              "                                Thriller\n",
              "                            \n",
              "                        </a>\n",
              "</li>\n",
              "<li>\n",
              "<a href=\"catalogue/category/books/contemporary_38/index.html\">\n",
              "                            \n",
              "                                Contemporary\n",
              "                            \n",
              "                        </a>\n",
              "</li>\n",
              "<li>\n",
              "<a href=\"catalogue/category/books/spirituality_39/index.html\">\n",
              "                            \n",
              "                                Spirituality\n",
              "                            \n",
              "                        </a>\n",
              "</li>\n",
              "<li>\n",
              "<a href=\"catalogue/category/books/academic_40/index.html\">\n",
              "                            \n",
              "                                Academic\n",
              "                            \n",
              "                        </a>\n",
              "</li>\n",
              "<li>\n",
              "<a href=\"catalogue/category/books/self-help_41/index.html\">\n",
              "                            \n",
              "                                Self Help\n",
              "                            \n",
              "                        </a>\n",
              "</li>\n",
              "<li>\n",
              "<a href=\"catalogue/category/books/historical_42/index.html\">\n",
              "                            \n",
              "                                Historical\n",
              "                            \n",
              "                        </a>\n",
              "</li>\n",
              "<li>\n",
              "<a href=\"catalogue/category/books/christian_43/index.html\">\n",
              "                            \n",
              "                                Christian\n",
              "                            \n",
              "                        </a>\n",
              "</li>\n",
              "<li>\n",
              "<a href=\"catalogue/category/books/suspense_44/index.html\">\n",
              "                            \n",
              "                                Suspense\n",
              "                            \n",
              "                        </a>\n",
              "</li>\n",
              "<li>\n",
              "<a href=\"catalogue/category/books/short-stories_45/index.html\">\n",
              "                            \n",
              "                                Short Stories\n",
              "                            \n",
              "                        </a>\n",
              "</li>\n",
              "<li>\n",
              "<a href=\"catalogue/category/books/novels_46/index.html\">\n",
              "                            \n",
              "                                Novels\n",
              "                            \n",
              "                        </a>\n",
              "</li>\n",
              "<li>\n",
              "<a href=\"catalogue/category/books/health_47/index.html\">\n",
              "                            \n",
              "                                Health\n",
              "                            \n",
              "                        </a>\n",
              "</li>\n",
              "<li>\n",
              "<a href=\"catalogue/category/books/politics_48/index.html\">\n",
              "                            \n",
              "                                Politics\n",
              "                            \n",
              "                        </a>\n",
              "</li>\n",
              "<li>\n",
              "<a href=\"catalogue/category/books/cultural_49/index.html\">\n",
              "                            \n",
              "                                Cultural\n",
              "                            \n",
              "                        </a>\n",
              "</li>\n",
              "<li>\n",
              "<a href=\"catalogue/category/books/erotica_50/index.html\">\n",
              "                            \n",
              "                                Erotica\n",
              "                            \n",
              "                        </a>\n",
              "</li>\n",
              "<li>\n",
              "<a href=\"catalogue/category/books/crime_51/index.html\">\n",
              "                            \n",
              "                                Crime\n",
              "                            \n",
              "                        </a>\n",
              "</li>\n",
              "</ul></li>\n",
              "</ul>\n",
              "</div>\n",
              "</aside>\n",
              "<div class=\"col-sm-8 col-md-9\">\n",
              "<div class=\"page-header action\">\n",
              "<h1>All products</h1>\n",
              "</div>\n",
              "<div id=\"messages\">\n",
              "</div>\n",
              "<div id=\"promotions\">\n",
              "</div>\n",
              "<form class=\"form-horizontal\" method=\"get\">\n",
              "<div style=\"display:none\">\n",
              "</div>\n",
              "<strong>1000</strong> results - showing <strong>1</strong> to <strong>20</strong>.\n",
              "                \n",
              "            \n",
              "            \n",
              "        \n",
              "    </form>\n",
              "<section>\n",
              "<div class=\"alert alert-warning\" role=\"alert\"><strong>Warning!</strong> This is a demo website for web scraping purposes. Prices and ratings here were randomly assigned and have no real meaning.</div>\n",
              "<div>\n",
              "<ol class=\"row\">\n",
              "<li class=\"col-xs-6 col-sm-4 col-md-3 col-lg-3\">\n",
              "<article class=\"product_pod\">\n",
              "<div class=\"image_container\">\n",
              "<a href=\"catalogue/a-light-in-the-attic_1000/index.html\"><img alt=\"A Light in the Attic\" class=\"thumbnail\" src=\"media/cache/2c/da/2cdad67c44b002e7ead0cc35693c0e8b.jpg\"/></a>\n",
              "</div>\n",
              "<p class=\"star-rating Three\">\n",
              "<i class=\"icon-star\"></i>\n",
              "<i class=\"icon-star\"></i>\n",
              "<i class=\"icon-star\"></i>\n",
              "<i class=\"icon-star\"></i>\n",
              "<i class=\"icon-star\"></i>\n",
              "</p>\n",
              "<h3><a href=\"catalogue/a-light-in-the-attic_1000/index.html\" title=\"A Light in the Attic\">A Light in the ...</a></h3>\n",
              "<div class=\"product_price\">\n",
              "<p class=\"price_color\">£51.77</p>\n",
              "<p class=\"instock availability\">\n",
              "<i class=\"icon-ok\"></i>\n",
              "    \n",
              "        In stock\n",
              "    \n",
              "</p>\n",
              "<form>\n",
              "<button class=\"btn btn-primary btn-block\" data-loading-text=\"Adding...\" type=\"submit\">Add to basket</button>\n",
              "</form>\n",
              "</div>\n",
              "</article>\n",
              "</li>\n",
              "<li class=\"col-xs-6 col-sm-4 col-md-3 col-lg-3\">\n",
              "<article class=\"product_pod\">\n",
              "<div class=\"image_container\">\n",
              "<a href=\"catalogue/tipping-the-velvet_999/index.html\"><img alt=\"Tipping the Velvet\" class=\"thumbnail\" src=\"media/cache/26/0c/260c6ae16bce31c8f8c95daddd9f4a1c.jpg\"/></a>\n",
              "</div>\n",
              "<p class=\"star-rating One\">\n",
              "<i class=\"icon-star\"></i>\n",
              "<i class=\"icon-star\"></i>\n",
              "<i class=\"icon-star\"></i>\n",
              "<i class=\"icon-star\"></i>\n",
              "<i class=\"icon-star\"></i>\n",
              "</p>\n",
              "<h3><a href=\"catalogue/tipping-the-velvet_999/index.html\" title=\"Tipping the Velvet\">Tipping the Velvet</a></h3>\n",
              "<div class=\"product_price\">\n",
              "<p class=\"price_color\">£53.74</p>\n",
              "<p class=\"instock availability\">\n",
              "<i class=\"icon-ok\"></i>\n",
              "    \n",
              "        In stock\n",
              "    \n",
              "</p>\n",
              "<form>\n",
              "<button class=\"btn btn-primary btn-block\" data-loading-text=\"Adding...\" type=\"submit\">Add to basket</button>\n",
              "</form>\n",
              "</div>\n",
              "</article>\n",
              "</li>\n",
              "<li class=\"col-xs-6 col-sm-4 col-md-3 col-lg-3\">\n",
              "<article class=\"product_pod\">\n",
              "<div class=\"image_container\">\n",
              "<a href=\"catalogue/soumission_998/index.html\"><img alt=\"Soumission\" class=\"thumbnail\" src=\"media/cache/3e/ef/3eef99c9d9adef34639f510662022830.jpg\"/></a>\n",
              "</div>\n",
              "<p class=\"star-rating One\">\n",
              "<i class=\"icon-star\"></i>\n",
              "<i class=\"icon-star\"></i>\n",
              "<i class=\"icon-star\"></i>\n",
              "<i class=\"icon-star\"></i>\n",
              "<i class=\"icon-star\"></i>\n",
              "</p>\n",
              "<h3><a href=\"catalogue/soumission_998/index.html\" title=\"Soumission\">Soumission</a></h3>\n",
              "<div class=\"product_price\">\n",
              "<p class=\"price_color\">£50.10</p>\n",
              "<p class=\"instock availability\">\n",
              "<i class=\"icon-ok\"></i>\n",
              "    \n",
              "        In stock\n",
              "    \n",
              "</p>\n",
              "<form>\n",
              "<button class=\"btn btn-primary btn-block\" data-loading-text=\"Adding...\" type=\"submit\">Add to basket</button>\n",
              "</form>\n",
              "</div>\n",
              "</article>\n",
              "</li>\n",
              "<li class=\"col-xs-6 col-sm-4 col-md-3 col-lg-3\">\n",
              "<article class=\"product_pod\">\n",
              "<div class=\"image_container\">\n",
              "<a href=\"catalogue/sharp-objects_997/index.html\"><img alt=\"Sharp Objects\" class=\"thumbnail\" src=\"media/cache/32/51/3251cf3a3412f53f339e42cac2134093.jpg\"/></a>\n",
              "</div>\n",
              "<p class=\"star-rating Four\">\n",
              "<i class=\"icon-star\"></i>\n",
              "<i class=\"icon-star\"></i>\n",
              "<i class=\"icon-star\"></i>\n",
              "<i class=\"icon-star\"></i>\n",
              "<i class=\"icon-star\"></i>\n",
              "</p>\n",
              "<h3><a href=\"catalogue/sharp-objects_997/index.html\" title=\"Sharp Objects\">Sharp Objects</a></h3>\n",
              "<div class=\"product_price\">\n",
              "<p class=\"price_color\">£47.82</p>\n",
              "<p class=\"instock availability\">\n",
              "<i class=\"icon-ok\"></i>\n",
              "    \n",
              "        In stock\n",
              "    \n",
              "</p>\n",
              "<form>\n",
              "<button class=\"btn btn-primary btn-block\" data-loading-text=\"Adding...\" type=\"submit\">Add to basket</button>\n",
              "</form>\n",
              "</div>\n",
              "</article>\n",
              "</li>\n",
              "<li class=\"col-xs-6 col-sm-4 col-md-3 col-lg-3\">\n",
              "<article class=\"product_pod\">\n",
              "<div class=\"image_container\">\n",
              "<a href=\"catalogue/sapiens-a-brief-history-of-humankind_996/index.html\"><img alt=\"Sapiens: A Brief History of Humankind\" class=\"thumbnail\" src=\"media/cache/be/a5/bea5697f2534a2f86a3ef27b5a8c12a6.jpg\"/></a>\n",
              "</div>\n",
              "<p class=\"star-rating Five\">\n",
              "<i class=\"icon-star\"></i>\n",
              "<i class=\"icon-star\"></i>\n",
              "<i class=\"icon-star\"></i>\n",
              "<i class=\"icon-star\"></i>\n",
              "<i class=\"icon-star\"></i>\n",
              "</p>\n",
              "<h3><a href=\"catalogue/sapiens-a-brief-history-of-humankind_996/index.html\" title=\"Sapiens: A Brief History of Humankind\">Sapiens: A Brief History ...</a></h3>\n",
              "<div class=\"product_price\">\n",
              "<p class=\"price_color\">£54.23</p>\n",
              "<p class=\"instock availability\">\n",
              "<i class=\"icon-ok\"></i>\n",
              "    \n",
              "        In stock\n",
              "    \n",
              "</p>\n",
              "<form>\n",
              "<button class=\"btn btn-primary btn-block\" data-loading-text=\"Adding...\" type=\"submit\">Add to basket</button>\n",
              "</form>\n",
              "</div>\n",
              "</article>\n",
              "</li>\n",
              "<li class=\"col-xs-6 col-sm-4 col-md-3 col-lg-3\">\n",
              "<article class=\"product_pod\">\n",
              "<div class=\"image_container\">\n",
              "<a href=\"catalogue/the-requiem-red_995/index.html\"><img alt=\"The Requiem Red\" class=\"thumbnail\" src=\"media/cache/68/33/68339b4c9bc034267e1da611ab3b34f8.jpg\"/></a>\n",
              "</div>\n",
              "<p class=\"star-rating One\">\n",
              "<i class=\"icon-star\"></i>\n",
              "<i class=\"icon-star\"></i>\n",
              "<i class=\"icon-star\"></i>\n",
              "<i class=\"icon-star\"></i>\n",
              "<i class=\"icon-star\"></i>\n",
              "</p>\n",
              "<h3><a href=\"catalogue/the-requiem-red_995/index.html\" title=\"The Requiem Red\">The Requiem Red</a></h3>\n",
              "<div class=\"product_price\">\n",
              "<p class=\"price_color\">£22.65</p>\n",
              "<p class=\"instock availability\">\n",
              "<i class=\"icon-ok\"></i>\n",
              "    \n",
              "        In stock\n",
              "    \n",
              "</p>\n",
              "<form>\n",
              "<button class=\"btn btn-primary btn-block\" data-loading-text=\"Adding...\" type=\"submit\">Add to basket</button>\n",
              "</form>\n",
              "</div>\n",
              "</article>\n",
              "</li>\n",
              "<li class=\"col-xs-6 col-sm-4 col-md-3 col-lg-3\">\n",
              "<article class=\"product_pod\">\n",
              "<div class=\"image_container\">\n",
              "<a href=\"catalogue/the-dirty-little-secrets-of-getting-your-dream-job_994/index.html\"><img alt=\"The Dirty Little Secrets of Getting Your Dream Job\" class=\"thumbnail\" src=\"media/cache/92/27/92274a95b7c251fea59a2b8a78275ab4.jpg\"/></a>\n",
              "</div>\n",
              "<p class=\"star-rating Four\">\n",
              "<i class=\"icon-star\"></i>\n",
              "<i class=\"icon-star\"></i>\n",
              "<i class=\"icon-star\"></i>\n",
              "<i class=\"icon-star\"></i>\n",
              "<i class=\"icon-star\"></i>\n",
              "</p>\n",
              "<h3><a href=\"catalogue/the-dirty-little-secrets-of-getting-your-dream-job_994/index.html\" title=\"The Dirty Little Secrets of Getting Your Dream Job\">The Dirty Little Secrets ...</a></h3>\n",
              "<div class=\"product_price\">\n",
              "<p class=\"price_color\">£33.34</p>\n",
              "<p class=\"instock availability\">\n",
              "<i class=\"icon-ok\"></i>\n",
              "    \n",
              "        In stock\n",
              "    \n",
              "</p>\n",
              "<form>\n",
              "<button class=\"btn btn-primary btn-block\" data-loading-text=\"Adding...\" type=\"submit\">Add to basket</button>\n",
              "</form>\n",
              "</div>\n",
              "</article>\n",
              "</li>\n",
              "<li class=\"col-xs-6 col-sm-4 col-md-3 col-lg-3\">\n",
              "<article class=\"product_pod\">\n",
              "<div class=\"image_container\">\n",
              "<a href=\"catalogue/the-coming-woman-a-novel-based-on-the-life-of-the-infamous-feminist-victoria-woodhull_993/index.html\"><img alt=\"The Coming Woman: A Novel Based on the Life of the Infamous Feminist, Victoria Woodhull\" class=\"thumbnail\" src=\"media/cache/3d/54/3d54940e57e662c4dd1f3ff00c78cc64.jpg\"/></a>\n",
              "</div>\n",
              "<p class=\"star-rating Three\">\n",
              "<i class=\"icon-star\"></i>\n",
              "<i class=\"icon-star\"></i>\n",
              "<i class=\"icon-star\"></i>\n",
              "<i class=\"icon-star\"></i>\n",
              "<i class=\"icon-star\"></i>\n",
              "</p>\n",
              "<h3><a href=\"catalogue/the-coming-woman-a-novel-based-on-the-life-of-the-infamous-feminist-victoria-woodhull_993/index.html\" title=\"The Coming Woman: A Novel Based on the Life of the Infamous Feminist, Victoria Woodhull\">The Coming Woman: A ...</a></h3>\n",
              "<div class=\"product_price\">\n",
              "<p class=\"price_color\">£17.93</p>\n",
              "<p class=\"instock availability\">\n",
              "<i class=\"icon-ok\"></i>\n",
              "    \n",
              "        In stock\n",
              "    \n",
              "</p>\n",
              "<form>\n",
              "<button class=\"btn btn-primary btn-block\" data-loading-text=\"Adding...\" type=\"submit\">Add to basket</button>\n",
              "</form>\n",
              "</div>\n",
              "</article>\n",
              "</li>\n",
              "<li class=\"col-xs-6 col-sm-4 col-md-3 col-lg-3\">\n",
              "<article class=\"product_pod\">\n",
              "<div class=\"image_container\">\n",
              "<a href=\"catalogue/the-boys-in-the-boat-nine-americans-and-their-epic-quest-for-gold-at-the-1936-berlin-olympics_992/index.html\"><img alt=\"The Boys in the Boat: Nine Americans and Their Epic Quest for Gold at the 1936 Berlin Olympics\" class=\"thumbnail\" src=\"media/cache/66/88/66883b91f6804b2323c8369331cb7dd1.jpg\"/></a>\n",
              "</div>\n",
              "<p class=\"star-rating Four\">\n",
              "<i class=\"icon-star\"></i>\n",
              "<i class=\"icon-star\"></i>\n",
              "<i class=\"icon-star\"></i>\n",
              "<i class=\"icon-star\"></i>\n",
              "<i class=\"icon-star\"></i>\n",
              "</p>\n",
              "<h3><a href=\"catalogue/the-boys-in-the-boat-nine-americans-and-their-epic-quest-for-gold-at-the-1936-berlin-olympics_992/index.html\" title=\"The Boys in the Boat: Nine Americans and Their Epic Quest for Gold at the 1936 Berlin Olympics\">The Boys in the ...</a></h3>\n",
              "<div class=\"product_price\">\n",
              "<p class=\"price_color\">£22.60</p>\n",
              "<p class=\"instock availability\">\n",
              "<i class=\"icon-ok\"></i>\n",
              "    \n",
              "        In stock\n",
              "    \n",
              "</p>\n",
              "<form>\n",
              "<button class=\"btn btn-primary btn-block\" data-loading-text=\"Adding...\" type=\"submit\">Add to basket</button>\n",
              "</form>\n",
              "</div>\n",
              "</article>\n",
              "</li>\n",
              "<li class=\"col-xs-6 col-sm-4 col-md-3 col-lg-3\">\n",
              "<article class=\"product_pod\">\n",
              "<div class=\"image_container\">\n",
              "<a href=\"catalogue/the-black-maria_991/index.html\"><img alt=\"The Black Maria\" class=\"thumbnail\" src=\"media/cache/58/46/5846057e28022268153beff6d352b06c.jpg\"/></a>\n",
              "</div>\n",
              "<p class=\"star-rating One\">\n",
              "<i class=\"icon-star\"></i>\n",
              "<i class=\"icon-star\"></i>\n",
              "<i class=\"icon-star\"></i>\n",
              "<i class=\"icon-star\"></i>\n",
              "<i class=\"icon-star\"></i>\n",
              "</p>\n",
              "<h3><a href=\"catalogue/the-black-maria_991/index.html\" title=\"The Black Maria\">The Black Maria</a></h3>\n",
              "<div class=\"product_price\">\n",
              "<p class=\"price_color\">£52.15</p>\n",
              "<p class=\"instock availability\">\n",
              "<i class=\"icon-ok\"></i>\n",
              "    \n",
              "        In stock\n",
              "    \n",
              "</p>\n",
              "<form>\n",
              "<button class=\"btn btn-primary btn-block\" data-loading-text=\"Adding...\" type=\"submit\">Add to basket</button>\n",
              "</form>\n",
              "</div>\n",
              "</article>\n",
              "</li>\n",
              "<li class=\"col-xs-6 col-sm-4 col-md-3 col-lg-3\">\n",
              "<article class=\"product_pod\">\n",
              "<div class=\"image_container\">\n",
              "<a href=\"catalogue/starving-hearts-triangular-trade-trilogy-1_990/index.html\"><img alt=\"Starving Hearts (Triangular Trade Trilogy, #1)\" class=\"thumbnail\" src=\"media/cache/be/f4/bef44da28c98f905a3ebec0b87be8530.jpg\"/></a>\n",
              "</div>\n",
              "<p class=\"star-rating Two\">\n",
              "<i class=\"icon-star\"></i>\n",
              "<i class=\"icon-star\"></i>\n",
              "<i class=\"icon-star\"></i>\n",
              "<i class=\"icon-star\"></i>\n",
              "<i class=\"icon-star\"></i>\n",
              "</p>\n",
              "<h3><a href=\"catalogue/starving-hearts-triangular-trade-trilogy-1_990/index.html\" title=\"Starving Hearts (Triangular Trade Trilogy, #1)\">Starving Hearts (Triangular Trade ...</a></h3>\n",
              "<div class=\"product_price\">\n",
              "<p class=\"price_color\">£13.99</p>\n",
              "<p class=\"instock availability\">\n",
              "<i class=\"icon-ok\"></i>\n",
              "    \n",
              "        In stock\n",
              "    \n",
              "</p>\n",
              "<form>\n",
              "<button class=\"btn btn-primary btn-block\" data-loading-text=\"Adding...\" type=\"submit\">Add to basket</button>\n",
              "</form>\n",
              "</div>\n",
              "</article>\n",
              "</li>\n",
              "<li class=\"col-xs-6 col-sm-4 col-md-3 col-lg-3\">\n",
              "<article class=\"product_pod\">\n",
              "<div class=\"image_container\">\n",
              "<a href=\"catalogue/shakespeares-sonnets_989/index.html\"><img alt=\"Shakespeare's Sonnets\" class=\"thumbnail\" src=\"media/cache/10/48/1048f63d3b5061cd2f424d20b3f9b666.jpg\"/></a>\n",
              "</div>\n",
              "<p class=\"star-rating Four\">\n",
              "<i class=\"icon-star\"></i>\n",
              "<i class=\"icon-star\"></i>\n",
              "<i class=\"icon-star\"></i>\n",
              "<i class=\"icon-star\"></i>\n",
              "<i class=\"icon-star\"></i>\n",
              "</p>\n",
              "<h3><a href=\"catalogue/shakespeares-sonnets_989/index.html\" title=\"Shakespeare's Sonnets\">Shakespeare's Sonnets</a></h3>\n",
              "<div class=\"product_price\">\n",
              "<p class=\"price_color\">£20.66</p>\n",
              "<p class=\"instock availability\">\n",
              "<i class=\"icon-ok\"></i>\n",
              "    \n",
              "        In stock\n",
              "    \n",
              "</p>\n",
              "<form>\n",
              "<button class=\"btn btn-primary btn-block\" data-loading-text=\"Adding...\" type=\"submit\">Add to basket</button>\n",
              "</form>\n",
              "</div>\n",
              "</article>\n",
              "</li>\n",
              "<li class=\"col-xs-6 col-sm-4 col-md-3 col-lg-3\">\n",
              "<article class=\"product_pod\">\n",
              "<div class=\"image_container\">\n",
              "<a href=\"catalogue/set-me-free_988/index.html\"><img alt=\"Set Me Free\" class=\"thumbnail\" src=\"media/cache/5b/88/5b88c52633f53cacf162c15f4f823153.jpg\"/></a>\n",
              "</div>\n",
              "<p class=\"star-rating Five\">\n",
              "<i class=\"icon-star\"></i>\n",
              "<i class=\"icon-star\"></i>\n",
              "<i class=\"icon-star\"></i>\n",
              "<i class=\"icon-star\"></i>\n",
              "<i class=\"icon-star\"></i>\n",
              "</p>\n",
              "<h3><a href=\"catalogue/set-me-free_988/index.html\" title=\"Set Me Free\">Set Me Free</a></h3>\n",
              "<div class=\"product_price\">\n",
              "<p class=\"price_color\">£17.46</p>\n",
              "<p class=\"instock availability\">\n",
              "<i class=\"icon-ok\"></i>\n",
              "    \n",
              "        In stock\n",
              "    \n",
              "</p>\n",
              "<form>\n",
              "<button class=\"btn btn-primary btn-block\" data-loading-text=\"Adding...\" type=\"submit\">Add to basket</button>\n",
              "</form>\n",
              "</div>\n",
              "</article>\n",
              "</li>\n",
              "<li class=\"col-xs-6 col-sm-4 col-md-3 col-lg-3\">\n",
              "<article class=\"product_pod\">\n",
              "<div class=\"image_container\">\n",
              "<a href=\"catalogue/scott-pilgrims-precious-little-life-scott-pilgrim-1_987/index.html\"><img alt=\"Scott Pilgrim's Precious Little Life (Scott Pilgrim #1)\" class=\"thumbnail\" src=\"media/cache/94/b1/94b1b8b244bce9677c2f29ccc890d4d2.jpg\"/></a>\n",
              "</div>\n",
              "<p class=\"star-rating Five\">\n",
              "<i class=\"icon-star\"></i>\n",
              "<i class=\"icon-star\"></i>\n",
              "<i class=\"icon-star\"></i>\n",
              "<i class=\"icon-star\"></i>\n",
              "<i class=\"icon-star\"></i>\n",
              "</p>\n",
              "<h3><a href=\"catalogue/scott-pilgrims-precious-little-life-scott-pilgrim-1_987/index.html\" title=\"Scott Pilgrim's Precious Little Life (Scott Pilgrim #1)\">Scott Pilgrim's Precious Little ...</a></h3>\n",
              "<div class=\"product_price\">\n",
              "<p class=\"price_color\">£52.29</p>\n",
              "<p class=\"instock availability\">\n",
              "<i class=\"icon-ok\"></i>\n",
              "    \n",
              "        In stock\n",
              "    \n",
              "</p>\n",
              "<form>\n",
              "<button class=\"btn btn-primary btn-block\" data-loading-text=\"Adding...\" type=\"submit\">Add to basket</button>\n",
              "</form>\n",
              "</div>\n",
              "</article>\n",
              "</li>\n",
              "<li class=\"col-xs-6 col-sm-4 col-md-3 col-lg-3\">\n",
              "<article class=\"product_pod\">\n",
              "<div class=\"image_container\">\n",
              "<a href=\"catalogue/rip-it-up-and-start-again_986/index.html\"><img alt=\"Rip it Up and Start Again\" class=\"thumbnail\" src=\"media/cache/81/c4/81c4a973364e17d01f217e1188253d5e.jpg\"/></a>\n",
              "</div>\n",
              "<p class=\"star-rating Five\">\n",
              "<i class=\"icon-star\"></i>\n",
              "<i class=\"icon-star\"></i>\n",
              "<i class=\"icon-star\"></i>\n",
              "<i class=\"icon-star\"></i>\n",
              "<i class=\"icon-star\"></i>\n",
              "</p>\n",
              "<h3><a href=\"catalogue/rip-it-up-and-start-again_986/index.html\" title=\"Rip it Up and Start Again\">Rip it Up and ...</a></h3>\n",
              "<div class=\"product_price\">\n",
              "<p class=\"price_color\">£35.02</p>\n",
              "<p class=\"instock availability\">\n",
              "<i class=\"icon-ok\"></i>\n",
              "    \n",
              "        In stock\n",
              "    \n",
              "</p>\n",
              "<form>\n",
              "<button class=\"btn btn-primary btn-block\" data-loading-text=\"Adding...\" type=\"submit\">Add to basket</button>\n",
              "</form>\n",
              "</div>\n",
              "</article>\n",
              "</li>\n",
              "<li class=\"col-xs-6 col-sm-4 col-md-3 col-lg-3\">\n",
              "<article class=\"product_pod\">\n",
              "<div class=\"image_container\">\n",
              "<a href=\"catalogue/our-band-could-be-your-life-scenes-from-the-american-indie-underground-1981-1991_985/index.html\"><img alt=\"Our Band Could Be Your Life: Scenes from the American Indie Underground, 1981-1991\" class=\"thumbnail\" src=\"media/cache/54/60/54607fe8945897cdcced0044103b10b6.jpg\"/></a>\n",
              "</div>\n",
              "<p class=\"star-rating Three\">\n",
              "<i class=\"icon-star\"></i>\n",
              "<i class=\"icon-star\"></i>\n",
              "<i class=\"icon-star\"></i>\n",
              "<i class=\"icon-star\"></i>\n",
              "<i class=\"icon-star\"></i>\n",
              "</p>\n",
              "<h3><a href=\"catalogue/our-band-could-be-your-life-scenes-from-the-american-indie-underground-1981-1991_985/index.html\" title=\"Our Band Could Be Your Life: Scenes from the American Indie Underground, 1981-1991\">Our Band Could Be ...</a></h3>\n",
              "<div class=\"product_price\">\n",
              "<p class=\"price_color\">£57.25</p>\n",
              "<p class=\"instock availability\">\n",
              "<i class=\"icon-ok\"></i>\n",
              "    \n",
              "        In stock\n",
              "    \n",
              "</p>\n",
              "<form>\n",
              "<button class=\"btn btn-primary btn-block\" data-loading-text=\"Adding...\" type=\"submit\">Add to basket</button>\n",
              "</form>\n",
              "</div>\n",
              "</article>\n",
              "</li>\n",
              "<li class=\"col-xs-6 col-sm-4 col-md-3 col-lg-3\">\n",
              "<article class=\"product_pod\">\n",
              "<div class=\"image_container\">\n",
              "<a href=\"catalogue/olio_984/index.html\"><img alt=\"Olio\" class=\"thumbnail\" src=\"media/cache/55/33/553310a7162dfbc2c6d19a84da0df9e1.jpg\"/></a>\n",
              "</div>\n",
              "<p class=\"star-rating One\">\n",
              "<i class=\"icon-star\"></i>\n",
              "<i class=\"icon-star\"></i>\n",
              "<i class=\"icon-star\"></i>\n",
              "<i class=\"icon-star\"></i>\n",
              "<i class=\"icon-star\"></i>\n",
              "</p>\n",
              "<h3><a href=\"catalogue/olio_984/index.html\" title=\"Olio\">Olio</a></h3>\n",
              "<div class=\"product_price\">\n",
              "<p class=\"price_color\">£23.88</p>\n",
              "<p class=\"instock availability\">\n",
              "<i class=\"icon-ok\"></i>\n",
              "    \n",
              "        In stock\n",
              "    \n",
              "</p>\n",
              "<form>\n",
              "<button class=\"btn btn-primary btn-block\" data-loading-text=\"Adding...\" type=\"submit\">Add to basket</button>\n",
              "</form>\n",
              "</div>\n",
              "</article>\n",
              "</li>\n",
              "<li class=\"col-xs-6 col-sm-4 col-md-3 col-lg-3\">\n",
              "<article class=\"product_pod\">\n",
              "<div class=\"image_container\">\n",
              "<a href=\"catalogue/mesaerion-the-best-science-fiction-stories-1800-1849_983/index.html\"><img alt=\"Mesaerion: The Best Science Fiction Stories 1800-1849\" class=\"thumbnail\" src=\"media/cache/09/a3/09a3aef48557576e1a85ba7efea8ecb7.jpg\"/></a>\n",
              "</div>\n",
              "<p class=\"star-rating One\">\n",
              "<i class=\"icon-star\"></i>\n",
              "<i class=\"icon-star\"></i>\n",
              "<i class=\"icon-star\"></i>\n",
              "<i class=\"icon-star\"></i>\n",
              "<i class=\"icon-star\"></i>\n",
              "</p>\n",
              "<h3><a href=\"catalogue/mesaerion-the-best-science-fiction-stories-1800-1849_983/index.html\" title=\"Mesaerion: The Best Science Fiction Stories 1800-1849\">Mesaerion: The Best Science ...</a></h3>\n",
              "<div class=\"product_price\">\n",
              "<p class=\"price_color\">£37.59</p>\n",
              "<p class=\"instock availability\">\n",
              "<i class=\"icon-ok\"></i>\n",
              "    \n",
              "        In stock\n",
              "    \n",
              "</p>\n",
              "<form>\n",
              "<button class=\"btn btn-primary btn-block\" data-loading-text=\"Adding...\" type=\"submit\">Add to basket</button>\n",
              "</form>\n",
              "</div>\n",
              "</article>\n",
              "</li>\n",
              "<li class=\"col-xs-6 col-sm-4 col-md-3 col-lg-3\">\n",
              "<article class=\"product_pod\">\n",
              "<div class=\"image_container\">\n",
              "<a href=\"catalogue/libertarianism-for-beginners_982/index.html\"><img alt=\"Libertarianism for Beginners\" class=\"thumbnail\" src=\"media/cache/0b/bc/0bbcd0a6f4bcd81ccb1049a52736406e.jpg\"/></a>\n",
              "</div>\n",
              "<p class=\"star-rating Two\">\n",
              "<i class=\"icon-star\"></i>\n",
              "<i class=\"icon-star\"></i>\n",
              "<i class=\"icon-star\"></i>\n",
              "<i class=\"icon-star\"></i>\n",
              "<i class=\"icon-star\"></i>\n",
              "</p>\n",
              "<h3><a href=\"catalogue/libertarianism-for-beginners_982/index.html\" title=\"Libertarianism for Beginners\">Libertarianism for Beginners</a></h3>\n",
              "<div class=\"product_price\">\n",
              "<p class=\"price_color\">£51.33</p>\n",
              "<p class=\"instock availability\">\n",
              "<i class=\"icon-ok\"></i>\n",
              "    \n",
              "        In stock\n",
              "    \n",
              "</p>\n",
              "<form>\n",
              "<button class=\"btn btn-primary btn-block\" data-loading-text=\"Adding...\" type=\"submit\">Add to basket</button>\n",
              "</form>\n",
              "</div>\n",
              "</article>\n",
              "</li>\n",
              "<li class=\"col-xs-6 col-sm-4 col-md-3 col-lg-3\">\n",
              "<article class=\"product_pod\">\n",
              "<div class=\"image_container\">\n",
              "<a href=\"catalogue/its-only-the-himalayas_981/index.html\"><img alt=\"It's Only the Himalayas\" class=\"thumbnail\" src=\"media/cache/27/a5/27a53d0bb95bdd88288eaf66c9230d7e.jpg\"/></a>\n",
              "</div>\n",
              "<p class=\"star-rating Two\">\n",
              "<i class=\"icon-star\"></i>\n",
              "<i class=\"icon-star\"></i>\n",
              "<i class=\"icon-star\"></i>\n",
              "<i class=\"icon-star\"></i>\n",
              "<i class=\"icon-star\"></i>\n",
              "</p>\n",
              "<h3><a href=\"catalogue/its-only-the-himalayas_981/index.html\" title=\"It's Only the Himalayas\">It's Only the Himalayas</a></h3>\n",
              "<div class=\"product_price\">\n",
              "<p class=\"price_color\">£45.17</p>\n",
              "<p class=\"instock availability\">\n",
              "<i class=\"icon-ok\"></i>\n",
              "    \n",
              "        In stock\n",
              "    \n",
              "</p>\n",
              "<form>\n",
              "<button class=\"btn btn-primary btn-block\" data-loading-text=\"Adding...\" type=\"submit\">Add to basket</button>\n",
              "</form>\n",
              "</div>\n",
              "</article>\n",
              "</li>\n",
              "</ol>\n",
              "<div>\n",
              "<ul class=\"pager\">\n",
              "<li class=\"current\">\n",
              "            \n",
              "                Page 1 of 50\n",
              "            \n",
              "            </li>\n",
              "<li class=\"next\"><a href=\"catalogue/page-2.html\">next</a></li>\n",
              "</ul>\n",
              "</div>\n",
              "</div>\n",
              "</section>\n",
              "</div>\n",
              "</div><!-- /row -->\n",
              "</div><!-- /page_inner -->\n",
              "</div><!-- /container-fluid -->\n",
              "<footer class=\"footer container-fluid\">\n",
              "</footer>\n",
              "<!-- jQuery -->\n",
              "<script src=\"http://ajax.googleapis.com/ajax/libs/jquery/1.9.1/jquery.min.js\"></script>\n",
              "<script>window.jQuery || document.write('<script src=\"static/oscar/js/jquery/jquery-1.9.1.min.js\"><\\/script>')</script>\n",
              "<!-- Twitter Bootstrap -->\n",
              "<script src=\"static/oscar/js/bootstrap3/bootstrap.min.js\" type=\"text/javascript\"></script>\n",
              "<!-- Oscar -->\n",
              "<script charset=\"utf-8\" src=\"static/oscar/js/oscar/ui.js\" type=\"text/javascript\"></script>\n",
              "<script charset=\"utf-8\" src=\"static/oscar/js/bootstrap-datetimepicker/bootstrap-datetimepicker.js\" type=\"text/javascript\"></script>\n",
              "<script charset=\"utf-8\" src=\"static/oscar/js/bootstrap-datetimepicker/locales/bootstrap-datetimepicker.all.js\" type=\"text/javascript\"></script>\n",
              "<script type=\"text/javascript\">\n",
              "            $(function() {\n",
              "                \n",
              "    \n",
              "    \n",
              "    oscar.init();\n",
              "\n",
              "    oscar.search.init();\n",
              "\n",
              "            });\n",
              "        </script>\n",
              "<!-- Version: N/A -->\n",
              "</body>\n",
              "</html>"
            ]
          },
          "metadata": {},
          "execution_count": 5
        }
      ]
    },
    {
      "cell_type": "code",
      "source": [
        "books = soup.find_all(name=\"li\", class_=\"col-xs-6 col-sm-4 col-md-3 col-lg-3\")"
      ],
      "metadata": {
        "id": "qIUtLQ4TcrCv"
      },
      "execution_count": null,
      "outputs": []
    },
    {
      "cell_type": "code",
      "source": [
        "len(books)"
      ],
      "metadata": {
        "colab": {
          "base_uri": "https://localhost:8080/"
        },
        "id": "Pt4TVskFdQDI",
        "outputId": "7049b44b-f018-4dc0-ef17-2acf48848b70"
      },
      "execution_count": null,
      "outputs": [
        {
          "output_type": "execute_result",
          "data": {
            "text/plain": [
              "20"
            ]
          },
          "metadata": {},
          "execution_count": 8
        }
      ]
    },
    {
      "cell_type": "markdown",
      "source": [
        "Beautiful Soup (bs4) is a Python library designed for web scraping purposes to pull the data out of HTML and XML files. It creates parse trees that is helpful to extract the data easily. Here are some of the commonly used methods in Beautiful Soup:\n",
        "\n",
        "- find(): This method is used to find the first tag that matches a given criteria. For example, soup.find('div') would find the first div tag in the HTML document. You can also pass attributes to refine the search, like soup.find('div', class_='example').\n",
        "\n",
        "- find_all(): Unlike find(), find_all() retrieves all tags that match the criteria. It's useful when you want to extract information from multiple tags of the same type. For example, soup.find_all('a') would return a list of all anchor tags in the document.\n",
        "\n",
        "- select(): This method allows you to use CSS selectors to find elements in the document. It's particularly handy when dealing with classes or IDs. For instance, soup.select('.someclass') would find all elements with the class someclass.\n",
        "\n",
        "- select_one(): Similar to select(), but instead of returning all matches, it only returns the first match. For example, soup.select_one('#uniqueId') would find the first element with the ID uniqueId.\n",
        "\n",
        "These methods are integral to navigating and parsing HTML/XML documents with Beautiful Soup, making it easier to scrape data from websites."
      ],
      "metadata": {
        "id": "kqDN_m9jdsOs"
      }
    },
    {
      "cell_type": "code",
      "source": [
        "soup.select('.breadcrumb') #classname"
      ],
      "metadata": {
        "colab": {
          "base_uri": "https://localhost:8080/"
        },
        "id": "b8hy-JvldRGK",
        "outputId": "08a4ef14-80da-462f-8dd4-3e03f615178d"
      },
      "execution_count": null,
      "outputs": [
        {
          "output_type": "execute_result",
          "data": {
            "text/plain": [
              "[<ul class=\"breadcrumb\">\n",
              " <li>\n",
              " <a href=\"index.html\">Home</a>\n",
              " </li>\n",
              " <li class=\"active\">All products</li>\n",
              " </ul>]"
            ]
          },
          "metadata": {},
          "execution_count": 18
        }
      ]
    },
    {
      "cell_type": "code",
      "source": [
        "soup.select_one('messages') # id #returns first occurence"
      ],
      "metadata": {
        "id": "8z0FlXDaeIhm"
      },
      "execution_count": null,
      "outputs": []
    },
    {
      "cell_type": "code",
      "source": [
        "book = books[0]"
      ],
      "metadata": {
        "id": "Km5qs1ESgIld"
      },
      "execution_count": null,
      "outputs": []
    },
    {
      "cell_type": "code",
      "source": [
        "book"
      ],
      "metadata": {
        "colab": {
          "base_uri": "https://localhost:8080/"
        },
        "id": "g6OtvV8whA0s",
        "outputId": "e8d58857-589d-42d9-bf4c-5ada70c9fcfb"
      },
      "execution_count": null,
      "outputs": [
        {
          "output_type": "execute_result",
          "data": {
            "text/plain": [
              "<li class=\"col-xs-6 col-sm-4 col-md-3 col-lg-3\">\n",
              "<article class=\"product_pod\">\n",
              "<div class=\"image_container\">\n",
              "<a href=\"catalogue/a-light-in-the-attic_1000/index.html\"><img alt=\"A Light in the Attic\" class=\"thumbnail\" src=\"media/cache/2c/da/2cdad67c44b002e7ead0cc35693c0e8b.jpg\"/></a>\n",
              "</div>\n",
              "<p class=\"star-rating Three\">\n",
              "<i class=\"icon-star\"></i>\n",
              "<i class=\"icon-star\"></i>\n",
              "<i class=\"icon-star\"></i>\n",
              "<i class=\"icon-star\"></i>\n",
              "<i class=\"icon-star\"></i>\n",
              "</p>\n",
              "<h3><a href=\"catalogue/a-light-in-the-attic_1000/index.html\" title=\"A Light in the Attic\">A Light in the ...</a></h3>\n",
              "<div class=\"product_price\">\n",
              "<p class=\"price_color\">£51.77</p>\n",
              "<p class=\"instock availability\">\n",
              "<i class=\"icon-ok\"></i>\n",
              "    \n",
              "        In stock\n",
              "    \n",
              "</p>\n",
              "<form>\n",
              "<button class=\"btn btn-primary btn-block\" data-loading-text=\"Adding...\" type=\"submit\">Add to basket</button>\n",
              "</form>\n",
              "</div>\n",
              "</article>\n",
              "</li>"
            ]
          },
          "metadata": {},
          "execution_count": 24
        }
      ]
    },
    {
      "cell_type": "code",
      "source": [
        "book_url = book.findChild(name=\"a\").get(\"href\")\n",
        "book_url"
      ],
      "metadata": {
        "colab": {
          "base_uri": "https://localhost:8080/",
          "height": 35
        },
        "id": "R7hm1pTrgdz7",
        "outputId": "f4d20eda-02c9-4e38-fce3-881161413411"
      },
      "execution_count": null,
      "outputs": [
        {
          "output_type": "execute_result",
          "data": {
            "text/plain": [
              "'catalogue/a-light-in-the-attic_1000/index.html'"
            ],
            "application/vnd.google.colaboratory.intrinsic+json": {
              "type": "string"
            }
          },
          "metadata": {},
          "execution_count": 25
        }
      ]
    },
    {
      "cell_type": "code",
      "source": [
        "from urllib.parse import urljoin\n",
        "\n",
        "book_url = urljoin(base_url, book_url)\n",
        "book_url"
      ],
      "metadata": {
        "colab": {
          "base_uri": "https://localhost:8080/",
          "height": 35
        },
        "id": "e4gi8nVJhJMI",
        "outputId": "ca4af451-aefe-4b35-8c8c-9cc0a4e53945"
      },
      "execution_count": null,
      "outputs": [
        {
          "output_type": "execute_result",
          "data": {
            "text/plain": [
              "'http://books.toscrape.com/catalogue/a-light-in-the-attic_1000/index.html'"
            ],
            "application/vnd.google.colaboratory.intrinsic+json": {
              "type": "string"
            }
          },
          "metadata": {},
          "execution_count": 26
        }
      ]
    },
    {
      "cell_type": "code",
      "source": [
        "book_info = requests.get(book_url).content\n",
        "book_soup = BeautifulSoup(markup=book_info, parser=\"html.parser\")"
      ],
      "metadata": {
        "id": "q8Fy14ZPhhgs"
      },
      "execution_count": null,
      "outputs": []
    },
    {
      "cell_type": "code",
      "source": [
        "book_soup"
      ],
      "metadata": {
        "colab": {
          "base_uri": "https://localhost:8080/"
        },
        "id": "sXqJ4uKphyoz",
        "outputId": "577d208b-7bed-4383-d2a6-31b80dd3a7e1"
      },
      "execution_count": null,
      "outputs": [
        {
          "output_type": "execute_result",
          "data": {
            "text/plain": [
              "<!DOCTYPE html>\n",
              "<!--[if lt IE 7]>      <html lang=\"en-us\" class=\"no-js lt-ie9 lt-ie8 lt-ie7\"> <![endif]--><!--[if IE 7]>         <html lang=\"en-us\" class=\"no-js lt-ie9 lt-ie8\"> <![endif]--><!--[if IE 8]>         <html lang=\"en-us\" class=\"no-js lt-ie9\"> <![endif]--><!--[if gt IE 8]><!--><html class=\"no-js\" lang=\"en-us\"> <!--<![endif]-->\n",
              "<head>\n",
              "<title>\n",
              "    A Light in the Attic | Books to Scrape - Sandbox\n",
              "</title>\n",
              "<meta content=\"text/html; charset=utf-8\" http-equiv=\"content-type\"/>\n",
              "<meta content=\"24th Jun 2016 09:29\" name=\"created\"/>\n",
              "<meta content=\"\n",
              "    It's hard to imagine a world without A Light in the Attic. This now-classic collection of poetry and drawings from Shel Silverstein celebrates its 20th anniversary with this special edition. Silverstein's humorous and creative verse can amuse the dowdiest of readers. Lemon-faced adults and fidgety kids sit still and read these rhythmic words and laugh and smile and love th It's hard to imagine a world without A Light in the Attic. This now-classic collection of poetry and drawings from Shel Silverstein celebrates its 20th anniversary with this special edition. Silverstein's humorous and creative verse can amuse the dowdiest of readers. Lemon-faced adults and fidgety kids sit still and read these rhythmic words and laugh and smile and love that Silverstein. Need proof of his genius? RockabyeRockabye baby, in the treetopDon't you know a treetopIs no safe place to rock?And who put you up there,And your cradle, too?Baby, I think someone down here'sGot it in for you. Shel, you never sounded so good. ...more\n",
              "\" name=\"description\"/>\n",
              "<meta content=\"width=device-width\" name=\"viewport\"/>\n",
              "<meta content=\"NOARCHIVE,NOCACHE\" name=\"robots\"/>\n",
              "<!-- Le HTML5 shim, for IE6-8 support of HTML elements -->\n",
              "<!--[if lt IE 9]>\n",
              "        <script src=\"//html5shim.googlecode.com/svn/trunk/html5.js\"></script>\n",
              "        <![endif]-->\n",
              "<link href=\"../../static/oscar/favicon.ico\" rel=\"shortcut icon\"/>\n",
              "<link href=\"../../static/oscar/css/styles.css\" rel=\"stylesheet\" type=\"text/css\"/>\n",
              "<link href=\"../../static/oscar/js/bootstrap-datetimepicker/bootstrap-datetimepicker.css\" rel=\"stylesheet\"/>\n",
              "<link href=\"../../static/oscar/css/datetimepicker.css\" rel=\"stylesheet\" type=\"text/css\"/>\n",
              "</head>\n",
              "<body class=\"default\" id=\"default\">\n",
              "<header class=\"header container-fluid\">\n",
              "<div class=\"page_inner\">\n",
              "<div class=\"row\">\n",
              "<div class=\"col-sm-8 h1\"><a href=\"../../index.html\">Books to Scrape</a><small> We love being scraped!</small>\n",
              "</div>\n",
              "</div>\n",
              "</div>\n",
              "</header>\n",
              "<div class=\"container-fluid page\">\n",
              "<div class=\"page_inner\">\n",
              "<ul class=\"breadcrumb\">\n",
              "<li>\n",
              "<a href=\"../../index.html\">Home</a>\n",
              "</li>\n",
              "<li>\n",
              "<a href=\"../category/books_1/index.html\">Books</a>\n",
              "</li>\n",
              "<li>\n",
              "<a href=\"../category/books/poetry_23/index.html\">Poetry</a>\n",
              "</li>\n",
              "<li class=\"active\">A Light in the Attic</li>\n",
              "</ul>\n",
              "<div id=\"messages\">\n",
              "</div>\n",
              "<div class=\"content\">\n",
              "<div id=\"promotions\">\n",
              "</div>\n",
              "<div id=\"content_inner\">\n",
              "<article class=\"product_page\"><!-- Start of product page -->\n",
              "<div class=\"row\">\n",
              "<div class=\"col-sm-6\">\n",
              "<div class=\"carousel\" id=\"product_gallery\">\n",
              "<div class=\"thumbnail\">\n",
              "<div class=\"carousel-inner\">\n",
              "<div class=\"item active\">\n",
              "<img alt=\"A Light in the Attic\" src=\"../../media/cache/fe/72/fe72f0532301ec28892ae79a629a293c.jpg\"/>\n",
              "</div>\n",
              "</div>\n",
              "</div>\n",
              "</div>\n",
              "</div>\n",
              "<div class=\"col-sm-6 product_main\">\n",
              "<h1>A Light in the Attic</h1>\n",
              "<p class=\"price_color\">£51.77</p>\n",
              "<p class=\"instock availability\">\n",
              "<i class=\"icon-ok\"></i>\n",
              "    \n",
              "        In stock (22 available)\n",
              "    \n",
              "</p>\n",
              "<p class=\"star-rating Three\">\n",
              "<i class=\"icon-star\"></i>\n",
              "<i class=\"icon-star\"></i>\n",
              "<i class=\"icon-star\"></i>\n",
              "<i class=\"icon-star\"></i>\n",
              "<i class=\"icon-star\"></i>\n",
              "<!-- <small><a href=\"/catalogue/a-light-in-the-attic_1000/reviews/\">\n",
              "        \n",
              "                \n",
              "                    0 customer reviews\n",
              "                \n",
              "        </a></small>\n",
              "         --> \n",
              "\n",
              "\n",
              "<!-- \n",
              "    <a id=\"write_review\" href=\"/catalogue/a-light-in-the-attic_1000/reviews/add/#addreview\" class=\"btn btn-success btn-sm\">\n",
              "        Write a review\n",
              "    </a>\n",
              "\n",
              " --></p>\n",
              "<hr/>\n",
              "<div class=\"alert alert-warning\" role=\"alert\"><strong>Warning!</strong> This is a demo website for web scraping purposes. Prices and ratings here were randomly assigned and have no real meaning.</div>\n",
              "</div><!-- /col-sm-6 -->\n",
              "</div><!-- /row -->\n",
              "<div class=\"sub-header\" id=\"product_description\">\n",
              "<h2>Product Description</h2>\n",
              "</div>\n",
              "<p>It's hard to imagine a world without A Light in the Attic. This now-classic collection of poetry and drawings from Shel Silverstein celebrates its 20th anniversary with this special edition. Silverstein's humorous and creative verse can amuse the dowdiest of readers. Lemon-faced adults and fidgety kids sit still and read these rhythmic words and laugh and smile and love th It's hard to imagine a world without A Light in the Attic. This now-classic collection of poetry and drawings from Shel Silverstein celebrates its 20th anniversary with this special edition. Silverstein's humorous and creative verse can amuse the dowdiest of readers. Lemon-faced adults and fidgety kids sit still and read these rhythmic words and laugh and smile and love that Silverstein. Need proof of his genius? RockabyeRockabye baby, in the treetopDon't you know a treetopIs no safe place to rock?And who put you up there,And your cradle, too?Baby, I think someone down here'sGot it in for you. Shel, you never sounded so good. ...more</p>\n",
              "<div class=\"sub-header\">\n",
              "<h2>Product Information</h2>\n",
              "</div>\n",
              "<table class=\"table table-striped\">\n",
              "<tr>\n",
              "<th>UPC</th><td>a897fe39b1053632</td>\n",
              "</tr>\n",
              "<tr>\n",
              "<th>Product Type</th><td>Books</td>\n",
              "</tr>\n",
              "<tr>\n",
              "<th>Price (excl. tax)</th><td>£51.77</td>\n",
              "</tr>\n",
              "<tr>\n",
              "<th>Price (incl. tax)</th><td>£51.77</td>\n",
              "</tr>\n",
              "<tr>\n",
              "<th>Tax</th><td>£0.00</td>\n",
              "</tr>\n",
              "<tr>\n",
              "<th>Availability</th>\n",
              "<td>In stock (22 available)</td>\n",
              "</tr>\n",
              "<tr>\n",
              "<th>Number of reviews</th>\n",
              "<td>0</td>\n",
              "</tr>\n",
              "</table>\n",
              "<section>\n",
              "<div class=\"sub-header\" id=\"reviews\">\n",
              "</div>\n",
              "</section>\n",
              "</article><!-- End of product page -->\n",
              "</div>\n",
              "</div>\n",
              "</div>\n",
              "</div>\n",
              "<footer class=\"footer container-fluid\">\n",
              "</footer>\n",
              "<!-- jQuery -->\n",
              "<script src=\"http://ajax.googleapis.com/ajax/libs/jquery/1.9.1/jquery.min.js\"></script>\n",
              "<script>window.jQuery || document.write('<script src=\"../../static/oscar/js/jquery/jquery-1.9.1.min.js\"><\\/script>')</script>\n",
              "<!-- Twitter Bootstrap -->\n",
              "<script src=\"../../static/oscar/js/bootstrap3/bootstrap.min.js\" type=\"text/javascript\"></script>\n",
              "<!-- Oscar -->\n",
              "<script charset=\"utf-8\" src=\"../../static/oscar/js/oscar/ui.js\" type=\"text/javascript\"></script>\n",
              "<script charset=\"utf-8\" src=\"../../static/oscar/js/bootstrap-datetimepicker/bootstrap-datetimepicker.js\" type=\"text/javascript\"></script>\n",
              "<script charset=\"utf-8\" src=\"../../static/oscar/js/bootstrap-datetimepicker/locales/bootstrap-datetimepicker.all.js\" type=\"text/javascript\"></script>\n",
              "<script type=\"text/javascript\">\n",
              "            $(function() {\n",
              "                \n",
              "    \n",
              "    oscar.init();\n",
              "\n",
              "            });\n",
              "        </script>\n",
              "<!-- Version: N/A -->\n",
              "</body>\n",
              "</html>"
            ]
          },
          "metadata": {},
          "execution_count": 29
        }
      ]
    },
    {
      "cell_type": "code",
      "source": [
        "name = book_soup.find(name=\"h1\").getText()\n",
        "name"
      ],
      "metadata": {
        "colab": {
          "base_uri": "https://localhost:8080/",
          "height": 35
        },
        "id": "SYj1akF6iKRh",
        "outputId": "5ecbdba4-0fbd-48f3-fab4-0bd11c83ece4"
      },
      "execution_count": null,
      "outputs": [
        {
          "output_type": "execute_result",
          "data": {
            "text/plain": [
              "'A Light in the Attic'"
            ],
            "application/vnd.google.colaboratory.intrinsic+json": {
              "type": "string"
            }
          },
          "metadata": {},
          "execution_count": 30
        }
      ]
    },
    {
      "cell_type": "code",
      "source": [
        "book_table_data = book_soup.find_all(name=\"tr\")\n",
        "len(book_table_data)"
      ],
      "metadata": {
        "colab": {
          "base_uri": "https://localhost:8080/"
        },
        "id": "lD11vw6mia72",
        "outputId": "792f0a4c-1308-492c-fd8f-976c0b74c711"
      },
      "execution_count": null,
      "outputs": [
        {
          "output_type": "execute_result",
          "data": {
            "text/plain": [
              "7"
            ]
          },
          "metadata": {},
          "execution_count": 31
        }
      ]
    },
    {
      "cell_type": "code",
      "source": [
        "book_table_data"
      ],
      "metadata": {
        "colab": {
          "base_uri": "https://localhost:8080/"
        },
        "id": "1j4fb4LKi4iF",
        "outputId": "4bf804e2-aa5c-4283-fe91-743fac9cee8c"
      },
      "execution_count": null,
      "outputs": [
        {
          "output_type": "execute_result",
          "data": {
            "text/plain": [
              "[<tr>\n",
              " <th>UPC</th><td>a897fe39b1053632</td>\n",
              " </tr>,\n",
              " <tr>\n",
              " <th>Product Type</th><td>Books</td>\n",
              " </tr>,\n",
              " <tr>\n",
              " <th>Price (excl. tax)</th><td>£51.77</td>\n",
              " </tr>,\n",
              " <tr>\n",
              " <th>Price (incl. tax)</th><td>£51.77</td>\n",
              " </tr>,\n",
              " <tr>\n",
              " <th>Tax</th><td>£0.00</td>\n",
              " </tr>,\n",
              " <tr>\n",
              " <th>Availability</th>\n",
              " <td>In stock (22 available)</td>\n",
              " </tr>,\n",
              " <tr>\n",
              " <th>Number of reviews</th>\n",
              " <td>0</td>\n",
              " </tr>]"
            ]
          },
          "metadata": {},
          "execution_count": 32
        }
      ]
    },
    {
      "cell_type": "code",
      "source": [
        "book_data = {}\n",
        "\n",
        "for row in book_table_data:\n",
        "  key = row.find(name=\"th\").getText()\n",
        "  value = row.find(name=\"td\").getText()\n",
        "  book_data[key] = value\n",
        "\n",
        "book_data"
      ],
      "metadata": {
        "colab": {
          "base_uri": "https://localhost:8080/"
        },
        "id": "DZtUcQLmi9Mk",
        "outputId": "d3ae6387-7802-42f0-83aa-d012c1308ddb"
      },
      "execution_count": null,
      "outputs": [
        {
          "output_type": "execute_result",
          "data": {
            "text/plain": [
              "{'UPC': 'a897fe39b1053632',\n",
              " 'Product Type': 'Books',\n",
              " 'Price (excl. tax)': '£51.77',\n",
              " 'Price (incl. tax)': '£51.77',\n",
              " 'Tax': '£0.00',\n",
              " 'Availability': 'In stock (22 available)',\n",
              " 'Number of reviews': '0'}"
            ]
          },
          "metadata": {},
          "execution_count": 33
        }
      ]
    },
    {
      "cell_type": "code",
      "source": [
        "def scrape_book(book_url):\n",
        "  book_info = requests.get(book_url).content\n",
        "  book_soup = BeautifulSoup(markup=book_info, parser=\"html.parser\")\n",
        "\n",
        "  book_data = {}\n",
        "\n",
        "  # getting name\n",
        "  name = book_soup.find(name=\"h1\").getText()\n",
        "  book_data['name'] = name\n",
        "\n",
        "  # getting other data\n",
        "  book_table_data = book_soup.find_all(name=\"tr\")\n",
        "  for row in book_table_data:\n",
        "    key = row.find(name=\"th\").getText()\n",
        "    value = row.find(name=\"td\").getText()\n",
        "    book_data[key] = value\n",
        "\n",
        "  # let's also keep the url of book in final result\n",
        "  book_data['url'] = book_url\n",
        "  return book_data\n",
        "\n",
        "# let's test this\n",
        "scrape_book(book_url)"
      ],
      "metadata": {
        "colab": {
          "base_uri": "https://localhost:8080/"
        },
        "id": "ySyKVGiijQZy",
        "outputId": "96ca7792-6852-4b8a-a675-dc3bd2f38285"
      },
      "execution_count": null,
      "outputs": [
        {
          "output_type": "execute_result",
          "data": {
            "text/plain": [
              "{'name': 'A Light in the Attic',\n",
              " 'UPC': 'a897fe39b1053632',\n",
              " 'Product Type': 'Books',\n",
              " 'Price (excl. tax)': '£51.77',\n",
              " 'Price (incl. tax)': '£51.77',\n",
              " 'Tax': '£0.00',\n",
              " 'Availability': 'In stock (22 available)',\n",
              " 'Number of reviews': '0',\n",
              " 'url': 'http://books.toscrape.com/catalogue/a-light-in-the-attic_1000/index.html'}"
            ]
          },
          "metadata": {},
          "execution_count": 34
        }
      ]
    },
    {
      "cell_type": "code",
      "source": [
        "# Fetching the data of all the books from the 1st page -\n",
        "\n",
        "page_url = \"https://books.toscrape.com/catalogue/page-i.html\"\n",
        "\n",
        "page_content = requests.get(page_url).content\n",
        "page_soup = BeautifulSoup(markup=page_content, parser=\"html.parser\")\n",
        "page_books = soup.find_all(name=\"li\", class_=\"col-xs-6 col-sm-4 col-md-3 col-lg-3\")\n",
        "\n",
        "print(len(page_books))"
      ],
      "metadata": {
        "colab": {
          "base_uri": "https://localhost:8080/"
        },
        "id": "VFLEaGXXksIr",
        "outputId": "32671c5c-12f5-47aa-d97d-533d4e0b815d"
      },
      "execution_count": null,
      "outputs": [
        {
          "output_type": "stream",
          "name": "stdout",
          "text": [
            "20\n"
          ]
        }
      ]
    },
    {
      "cell_type": "code",
      "source": [
        "len(page_books)"
      ],
      "metadata": {
        "colab": {
          "base_uri": "https://localhost:8080/"
        },
        "id": "wcltTuU_lWuZ",
        "outputId": "d67ba938-6352-4c14-d292-48fd893f70dc"
      },
      "execution_count": null,
      "outputs": [
        {
          "output_type": "execute_result",
          "data": {
            "text/plain": [
              "20"
            ]
          },
          "metadata": {},
          "execution_count": 37
        }
      ]
    },
    {
      "cell_type": "code",
      "source": [
        "books_data = []\n",
        "\n",
        "for book in page_books:\n",
        "  book_url = book.findChild(name=\"a\").get(\"href\")\n",
        "  # converting relative URL to absolute\n",
        "  book_url = urljoin(base_url, book_url)\n",
        "\n",
        "  book_data = scrape_book(book_url)\n",
        "  books_data.append(book_data)\n",
        "\n",
        "books_data[:3]"
      ],
      "metadata": {
        "colab": {
          "base_uri": "https://localhost:8080/"
        },
        "id": "zcqYLOnOjuS7",
        "outputId": "9d49b97b-6b1c-4387-f175-59411dcb563d"
      },
      "execution_count": null,
      "outputs": [
        {
          "output_type": "execute_result",
          "data": {
            "text/plain": [
              "[{'name': 'A Light in the Attic',\n",
              "  'UPC': 'a897fe39b1053632',\n",
              "  'Product Type': 'Books',\n",
              "  'Price (excl. tax)': '£51.77',\n",
              "  'Price (incl. tax)': '£51.77',\n",
              "  'Tax': '£0.00',\n",
              "  'Availability': 'In stock (22 available)',\n",
              "  'Number of reviews': '0',\n",
              "  'url': 'http://books.toscrape.com/catalogue/a-light-in-the-attic_1000/index.html'},\n",
              " {'name': 'Tipping the Velvet',\n",
              "  'UPC': '90fa61229261140a',\n",
              "  'Product Type': 'Books',\n",
              "  'Price (excl. tax)': '£53.74',\n",
              "  'Price (incl. tax)': '£53.74',\n",
              "  'Tax': '£0.00',\n",
              "  'Availability': 'In stock (20 available)',\n",
              "  'Number of reviews': '0',\n",
              "  'url': 'http://books.toscrape.com/catalogue/tipping-the-velvet_999/index.html'},\n",
              " {'name': 'Soumission',\n",
              "  'UPC': '6957f44c3847a760',\n",
              "  'Product Type': 'Books',\n",
              "  'Price (excl. tax)': '£50.10',\n",
              "  'Price (incl. tax)': '£50.10',\n",
              "  'Tax': '£0.00',\n",
              "  'Availability': 'In stock (20 available)',\n",
              "  'Number of reviews': '0',\n",
              "  'url': 'http://books.toscrape.com/catalogue/soumission_998/index.html'}]"
            ]
          },
          "metadata": {},
          "execution_count": 38
        }
      ]
    },
    {
      "cell_type": "code",
      "source": [
        "len(books_data)"
      ],
      "metadata": {
        "colab": {
          "base_uri": "https://localhost:8080/"
        },
        "id": "NliLFl6olnlP",
        "outputId": "8a275056-a4b3-4f7c-fb3e-b9c7df4afb2a"
      },
      "execution_count": null,
      "outputs": [
        {
          "output_type": "execute_result",
          "data": {
            "text/plain": [
              "20"
            ]
          },
          "metadata": {},
          "execution_count": 40
        }
      ]
    },
    {
      "cell_type": "code",
      "source": [
        "def scrape_page(page_url):\n",
        "  books_data = []\n",
        "  page_content = requests.get(page_url).content\n",
        "  page_soup = BeautifulSoup(markup=page_content, parser=\"html.parser\")\n",
        "  page_books = soup.find_all(name=\"li\", class_=\"col-xs-6 col-sm-4 col-md-3 col-lg-3\")\n",
        "\n",
        "  for book in books:\n",
        "    book_url = book.findChild(name=\"a\").get(\"href\")\n",
        "    book_url = urljoin(base_url, book_url)\n",
        "    book_data = scrape_book(book_url)\n",
        "    books_data.append(book_data)\n",
        "  return books_data"
      ],
      "metadata": {
        "id": "wdpALUJGl9Fw"
      },
      "execution_count": null,
      "outputs": []
    },
    {
      "cell_type": "code",
      "source": [
        "requests.get(\"https://books.toscrape.com/catalogue/page-1.html\").status_code"
      ],
      "metadata": {
        "colab": {
          "base_uri": "https://localhost:8080/"
        },
        "id": "OA1h4oiwmTIZ",
        "outputId": "b5447ba8-1d72-4089-ea90-1c98b6fa35ee"
      },
      "execution_count": null,
      "outputs": [
        {
          "output_type": "execute_result",
          "data": {
            "text/plain": [
              "200"
            ]
          },
          "metadata": {},
          "execution_count": 43
        }
      ]
    },
    {
      "cell_type": "code",
      "source": [
        "requests.get(\"https://books.toscrape.com/catalogue/page-100.html\").status_code"
      ],
      "metadata": {
        "colab": {
          "base_uri": "https://localhost:8080/"
        },
        "id": "pE_slYZOnK2J",
        "outputId": "d6af2ece-a288-4552-e734-fbee8125655a"
      },
      "execution_count": null,
      "outputs": [
        {
          "output_type": "execute_result",
          "data": {
            "text/plain": [
              "404"
            ]
          },
          "metadata": {},
          "execution_count": 44
        }
      ]
    },
    {
      "cell_type": "code",
      "source": [],
      "metadata": {
        "id": "w8kcyivFo3OA"
      },
      "execution_count": null,
      "outputs": []
    },
    {
      "cell_type": "code",
      "source": [
        "page_count = 1\n",
        "data = []\n",
        "\n",
        "while True:\n",
        "  page_url = f\"https://books.toscrape.com/catalogue/page-{page_count}.html\"\n",
        "  status = requests.get(page_url).status_code\n",
        "\n",
        "  # break the loop if we exceed the total page count\n",
        "  if status == 404:\n",
        "    break\n",
        "\n",
        "  page_data = scrape_page(page_url)\n",
        "  data.extend(page_data) # do not use .append() since the function returns a list\n",
        "  print(f\"Page: {page_count} is SUCCESSFULLY scraped\")\n",
        "\n",
        "  page_count += 1"
      ],
      "metadata": {
        "colab": {
          "base_uri": "https://localhost:8080/",
          "height": 651
        },
        "id": "CR-R-lAznZre",
        "outputId": "994fc0c2-495b-484f-e7e4-c3eaae5adb9e"
      },
      "execution_count": null,
      "outputs": [
        {
          "output_type": "stream",
          "name": "stdout",
          "text": [
            "Page: 1 is SUCCESSFULLY scraped\n",
            "Page: 2 is SUCCESSFULLY scraped\n",
            "Page: 3 is SUCCESSFULLY scraped\n",
            "Page: 4 is SUCCESSFULLY scraped\n",
            "Page: 5 is SUCCESSFULLY scraped\n",
            "Page: 6 is SUCCESSFULLY scraped\n",
            "Page: 7 is SUCCESSFULLY scraped\n",
            "Page: 8 is SUCCESSFULLY scraped\n",
            "Page: 9 is SUCCESSFULLY scraped\n",
            "Page: 10 is SUCCESSFULLY scraped\n",
            "Page: 11 is SUCCESSFULLY scraped\n",
            "Page: 12 is SUCCESSFULLY scraped\n",
            "Page: 13 is SUCCESSFULLY scraped\n",
            "Page: 14 is SUCCESSFULLY scraped\n",
            "Page: 15 is SUCCESSFULLY scraped\n"
          ]
        },
        {
          "output_type": "error",
          "ename": "KeyboardInterrupt",
          "evalue": "",
          "traceback": [
            "\u001b[0;31m---------------------------------------------------------------------------\u001b[0m",
            "\u001b[0;31mKeyboardInterrupt\u001b[0m                         Traceback (most recent call last)",
            "\u001b[0;32m<ipython-input-45-ade5e4710472>\u001b[0m in \u001b[0;36m<cell line: 4>\u001b[0;34m()\u001b[0m\n\u001b[1;32m      4\u001b[0m \u001b[0;32mwhile\u001b[0m \u001b[0;32mTrue\u001b[0m\u001b[0;34m:\u001b[0m\u001b[0;34m\u001b[0m\u001b[0;34m\u001b[0m\u001b[0m\n\u001b[1;32m      5\u001b[0m   \u001b[0mpage_url\u001b[0m \u001b[0;34m=\u001b[0m \u001b[0;34mf\"https://books.toscrape.com/catalogue/page-{page_count}.html\"\u001b[0m\u001b[0;34m\u001b[0m\u001b[0;34m\u001b[0m\u001b[0m\n\u001b[0;32m----> 6\u001b[0;31m   \u001b[0mstatus\u001b[0m \u001b[0;34m=\u001b[0m \u001b[0mrequests\u001b[0m\u001b[0;34m.\u001b[0m\u001b[0mget\u001b[0m\u001b[0;34m(\u001b[0m\u001b[0mpage_url\u001b[0m\u001b[0;34m)\u001b[0m\u001b[0;34m.\u001b[0m\u001b[0mstatus_code\u001b[0m\u001b[0;34m\u001b[0m\u001b[0;34m\u001b[0m\u001b[0m\n\u001b[0m\u001b[1;32m      7\u001b[0m \u001b[0;34m\u001b[0m\u001b[0m\n\u001b[1;32m      8\u001b[0m   \u001b[0;31m# break the loop if we exceed the total page count\u001b[0m\u001b[0;34m\u001b[0m\u001b[0;34m\u001b[0m\u001b[0m\n",
            "\u001b[0;32m/usr/local/lib/python3.10/dist-packages/requests/api.py\u001b[0m in \u001b[0;36mget\u001b[0;34m(url, params, **kwargs)\u001b[0m\n\u001b[1;32m     71\u001b[0m     \"\"\"\n\u001b[1;32m     72\u001b[0m \u001b[0;34m\u001b[0m\u001b[0m\n\u001b[0;32m---> 73\u001b[0;31m     \u001b[0;32mreturn\u001b[0m \u001b[0mrequest\u001b[0m\u001b[0;34m(\u001b[0m\u001b[0;34m\"get\"\u001b[0m\u001b[0;34m,\u001b[0m \u001b[0murl\u001b[0m\u001b[0;34m,\u001b[0m \u001b[0mparams\u001b[0m\u001b[0;34m=\u001b[0m\u001b[0mparams\u001b[0m\u001b[0;34m,\u001b[0m \u001b[0;34m**\u001b[0m\u001b[0mkwargs\u001b[0m\u001b[0;34m)\u001b[0m\u001b[0;34m\u001b[0m\u001b[0;34m\u001b[0m\u001b[0m\n\u001b[0m\u001b[1;32m     74\u001b[0m \u001b[0;34m\u001b[0m\u001b[0m\n\u001b[1;32m     75\u001b[0m \u001b[0;34m\u001b[0m\u001b[0m\n",
            "\u001b[0;32m/usr/local/lib/python3.10/dist-packages/requests/api.py\u001b[0m in \u001b[0;36mrequest\u001b[0;34m(method, url, **kwargs)\u001b[0m\n\u001b[1;32m     57\u001b[0m     \u001b[0;31m# cases, and look like a memory leak in others.\u001b[0m\u001b[0;34m\u001b[0m\u001b[0;34m\u001b[0m\u001b[0m\n\u001b[1;32m     58\u001b[0m     \u001b[0;32mwith\u001b[0m \u001b[0msessions\u001b[0m\u001b[0;34m.\u001b[0m\u001b[0mSession\u001b[0m\u001b[0;34m(\u001b[0m\u001b[0;34m)\u001b[0m \u001b[0;32mas\u001b[0m \u001b[0msession\u001b[0m\u001b[0;34m:\u001b[0m\u001b[0;34m\u001b[0m\u001b[0;34m\u001b[0m\u001b[0m\n\u001b[0;32m---> 59\u001b[0;31m         \u001b[0;32mreturn\u001b[0m \u001b[0msession\u001b[0m\u001b[0;34m.\u001b[0m\u001b[0mrequest\u001b[0m\u001b[0;34m(\u001b[0m\u001b[0mmethod\u001b[0m\u001b[0;34m=\u001b[0m\u001b[0mmethod\u001b[0m\u001b[0;34m,\u001b[0m \u001b[0murl\u001b[0m\u001b[0;34m=\u001b[0m\u001b[0murl\u001b[0m\u001b[0;34m,\u001b[0m \u001b[0;34m**\u001b[0m\u001b[0mkwargs\u001b[0m\u001b[0;34m)\u001b[0m\u001b[0;34m\u001b[0m\u001b[0;34m\u001b[0m\u001b[0m\n\u001b[0m\u001b[1;32m     60\u001b[0m \u001b[0;34m\u001b[0m\u001b[0m\n\u001b[1;32m     61\u001b[0m \u001b[0;34m\u001b[0m\u001b[0m\n",
            "\u001b[0;32m/usr/local/lib/python3.10/dist-packages/requests/sessions.py\u001b[0m in \u001b[0;36mrequest\u001b[0;34m(self, method, url, params, data, headers, cookies, files, auth, timeout, allow_redirects, proxies, hooks, stream, verify, cert, json)\u001b[0m\n\u001b[1;32m    587\u001b[0m         }\n\u001b[1;32m    588\u001b[0m         \u001b[0msend_kwargs\u001b[0m\u001b[0;34m.\u001b[0m\u001b[0mupdate\u001b[0m\u001b[0;34m(\u001b[0m\u001b[0msettings\u001b[0m\u001b[0;34m)\u001b[0m\u001b[0;34m\u001b[0m\u001b[0;34m\u001b[0m\u001b[0m\n\u001b[0;32m--> 589\u001b[0;31m         \u001b[0mresp\u001b[0m \u001b[0;34m=\u001b[0m \u001b[0mself\u001b[0m\u001b[0;34m.\u001b[0m\u001b[0msend\u001b[0m\u001b[0;34m(\u001b[0m\u001b[0mprep\u001b[0m\u001b[0;34m,\u001b[0m \u001b[0;34m**\u001b[0m\u001b[0msend_kwargs\u001b[0m\u001b[0;34m)\u001b[0m\u001b[0;34m\u001b[0m\u001b[0;34m\u001b[0m\u001b[0m\n\u001b[0m\u001b[1;32m    590\u001b[0m \u001b[0;34m\u001b[0m\u001b[0m\n\u001b[1;32m    591\u001b[0m         \u001b[0;32mreturn\u001b[0m \u001b[0mresp\u001b[0m\u001b[0;34m\u001b[0m\u001b[0;34m\u001b[0m\u001b[0m\n",
            "\u001b[0;32m/usr/local/lib/python3.10/dist-packages/requests/sessions.py\u001b[0m in \u001b[0;36msend\u001b[0;34m(self, request, **kwargs)\u001b[0m\n\u001b[1;32m    701\u001b[0m \u001b[0;34m\u001b[0m\u001b[0m\n\u001b[1;32m    702\u001b[0m         \u001b[0;31m# Send the request\u001b[0m\u001b[0;34m\u001b[0m\u001b[0;34m\u001b[0m\u001b[0m\n\u001b[0;32m--> 703\u001b[0;31m         \u001b[0mr\u001b[0m \u001b[0;34m=\u001b[0m \u001b[0madapter\u001b[0m\u001b[0;34m.\u001b[0m\u001b[0msend\u001b[0m\u001b[0;34m(\u001b[0m\u001b[0mrequest\u001b[0m\u001b[0;34m,\u001b[0m \u001b[0;34m**\u001b[0m\u001b[0mkwargs\u001b[0m\u001b[0;34m)\u001b[0m\u001b[0;34m\u001b[0m\u001b[0;34m\u001b[0m\u001b[0m\n\u001b[0m\u001b[1;32m    704\u001b[0m \u001b[0;34m\u001b[0m\u001b[0m\n\u001b[1;32m    705\u001b[0m         \u001b[0;31m# Total elapsed time of the request (approximately)\u001b[0m\u001b[0;34m\u001b[0m\u001b[0;34m\u001b[0m\u001b[0m\n",
            "\u001b[0;32m/usr/local/lib/python3.10/dist-packages/requests/adapters.py\u001b[0m in \u001b[0;36msend\u001b[0;34m(self, request, stream, timeout, verify, cert, proxies)\u001b[0m\n\u001b[1;32m    484\u001b[0m \u001b[0;34m\u001b[0m\u001b[0m\n\u001b[1;32m    485\u001b[0m         \u001b[0;32mtry\u001b[0m\u001b[0;34m:\u001b[0m\u001b[0;34m\u001b[0m\u001b[0;34m\u001b[0m\u001b[0m\n\u001b[0;32m--> 486\u001b[0;31m             resp = conn.urlopen(\n\u001b[0m\u001b[1;32m    487\u001b[0m                 \u001b[0mmethod\u001b[0m\u001b[0;34m=\u001b[0m\u001b[0mrequest\u001b[0m\u001b[0;34m.\u001b[0m\u001b[0mmethod\u001b[0m\u001b[0;34m,\u001b[0m\u001b[0;34m\u001b[0m\u001b[0;34m\u001b[0m\u001b[0m\n\u001b[1;32m    488\u001b[0m                 \u001b[0murl\u001b[0m\u001b[0;34m=\u001b[0m\u001b[0murl\u001b[0m\u001b[0;34m,\u001b[0m\u001b[0;34m\u001b[0m\u001b[0;34m\u001b[0m\u001b[0m\n",
            "\u001b[0;32m/usr/local/lib/python3.10/dist-packages/urllib3/connectionpool.py\u001b[0m in \u001b[0;36murlopen\u001b[0;34m(self, method, url, body, headers, retries, redirect, assert_same_host, timeout, pool_timeout, release_conn, chunked, body_pos, preload_content, decode_content, **response_kw)\u001b[0m\n\u001b[1;32m    789\u001b[0m \u001b[0;34m\u001b[0m\u001b[0m\n\u001b[1;32m    790\u001b[0m             \u001b[0;31m# Make the request on the HTTPConnection object\u001b[0m\u001b[0;34m\u001b[0m\u001b[0;34m\u001b[0m\u001b[0m\n\u001b[0;32m--> 791\u001b[0;31m             response = self._make_request(\n\u001b[0m\u001b[1;32m    792\u001b[0m                 \u001b[0mconn\u001b[0m\u001b[0;34m,\u001b[0m\u001b[0;34m\u001b[0m\u001b[0;34m\u001b[0m\u001b[0m\n\u001b[1;32m    793\u001b[0m                 \u001b[0mmethod\u001b[0m\u001b[0;34m,\u001b[0m\u001b[0;34m\u001b[0m\u001b[0;34m\u001b[0m\u001b[0m\n",
            "\u001b[0;32m/usr/local/lib/python3.10/dist-packages/urllib3/connectionpool.py\u001b[0m in \u001b[0;36m_make_request\u001b[0;34m(self, conn, method, url, body, headers, retries, timeout, chunked, response_conn, preload_content, decode_content, enforce_content_length)\u001b[0m\n\u001b[1;32m    466\u001b[0m             \u001b[0;31m# Trigger any extra validation we need to do.\u001b[0m\u001b[0;34m\u001b[0m\u001b[0;34m\u001b[0m\u001b[0m\n\u001b[1;32m    467\u001b[0m             \u001b[0;32mtry\u001b[0m\u001b[0;34m:\u001b[0m\u001b[0;34m\u001b[0m\u001b[0;34m\u001b[0m\u001b[0m\n\u001b[0;32m--> 468\u001b[0;31m                 \u001b[0mself\u001b[0m\u001b[0;34m.\u001b[0m\u001b[0m_validate_conn\u001b[0m\u001b[0;34m(\u001b[0m\u001b[0mconn\u001b[0m\u001b[0;34m)\u001b[0m\u001b[0;34m\u001b[0m\u001b[0;34m\u001b[0m\u001b[0m\n\u001b[0m\u001b[1;32m    469\u001b[0m             \u001b[0;32mexcept\u001b[0m \u001b[0;34m(\u001b[0m\u001b[0mSocketTimeout\u001b[0m\u001b[0;34m,\u001b[0m \u001b[0mBaseSSLError\u001b[0m\u001b[0;34m)\u001b[0m \u001b[0;32mas\u001b[0m \u001b[0me\u001b[0m\u001b[0;34m:\u001b[0m\u001b[0;34m\u001b[0m\u001b[0;34m\u001b[0m\u001b[0m\n\u001b[1;32m    470\u001b[0m                 \u001b[0mself\u001b[0m\u001b[0;34m.\u001b[0m\u001b[0m_raise_timeout\u001b[0m\u001b[0;34m(\u001b[0m\u001b[0merr\u001b[0m\u001b[0;34m=\u001b[0m\u001b[0me\u001b[0m\u001b[0;34m,\u001b[0m \u001b[0murl\u001b[0m\u001b[0;34m=\u001b[0m\u001b[0murl\u001b[0m\u001b[0;34m,\u001b[0m \u001b[0mtimeout_value\u001b[0m\u001b[0;34m=\u001b[0m\u001b[0mconn\u001b[0m\u001b[0;34m.\u001b[0m\u001b[0mtimeout\u001b[0m\u001b[0;34m)\u001b[0m\u001b[0;34m\u001b[0m\u001b[0;34m\u001b[0m\u001b[0m\n",
            "\u001b[0;32m/usr/local/lib/python3.10/dist-packages/urllib3/connectionpool.py\u001b[0m in \u001b[0;36m_validate_conn\u001b[0;34m(self, conn)\u001b[0m\n\u001b[1;32m   1095\u001b[0m         \u001b[0;31m# Force connect early to allow us to validate the connection.\u001b[0m\u001b[0;34m\u001b[0m\u001b[0;34m\u001b[0m\u001b[0m\n\u001b[1;32m   1096\u001b[0m         \u001b[0;32mif\u001b[0m \u001b[0mconn\u001b[0m\u001b[0;34m.\u001b[0m\u001b[0mis_closed\u001b[0m\u001b[0;34m:\u001b[0m\u001b[0;34m\u001b[0m\u001b[0;34m\u001b[0m\u001b[0m\n\u001b[0;32m-> 1097\u001b[0;31m             \u001b[0mconn\u001b[0m\u001b[0;34m.\u001b[0m\u001b[0mconnect\u001b[0m\u001b[0;34m(\u001b[0m\u001b[0;34m)\u001b[0m\u001b[0;34m\u001b[0m\u001b[0;34m\u001b[0m\u001b[0m\n\u001b[0m\u001b[1;32m   1098\u001b[0m \u001b[0;34m\u001b[0m\u001b[0m\n\u001b[1;32m   1099\u001b[0m         \u001b[0;32mif\u001b[0m \u001b[0;32mnot\u001b[0m \u001b[0mconn\u001b[0m\u001b[0;34m.\u001b[0m\u001b[0mis_verified\u001b[0m\u001b[0;34m:\u001b[0m\u001b[0;34m\u001b[0m\u001b[0;34m\u001b[0m\u001b[0m\n",
            "\u001b[0;32m/usr/local/lib/python3.10/dist-packages/urllib3/connection.py\u001b[0m in \u001b[0;36mconnect\u001b[0;34m(self)\u001b[0m\n\u001b[1;32m    640\u001b[0m             )\n\u001b[1;32m    641\u001b[0m \u001b[0;34m\u001b[0m\u001b[0m\n\u001b[0;32m--> 642\u001b[0;31m         sock_and_verified = _ssl_wrap_socket_and_match_hostname(\n\u001b[0m\u001b[1;32m    643\u001b[0m             \u001b[0msock\u001b[0m\u001b[0;34m=\u001b[0m\u001b[0msock\u001b[0m\u001b[0;34m,\u001b[0m\u001b[0;34m\u001b[0m\u001b[0;34m\u001b[0m\u001b[0m\n\u001b[1;32m    644\u001b[0m             \u001b[0mcert_reqs\u001b[0m\u001b[0;34m=\u001b[0m\u001b[0mself\u001b[0m\u001b[0;34m.\u001b[0m\u001b[0mcert_reqs\u001b[0m\u001b[0;34m,\u001b[0m\u001b[0;34m\u001b[0m\u001b[0;34m\u001b[0m\u001b[0m\n",
            "\u001b[0;32m/usr/local/lib/python3.10/dist-packages/urllib3/connection.py\u001b[0m in \u001b[0;36m_ssl_wrap_socket_and_match_hostname\u001b[0;34m(sock, cert_reqs, ssl_version, ssl_minimum_version, ssl_maximum_version, cert_file, key_file, key_password, ca_certs, ca_cert_dir, ca_cert_data, assert_hostname, assert_fingerprint, server_hostname, ssl_context, tls_in_tls)\u001b[0m\n\u001b[1;32m    781\u001b[0m             \u001b[0mserver_hostname\u001b[0m \u001b[0;34m=\u001b[0m \u001b[0mnormalized\u001b[0m\u001b[0;34m\u001b[0m\u001b[0;34m\u001b[0m\u001b[0m\n\u001b[1;32m    782\u001b[0m \u001b[0;34m\u001b[0m\u001b[0m\n\u001b[0;32m--> 783\u001b[0;31m     ssl_sock = ssl_wrap_socket(\n\u001b[0m\u001b[1;32m    784\u001b[0m         \u001b[0msock\u001b[0m\u001b[0;34m=\u001b[0m\u001b[0msock\u001b[0m\u001b[0;34m,\u001b[0m\u001b[0;34m\u001b[0m\u001b[0;34m\u001b[0m\u001b[0m\n\u001b[1;32m    785\u001b[0m         \u001b[0mkeyfile\u001b[0m\u001b[0;34m=\u001b[0m\u001b[0mkey_file\u001b[0m\u001b[0;34m,\u001b[0m\u001b[0;34m\u001b[0m\u001b[0;34m\u001b[0m\u001b[0m\n",
            "\u001b[0;32m/usr/local/lib/python3.10/dist-packages/urllib3/util/ssl_.py\u001b[0m in \u001b[0;36mssl_wrap_socket\u001b[0;34m(sock, keyfile, certfile, cert_reqs, ca_certs, server_hostname, ssl_version, ciphers, ssl_context, ca_cert_dir, key_password, ca_cert_data, tls_in_tls)\u001b[0m\n\u001b[1;32m    444\u001b[0m     \u001b[0;32mif\u001b[0m \u001b[0mca_certs\u001b[0m \u001b[0;32mor\u001b[0m \u001b[0mca_cert_dir\u001b[0m \u001b[0;32mor\u001b[0m \u001b[0mca_cert_data\u001b[0m\u001b[0;34m:\u001b[0m\u001b[0;34m\u001b[0m\u001b[0;34m\u001b[0m\u001b[0m\n\u001b[1;32m    445\u001b[0m         \u001b[0;32mtry\u001b[0m\u001b[0;34m:\u001b[0m\u001b[0;34m\u001b[0m\u001b[0;34m\u001b[0m\u001b[0m\n\u001b[0;32m--> 446\u001b[0;31m             \u001b[0mcontext\u001b[0m\u001b[0;34m.\u001b[0m\u001b[0mload_verify_locations\u001b[0m\u001b[0;34m(\u001b[0m\u001b[0mca_certs\u001b[0m\u001b[0;34m,\u001b[0m \u001b[0mca_cert_dir\u001b[0m\u001b[0;34m,\u001b[0m \u001b[0mca_cert_data\u001b[0m\u001b[0;34m)\u001b[0m\u001b[0;34m\u001b[0m\u001b[0;34m\u001b[0m\u001b[0m\n\u001b[0m\u001b[1;32m    447\u001b[0m         \u001b[0;32mexcept\u001b[0m \u001b[0mOSError\u001b[0m \u001b[0;32mas\u001b[0m \u001b[0me\u001b[0m\u001b[0;34m:\u001b[0m\u001b[0;34m\u001b[0m\u001b[0;34m\u001b[0m\u001b[0m\n\u001b[1;32m    448\u001b[0m             \u001b[0;32mraise\u001b[0m \u001b[0mSSLError\u001b[0m\u001b[0;34m(\u001b[0m\u001b[0me\u001b[0m\u001b[0;34m)\u001b[0m \u001b[0;32mfrom\u001b[0m \u001b[0me\u001b[0m\u001b[0;34m\u001b[0m\u001b[0;34m\u001b[0m\u001b[0m\n",
            "\u001b[0;31mKeyboardInterrupt\u001b[0m: "
          ]
        }
      ]
    },
    {
      "cell_type": "code",
      "source": [
        "def scrape_book(book_url):\n",
        "  book_info = requests.get(book_url).content\n",
        "  book_soup = BeautifulSoup(markup=book_info, parser=\"html.parser\")\n",
        "\n",
        "  book_data = {}\n",
        "\n",
        "  # getting name\n",
        "  name = book_soup.find(name=\"h1\").getText()\n",
        "  book_data['name'] = name\n",
        "\n",
        "  # getting other data\n",
        "  book_table_data = book_soup.find_all(name=\"tr\")\n",
        "  for row in book_table_data: # 7 times\n",
        "    key = row.find(name=\"th\").getText()\n",
        "    value = row.find(name=\"td\").getText()\n",
        "    book_data[key] = value\n",
        "\n",
        "  # let's also keep the url of book in final result\n",
        "  book_data['url'] = book_url\n",
        "  return book_data\n",
        "\n",
        "# let's test this\n",
        "scrape_book(book_url)\n",
        "\n",
        "\n",
        "def scrape_page(page_url):\n",
        "  books_data = []\n",
        "  page_content = requests.get(page_url).content\n",
        "  page_soup = BeautifulSoup(markup=page_content, parser=\"html.parser\")\n",
        "  page_books = soup.find_all(name=\"li\", class_=\"col-xs-6 col-sm-4 col-md-3 col-lg-3\")\n",
        "\n",
        "  for book in books: # 20 times\n",
        "    book_url = book.findChild(name=\"a\").get(\"href\")\n",
        "    book_url = urljoin(base_url, book_url)\n",
        "    book_data = scrape_book(book_url) # 7 Times\n",
        "    books_data.append(book_data)\n",
        "  return books_data"
      ],
      "metadata": {
        "id": "gFXb3qTko_Pi"
      },
      "execution_count": null,
      "outputs": []
    },
    {
      "cell_type": "code",
      "source": [
        "page_count = 1\n",
        "data = []\n",
        "\n",
        "while True:\n",
        "  page_url = f\"https://books.toscrape.com/catalogue/page-{page_count}.html\"\n",
        "  status = requests.get(page_url).status_code\n",
        "\n",
        "  # break the loop if we exceed the total page count\n",
        "  if status == 404 or page_count == 6:\n",
        "    break\n",
        "\n",
        "  page_data = scrape_page(page_url)\n",
        "  data.extend(page_data) # do not use .append() since the function returns a list\n",
        "  print(f\"Page: {page_count} is SUCCESSFULLY scraped\")\n",
        "\n",
        "  page_count += 1"
      ],
      "metadata": {
        "colab": {
          "base_uri": "https://localhost:8080/"
        },
        "id": "MSF2PHUgnzo6",
        "outputId": "09c05344-00e6-442f-d743-4a3b49f264fc"
      },
      "execution_count": null,
      "outputs": [
        {
          "output_type": "stream",
          "name": "stdout",
          "text": [
            "Page: 1 is SUCCESSFULLY scraped\n",
            "Page: 2 is SUCCESSFULLY scraped\n",
            "Page: 3 is SUCCESSFULLY scraped\n",
            "Page: 4 is SUCCESSFULLY scraped\n",
            "Page: 5 is SUCCESSFULLY scraped\n"
          ]
        }
      ]
    },
    {
      "cell_type": "code",
      "source": [
        "data[:2]"
      ],
      "metadata": {
        "colab": {
          "base_uri": "https://localhost:8080/"
        },
        "id": "zZRUTeu3oBfm",
        "outputId": "c6138f0a-8c6b-4040-d810-4e2908e09729"
      },
      "execution_count": null,
      "outputs": [
        {
          "output_type": "execute_result",
          "data": {
            "text/plain": [
              "[{'name': 'A Light in the Attic',\n",
              "  'UPC': 'a897fe39b1053632',\n",
              "  'Product Type': 'Books',\n",
              "  'Price (excl. tax)': '£51.77',\n",
              "  'Price (incl. tax)': '£51.77',\n",
              "  'Tax': '£0.00',\n",
              "  'Availability': 'In stock (22 available)',\n",
              "  'Number of reviews': '0',\n",
              "  'url': 'http://books.toscrape.com/catalogue/a-light-in-the-attic_1000/index.html'},\n",
              " {'name': 'Tipping the Velvet',\n",
              "  'UPC': '90fa61229261140a',\n",
              "  'Product Type': 'Books',\n",
              "  'Price (excl. tax)': '£53.74',\n",
              "  'Price (incl. tax)': '£53.74',\n",
              "  'Tax': '£0.00',\n",
              "  'Availability': 'In stock (20 available)',\n",
              "  'Number of reviews': '0',\n",
              "  'url': 'http://books.toscrape.com/catalogue/tipping-the-velvet_999/index.html'}]"
            ]
          },
          "metadata": {},
          "execution_count": 48
        }
      ]
    },
    {
      "cell_type": "code",
      "source": [
        "len(data)"
      ],
      "metadata": {
        "colab": {
          "base_uri": "https://localhost:8080/"
        },
        "id": "t9tnDMK4oHkb",
        "outputId": "97476bfe-bb44-4673-8916-192b47581ee3"
      },
      "execution_count": null,
      "outputs": [
        {
          "output_type": "execute_result",
          "data": {
            "text/plain": [
              "100"
            ]
          },
          "metadata": {},
          "execution_count": 49
        }
      ]
    },
    {
      "cell_type": "markdown",
      "source": [
        "## Quiz"
      ],
      "metadata": {
        "id": "bXFW_VvFqcZL"
      }
    },
    {
      "cell_type": "code",
      "source": [
        "from bs4 import BeautifulSoup\n",
        "\n",
        "# HTML\n",
        "html_snippet = \"\"\"\n",
        "<div>\n",
        "  <p>Hello, <b>World!</b></p>\n",
        "  <p>Welcome to <a href=\"https://example.com\">Example</a>.</p>\n",
        "</div>\n",
        "\"\"\"\n",
        "\n",
        "soup = BeautifulSoup(html_snippet, 'html.parser')\n",
        "\n",
        "extracted_text = soup.find(name=\"div\").getText()\n",
        "\n",
        "extracted_text\n"
      ],
      "metadata": {
        "colab": {
          "base_uri": "https://localhost:8080/",
          "height": 35
        },
        "id": "Yy6RPoIwoPNk",
        "outputId": "eed247bd-e742-49bc-eae5-76cb67b7c517"
      },
      "execution_count": null,
      "outputs": [
        {
          "output_type": "execute_result",
          "data": {
            "text/plain": [
              "'\\nHello, World!\\nWelcome to Example.\\n'"
            ],
            "application/vnd.google.colaboratory.intrinsic+json": {
              "type": "string"
            }
          },
          "metadata": {},
          "execution_count": 50
        }
      ]
    },
    {
      "cell_type": "code",
      "source": [
        "book = data[0].copy()\n",
        "book"
      ],
      "metadata": {
        "colab": {
          "base_uri": "https://localhost:8080/"
        },
        "id": "r8DBL4qsqwh-",
        "outputId": "5522cb55-aadb-4822-d60a-f6b3d2720ef8"
      },
      "execution_count": null,
      "outputs": [
        {
          "output_type": "execute_result",
          "data": {
            "text/plain": [
              "{'name': 'A Light in the Attic',\n",
              " 'UPC': 'a897fe39b1053632',\n",
              " 'Product Type': 'Books',\n",
              " 'Price (excl. tax)': '£51.77',\n",
              " 'Price (incl. tax)': '£51.77',\n",
              " 'Tax': '£0.00',\n",
              " 'Availability': 'In stock (22 available)',\n",
              " 'Number of reviews': '0',\n",
              " 'url': 'http://books.toscrape.com/catalogue/a-light-in-the-attic_1000/index.html'}"
            ]
          },
          "metadata": {},
          "execution_count": 52
        }
      ]
    },
    {
      "cell_type": "code",
      "source": [
        "# removing £ symbol and converting it to float\n",
        "float(book['Price (excl. tax)'][1:])"
      ],
      "metadata": {
        "colab": {
          "base_uri": "https://localhost:8080/"
        },
        "id": "7bpOtVxiq8nX",
        "outputId": "228ef2d5-9512-4590-df8e-fa3075031d30"
      },
      "execution_count": null,
      "outputs": [
        {
          "output_type": "execute_result",
          "data": {
            "text/plain": [
              "51.77"
            ]
          },
          "metadata": {},
          "execution_count": 53
        }
      ]
    },
    {
      "cell_type": "code",
      "source": [
        "# splitting 'availability' in 2 keys: 'quantity_available' and 'is_available'\n",
        "\n",
        "quantity_available = int(book['Availability'].split(\"(\")[-1][:-1].split()[0])\n",
        "is_available = book['Availability'].split(\"(\")[0].strip()\n"
      ],
      "metadata": {
        "id": "xulXLpNUrH5k"
      },
      "execution_count": null,
      "outputs": []
    },
    {
      "cell_type": "code",
      "source": [
        "quantity_available, is_available"
      ],
      "metadata": {
        "colab": {
          "base_uri": "https://localhost:8080/"
        },
        "id": "SfQSiTJ9rRYr",
        "outputId": "802a5e7a-8f47-4584-e517-cd8afa311d49"
      },
      "execution_count": null,
      "outputs": [
        {
          "output_type": "execute_result",
          "data": {
            "text/plain": [
              "(22, 'In stock')"
            ]
          },
          "metadata": {},
          "execution_count": 55
        }
      ]
    },
    {
      "cell_type": "code",
      "source": [
        "def fix(item):\n",
        "  item['Price (excl. tax)'] = float(item['Price (excl. tax)'][1:])\n",
        "  item['Price (incl. tax)'] = float(item['Price (incl. tax)'][1:])\n",
        "  item['Tax'] = float(item['Tax'][1:])\n",
        "  availability = item.pop('Availability')\n",
        "  item['is_available'] = True if availability.split(\"(\")[0].strip() == 'In stock' else False\n",
        "  item['quantity_available'] = int(availability.split(\"(\")[-1][:-1].split()[0])\n",
        "  return item\n",
        "\n",
        "formatted_data = [fix(item.copy()) for item in data]\n",
        "formatted_data[:3]"
      ],
      "metadata": {
        "colab": {
          "base_uri": "https://localhost:8080/"
        },
        "id": "nWF1x0DhrTRt",
        "outputId": "38bc0a9b-9e60-4ffb-8dd9-d1e41be05222"
      },
      "execution_count": null,
      "outputs": [
        {
          "output_type": "execute_result",
          "data": {
            "text/plain": [
              "[{'name': 'A Light in the Attic',\n",
              "  'UPC': 'a897fe39b1053632',\n",
              "  'Product Type': 'Books',\n",
              "  'Price (excl. tax)': 51.77,\n",
              "  'Price (incl. tax)': 51.77,\n",
              "  'Tax': 0.0,\n",
              "  'Number of reviews': '0',\n",
              "  'url': 'http://books.toscrape.com/catalogue/a-light-in-the-attic_1000/index.html',\n",
              "  'is_available': True,\n",
              "  'quantity_available': 22},\n",
              " {'name': 'Tipping the Velvet',\n",
              "  'UPC': '90fa61229261140a',\n",
              "  'Product Type': 'Books',\n",
              "  'Price (excl. tax)': 53.74,\n",
              "  'Price (incl. tax)': 53.74,\n",
              "  'Tax': 0.0,\n",
              "  'Number of reviews': '0',\n",
              "  'url': 'http://books.toscrape.com/catalogue/tipping-the-velvet_999/index.html',\n",
              "  'is_available': True,\n",
              "  'quantity_available': 20},\n",
              " {'name': 'Soumission',\n",
              "  'UPC': '6957f44c3847a760',\n",
              "  'Product Type': 'Books',\n",
              "  'Price (excl. tax)': 50.1,\n",
              "  'Price (incl. tax)': 50.1,\n",
              "  'Tax': 0.0,\n",
              "  'Number of reviews': '0',\n",
              "  'url': 'http://books.toscrape.com/catalogue/soumission_998/index.html',\n",
              "  'is_available': True,\n",
              "  'quantity_available': 20}]"
            ]
          },
          "metadata": {},
          "execution_count": 56
        }
      ]
    },
    {
      "cell_type": "code",
      "source": [
        "data_frame = {'name': ['A Light in the Attic'],\n",
        "  'UPC': ['a897fe39b1053632'],\n",
        "  'Product Type': ['Books'],\n",
        "  'Price (excl. tax)': [51.77],\n",
        "  'Price (incl. tax)': [51.77],\n",
        "  'Tax': [0.0],\n",
        "  'Number of reviews': ['0'],\n",
        "  'url': ['http://books.toscrape.com/catalogue/a-light-in-the-attic_1000/index.html'],\n",
        "  'is_available': [True],\n",
        "  'quantity_available': [22]}"
      ],
      "metadata": {
        "id": "G84XuK_HrnMc"
      },
      "execution_count": null,
      "outputs": []
    },
    {
      "cell_type": "code",
      "source": [
        "import pandas as pd"
      ],
      "metadata": {
        "id": "p_Txhlukrz6D"
      },
      "execution_count": null,
      "outputs": []
    },
    {
      "cell_type": "code",
      "source": [
        "pd.DataFrame(data_frame)"
      ],
      "metadata": {
        "colab": {
          "base_uri": "https://localhost:8080/",
          "height": 205
        },
        "id": "b4sjUTpMr4-W",
        "outputId": "c00317fb-f2da-4db0-aa6c-3c94af0e9426"
      },
      "execution_count": null,
      "outputs": [
        {
          "output_type": "execute_result",
          "data": {
            "text/plain": [
              "                   name               UPC Product Type  Price (excl. tax)  \\\n",
              "0  A Light in the Attic  a897fe39b1053632        Books              51.77   \n",
              "\n",
              "   Price (incl. tax)  Tax Number of reviews  \\\n",
              "0              51.77  0.0                 0   \n",
              "\n",
              "                                                 url  is_available  \\\n",
              "0  http://books.toscrape.com/catalogue/a-light-in...          True   \n",
              "\n",
              "   quantity_available  \n",
              "0                  22  "
            ],
            "text/html": [
              "\n",
              "  <div id=\"df-e1ce02f0-7ad8-4540-a65c-29af12d43f9e\" class=\"colab-df-container\">\n",
              "    <div>\n",
              "<style scoped>\n",
              "    .dataframe tbody tr th:only-of-type {\n",
              "        vertical-align: middle;\n",
              "    }\n",
              "\n",
              "    .dataframe tbody tr th {\n",
              "        vertical-align: top;\n",
              "    }\n",
              "\n",
              "    .dataframe thead th {\n",
              "        text-align: right;\n",
              "    }\n",
              "</style>\n",
              "<table border=\"1\" class=\"dataframe\">\n",
              "  <thead>\n",
              "    <tr style=\"text-align: right;\">\n",
              "      <th></th>\n",
              "      <th>name</th>\n",
              "      <th>UPC</th>\n",
              "      <th>Product Type</th>\n",
              "      <th>Price (excl. tax)</th>\n",
              "      <th>Price (incl. tax)</th>\n",
              "      <th>Tax</th>\n",
              "      <th>Number of reviews</th>\n",
              "      <th>url</th>\n",
              "      <th>is_available</th>\n",
              "      <th>quantity_available</th>\n",
              "    </tr>\n",
              "  </thead>\n",
              "  <tbody>\n",
              "    <tr>\n",
              "      <th>0</th>\n",
              "      <td>A Light in the Attic</td>\n",
              "      <td>a897fe39b1053632</td>\n",
              "      <td>Books</td>\n",
              "      <td>51.77</td>\n",
              "      <td>51.77</td>\n",
              "      <td>0.0</td>\n",
              "      <td>0</td>\n",
              "      <td>http://books.toscrape.com/catalogue/a-light-in...</td>\n",
              "      <td>True</td>\n",
              "      <td>22</td>\n",
              "    </tr>\n",
              "  </tbody>\n",
              "</table>\n",
              "</div>\n",
              "    <div class=\"colab-df-buttons\">\n",
              "\n",
              "  <div class=\"colab-df-container\">\n",
              "    <button class=\"colab-df-convert\" onclick=\"convertToInteractive('df-e1ce02f0-7ad8-4540-a65c-29af12d43f9e')\"\n",
              "            title=\"Convert this dataframe to an interactive table.\"\n",
              "            style=\"display:none;\">\n",
              "\n",
              "  <svg xmlns=\"http://www.w3.org/2000/svg\" height=\"24px\" viewBox=\"0 -960 960 960\">\n",
              "    <path d=\"M120-120v-720h720v720H120Zm60-500h600v-160H180v160Zm220 220h160v-160H400v160Zm0 220h160v-160H400v160ZM180-400h160v-160H180v160Zm440 0h160v-160H620v160ZM180-180h160v-160H180v160Zm440 0h160v-160H620v160Z\"/>\n",
              "  </svg>\n",
              "    </button>\n",
              "\n",
              "  <style>\n",
              "    .colab-df-container {\n",
              "      display:flex;\n",
              "      gap: 12px;\n",
              "    }\n",
              "\n",
              "    .colab-df-convert {\n",
              "      background-color: #E8F0FE;\n",
              "      border: none;\n",
              "      border-radius: 50%;\n",
              "      cursor: pointer;\n",
              "      display: none;\n",
              "      fill: #1967D2;\n",
              "      height: 32px;\n",
              "      padding: 0 0 0 0;\n",
              "      width: 32px;\n",
              "    }\n",
              "\n",
              "    .colab-df-convert:hover {\n",
              "      background-color: #E2EBFA;\n",
              "      box-shadow: 0px 1px 2px rgba(60, 64, 67, 0.3), 0px 1px 3px 1px rgba(60, 64, 67, 0.15);\n",
              "      fill: #174EA6;\n",
              "    }\n",
              "\n",
              "    .colab-df-buttons div {\n",
              "      margin-bottom: 4px;\n",
              "    }\n",
              "\n",
              "    [theme=dark] .colab-df-convert {\n",
              "      background-color: #3B4455;\n",
              "      fill: #D2E3FC;\n",
              "    }\n",
              "\n",
              "    [theme=dark] .colab-df-convert:hover {\n",
              "      background-color: #434B5C;\n",
              "      box-shadow: 0px 1px 3px 1px rgba(0, 0, 0, 0.15);\n",
              "      filter: drop-shadow(0px 1px 2px rgba(0, 0, 0, 0.3));\n",
              "      fill: #FFFFFF;\n",
              "    }\n",
              "  </style>\n",
              "\n",
              "    <script>\n",
              "      const buttonEl =\n",
              "        document.querySelector('#df-e1ce02f0-7ad8-4540-a65c-29af12d43f9e button.colab-df-convert');\n",
              "      buttonEl.style.display =\n",
              "        google.colab.kernel.accessAllowed ? 'block' : 'none';\n",
              "\n",
              "      async function convertToInteractive(key) {\n",
              "        const element = document.querySelector('#df-e1ce02f0-7ad8-4540-a65c-29af12d43f9e');\n",
              "        const dataTable =\n",
              "          await google.colab.kernel.invokeFunction('convertToInteractive',\n",
              "                                                    [key], {});\n",
              "        if (!dataTable) return;\n",
              "\n",
              "        const docLinkHtml = 'Like what you see? Visit the ' +\n",
              "          '<a target=\"_blank\" href=https://colab.research.google.com/notebooks/data_table.ipynb>data table notebook</a>'\n",
              "          + ' to learn more about interactive tables.';\n",
              "        element.innerHTML = '';\n",
              "        dataTable['output_type'] = 'display_data';\n",
              "        await google.colab.output.renderOutput(dataTable, element);\n",
              "        const docLink = document.createElement('div');\n",
              "        docLink.innerHTML = docLinkHtml;\n",
              "        element.appendChild(docLink);\n",
              "      }\n",
              "    </script>\n",
              "  </div>\n",
              "\n",
              "    </div>\n",
              "  </div>\n"
            ],
            "application/vnd.google.colaboratory.intrinsic+json": {
              "type": "dataframe",
              "summary": "{\n  \"name\": \"pd\",\n  \"rows\": 1,\n  \"fields\": [\n    {\n      \"column\": \"name\",\n      \"properties\": {\n        \"dtype\": \"string\",\n        \"num_unique_values\": 1,\n        \"samples\": [\n          \"A Light in the Attic\"\n        ],\n        \"semantic_type\": \"\",\n        \"description\": \"\"\n      }\n    },\n    {\n      \"column\": \"UPC\",\n      \"properties\": {\n        \"dtype\": \"string\",\n        \"num_unique_values\": 1,\n        \"samples\": [\n          \"a897fe39b1053632\"\n        ],\n        \"semantic_type\": \"\",\n        \"description\": \"\"\n      }\n    },\n    {\n      \"column\": \"Product Type\",\n      \"properties\": {\n        \"dtype\": \"string\",\n        \"num_unique_values\": 1,\n        \"samples\": [\n          \"Books\"\n        ],\n        \"semantic_type\": \"\",\n        \"description\": \"\"\n      }\n    },\n    {\n      \"column\": \"Price (excl. tax)\",\n      \"properties\": {\n        \"dtype\": \"number\",\n        \"std\": null,\n        \"min\": 51.77,\n        \"max\": 51.77,\n        \"num_unique_values\": 1,\n        \"samples\": [\n          51.77\n        ],\n        \"semantic_type\": \"\",\n        \"description\": \"\"\n      }\n    },\n    {\n      \"column\": \"Price (incl. tax)\",\n      \"properties\": {\n        \"dtype\": \"number\",\n        \"std\": null,\n        \"min\": 51.77,\n        \"max\": 51.77,\n        \"num_unique_values\": 1,\n        \"samples\": [\n          51.77\n        ],\n        \"semantic_type\": \"\",\n        \"description\": \"\"\n      }\n    },\n    {\n      \"column\": \"Tax\",\n      \"properties\": {\n        \"dtype\": \"number\",\n        \"std\": null,\n        \"min\": 0.0,\n        \"max\": 0.0,\n        \"num_unique_values\": 1,\n        \"samples\": [\n          0.0\n        ],\n        \"semantic_type\": \"\",\n        \"description\": \"\"\n      }\n    },\n    {\n      \"column\": \"Number of reviews\",\n      \"properties\": {\n        \"dtype\": \"string\",\n        \"num_unique_values\": 1,\n        \"samples\": [\n          \"0\"\n        ],\n        \"semantic_type\": \"\",\n        \"description\": \"\"\n      }\n    },\n    {\n      \"column\": \"url\",\n      \"properties\": {\n        \"dtype\": \"string\",\n        \"num_unique_values\": 1,\n        \"samples\": [\n          \"http://books.toscrape.com/catalogue/a-light-in-the-attic_1000/index.html\"\n        ],\n        \"semantic_type\": \"\",\n        \"description\": \"\"\n      }\n    },\n    {\n      \"column\": \"is_available\",\n      \"properties\": {\n        \"dtype\": \"boolean\",\n        \"num_unique_values\": 1,\n        \"samples\": [\n          true\n        ],\n        \"semantic_type\": \"\",\n        \"description\": \"\"\n      }\n    },\n    {\n      \"column\": \"quantity_available\",\n      \"properties\": {\n        \"dtype\": \"number\",\n        \"std\": null,\n        \"min\": 22,\n        \"max\": 22,\n        \"num_unique_values\": 1,\n        \"samples\": [\n          22\n        ],\n        \"semantic_type\": \"\",\n        \"description\": \"\"\n      }\n    }\n  ]\n}"
            }
          },
          "metadata": {},
          "execution_count": 68
        }
      ]
    },
    {
      "cell_type": "code",
      "source": [
        "from bs4 import BeautifulSoup\n",
        "\n",
        "# HTML\n",
        "html_snippet = \"\"\"\n",
        "<!DOCTYPE html>\n",
        "<html>\n",
        "<head>\n",
        "    <title>Product Data</title>\n",
        "</head>\n",
        "<body>\n",
        "    <table>\n",
        "        <thead>\n",
        "            <tr>\n",
        "                <th>Product Name</th>\n",
        "                <th>Price</th>\n",
        "                <th>Category</th>\n",
        "            </tr>\n",
        "        </thead>\n",
        "        <tbody>\n",
        "            <tr>\n",
        "                <td>Laptop</td>\n",
        "                <td>999</td>\n",
        "                <td>Electronics</td>\n",
        "            </tr>\n",
        "            <tr>\n",
        "                <td>Smartwatch</td>\n",
        "                <td>250</td>\n",
        "                <td>Wearables</td>\n",
        "            </tr>\n",
        "            <tr>\n",
        "                <td>Novel</td>\n",
        "                <td>15.99</td>\n",
        "                <td>Books</td>\n",
        "            </tr>\n",
        "        </tbody>\n",
        "    </table>\n",
        "</body>\n",
        "</html>\n",
        "\n",
        "\"\"\"\n",
        "\n",
        "# output\n",
        "# [['Product Name', 'Price', 'Category'],\n",
        "#  ['Laptop', '999', 'Electronics'],\n",
        "#  ['Smartwatch', '250', 'Wearables'],\n",
        "#  ['Novel', '15.99', 'Books']]"
      ],
      "metadata": {
        "id": "uYY6s6Fcr8Rv"
      },
      "execution_count": null,
      "outputs": []
    },
    {
      "cell_type": "code",
      "source": [
        "def scrape_table(html_content):\n",
        "\n",
        "  soup = BeautifulSoup(html_content,'html.parser')\n",
        "\n",
        "  table = soup.find('table')\n",
        "\n",
        "  data = []\n",
        "\n",
        "  for row in table.find_all('tr'):\n",
        "\n",
        "    row_data = [cell.text.strip() for cell in row.find_all(['th','td'])]\n",
        "\n",
        "    data.append(row_data)\n",
        "\n",
        "  print(data)\n"
      ],
      "metadata": {
        "id": "8khN9mMPuIn1"
      },
      "execution_count": null,
      "outputs": []
    },
    {
      "cell_type": "code",
      "source": [
        "scrape_table(html_snippet)"
      ],
      "metadata": {
        "colab": {
          "base_uri": "https://localhost:8080/"
        },
        "id": "p3Qbu8yZu4U5",
        "outputId": "c392acbc-695c-4bb9-b252-2647e6c989dd"
      },
      "execution_count": null,
      "outputs": [
        {
          "output_type": "stream",
          "name": "stdout",
          "text": [
            "[['Product Name', 'Price', 'Category'], ['Laptop', '999', 'Electronics'], ['Smartwatch', '250', 'Wearables'], ['Novel', '15.99', 'Books']]\n"
          ]
        }
      ]
    },
    {
      "cell_type": "code",
      "source": [
        "soup=BeautifulSoup(markup=html_snippet,parser=\"html.parser\")\n",
        "# a=soup.find(name='thead').getText().split(\"\\n\")\n",
        "tr=[]\n",
        "b=soup.find_all(name='tr')\n",
        "for i in b:\n",
        "  c=i.getText().split(\"\\n\")\n",
        "  #print(c)\n",
        "  r=[]\n",
        "  for j in c:\n",
        "    if j!='':\n",
        "      r.append(j)\n",
        "  tr.append(r)\n",
        "  # print(i)\n",
        "tr"
      ],
      "metadata": {
        "colab": {
          "base_uri": "https://localhost:8080/"
        },
        "id": "mmyzrpKwu62A",
        "outputId": "8086f23e-2895-464e-d365-75dab0fcf366"
      },
      "execution_count": null,
      "outputs": [
        {
          "output_type": "execute_result",
          "data": {
            "text/plain": [
              "[['Product Name', 'Price', 'Category'],\n",
              " ['Laptop', '999', 'Electronics'],\n",
              " ['Smartwatch', '250', 'Wearables'],\n",
              " ['Novel', '15.99', 'Books']]"
            ]
          },
          "metadata": {},
          "execution_count": 84
        }
      ]
    },
    {
      "cell_type": "code",
      "source": [],
      "metadata": {
        "id": "lp4ok2TvwVNW"
      },
      "execution_count": null,
      "outputs": []
    }
  ]
}