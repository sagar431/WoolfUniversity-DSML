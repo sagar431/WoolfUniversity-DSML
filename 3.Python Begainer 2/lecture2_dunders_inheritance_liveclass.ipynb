{
  "nbformat": 4,
  "nbformat_minor": 0,
  "metadata": {
    "colab": {
      "provenance": []
    },
    "kernelspec": {
      "name": "python3",
      "display_name": "Python 3"
    },
    "language_info": {
      "name": "python"
    }
  },
  "cells": [
    {
      "cell_type": "markdown",
      "source": [
        "## Quiz 1:\n",
        "\n",
        "How many objects would be created by runing the following code? Code"
      ],
      "metadata": {
        "id": "fchyZ35xKVYz"
      }
    },
    {
      "cell_type": "code",
      "execution_count": null,
      "metadata": {
        "colab": {
          "base_uri": "https://localhost:8080/"
        },
        "id": "fjBnHsEyIYLc",
        "outputId": "7a5e0ad3-5bec-419c-ef90-7b9f6d9fcdc3"
      },
      "outputs": [
        {
          "output_type": "stream",
          "name": "stdout",
          "text": [
            "Am I a class?\n",
            "<__main__.A object at 0x78a35987b160>\n"
          ]
        }
      ],
      "source": [
        "class A:\n",
        "    print(\"Am I a class?\")\n",
        "\n",
        "A()\n",
        "\n",
        "obj1 = A()\n",
        "\n",
        "if A():\n",
        "    print(A())"
      ]
    },
    {
      "cell_type": "code",
      "source": [
        "class A:\n",
        "    print(\"Am I a class?\")\n",
        "\n",
        "\n",
        "obj1 = A()\n",
        "\n",
        "print(obj1)"
      ],
      "metadata": {
        "colab": {
          "base_uri": "https://localhost:8080/"
        },
        "id": "ApTem0WFLNEp",
        "outputId": "b4e9ffe1-b48b-4fee-aafc-ec9fc79ae624"
      },
      "execution_count": null,
      "outputs": [
        {
          "output_type": "stream",
          "name": "stdout",
          "text": [
            "Am I a class?\n",
            "<__main__.A object at 0x78a358a37250>\n"
          ]
        }
      ]
    },
    {
      "cell_type": "markdown",
      "source": [
        "## Dunders"
      ],
      "metadata": {
        "id": "rZSVyg97LzpB"
      }
    },
    {
      "cell_type": "code",
      "source": [
        "class Car:\n",
        "\n",
        "    def __init__(self, name, mileage):\n",
        "        self.name = name\n",
        "        self.mileage = mileage\n",
        "\n",
        "    def __str__(self):\n",
        "      return f\"{self.name} -> {self.mileage}\"\n",
        "\n",
        "    def __add__(self, other):\n",
        "      return self.mileage + other.mileage\n",
        "\n",
        "    def __lt__(self, other):\n",
        "        return self.mileage < other.mileage\n"
      ],
      "metadata": {
        "id": "512FalVJLU5t"
      },
      "execution_count": null,
      "outputs": []
    },
    {
      "cell_type": "code",
      "source": [
        "c1 = Car(\"Nexon\", 12)\n",
        "c2 = Car(\"Altroz\", 15)"
      ],
      "metadata": {
        "id": "dT7CZjfgL8bQ"
      },
      "execution_count": null,
      "outputs": []
    },
    {
      "cell_type": "code",
      "source": [
        "print(c1)"
      ],
      "metadata": {
        "colab": {
          "base_uri": "https://localhost:8080/"
        },
        "id": "fZalghh1MDvq",
        "outputId": "ec496291-8e59-45af-c700-2c16ba1ff752"
      },
      "execution_count": null,
      "outputs": [
        {
          "output_type": "stream",
          "name": "stdout",
          "text": [
            "<__main__.Car object at 0x78a358a37e50>\n"
          ]
        }
      ]
    },
    {
      "cell_type": "code",
      "source": [
        "print(c1)"
      ],
      "metadata": {
        "colab": {
          "base_uri": "https://localhost:8080/"
        },
        "id": "ZF8aOJ-cMOqk",
        "outputId": "9a8de21c-9547-4fe4-bd8c-d4a05d1658a7"
      },
      "execution_count": null,
      "outputs": [
        {
          "output_type": "stream",
          "name": "stdout",
          "text": [
            "This is a good car\n"
          ]
        }
      ]
    },
    {
      "cell_type": "code",
      "source": [
        "print(Car(\"Nexon\", 12))"
      ],
      "metadata": {
        "colab": {
          "base_uri": "https://localhost:8080/"
        },
        "id": "YiXD9LK3MpFn",
        "outputId": "f3e31ffd-68cd-4446-87ef-50fef09c2b64"
      },
      "execution_count": null,
      "outputs": [
        {
          "output_type": "stream",
          "name": "stdout",
          "text": [
            "This is a good car\n"
          ]
        }
      ]
    },
    {
      "cell_type": "code",
      "source": [
        "print(c1)"
      ],
      "metadata": {
        "colab": {
          "base_uri": "https://localhost:8080/"
        },
        "id": "fvHbqHIuM9Cm",
        "outputId": "0f4ae616-58ad-4ae3-c6a9-23da570206cf"
      },
      "execution_count": null,
      "outputs": [
        {
          "output_type": "stream",
          "name": "stdout",
          "text": [
            "Nexon -> 12\n"
          ]
        }
      ]
    },
    {
      "cell_type": "code",
      "source": [
        "print(c2)"
      ],
      "metadata": {
        "colab": {
          "base_uri": "https://localhost:8080/"
        },
        "id": "E5qsNfdBNZ5c",
        "outputId": "adea48cf-761f-4bfe-e74c-5035ad874180"
      },
      "execution_count": null,
      "outputs": [
        {
          "output_type": "stream",
          "name": "stdout",
          "text": [
            "Altroz -> 15\n"
          ]
        }
      ]
    },
    {
      "cell_type": "code",
      "source": [
        "c1 + c2"
      ],
      "metadata": {
        "colab": {
          "base_uri": "https://localhost:8080/",
          "height": 141
        },
        "id": "bNUXew40NeAc",
        "outputId": "0a6798e5-638d-4a28-c518-1806c39b784f"
      },
      "execution_count": null,
      "outputs": [
        {
          "output_type": "error",
          "ename": "TypeError",
          "evalue": "unsupported operand type(s) for +: 'Car' and 'Car'",
          "traceback": [
            "\u001b[0;31m---------------------------------------------------------------------------\u001b[0m",
            "\u001b[0;31mTypeError\u001b[0m                                 Traceback (most recent call last)",
            "\u001b[0;32m<ipython-input-18-61818d23e61f>\u001b[0m in \u001b[0;36m<cell line: 1>\u001b[0;34m()\u001b[0m\n\u001b[0;32m----> 1\u001b[0;31m \u001b[0mc1\u001b[0m \u001b[0;34m+\u001b[0m \u001b[0mc2\u001b[0m\u001b[0;34m\u001b[0m\u001b[0;34m\u001b[0m\u001b[0m\n\u001b[0m",
            "\u001b[0;31mTypeError\u001b[0m: unsupported operand type(s) for +: 'Car' and 'Car'"
          ]
        }
      ]
    },
    {
      "cell_type": "code",
      "source": [
        "c1 + c2"
      ],
      "metadata": {
        "colab": {
          "base_uri": "https://localhost:8080/"
        },
        "id": "K8MDLYu1OlgI",
        "outputId": "ceb8e057-e469-4dad-9a66-0d9880fc3b75"
      },
      "execution_count": null,
      "outputs": [
        {
          "output_type": "execute_result",
          "data": {
            "text/plain": [
              "27"
            ]
          },
          "metadata": {},
          "execution_count": 21
        }
      ]
    },
    {
      "cell_type": "code",
      "source": [
        "## Please explore other dunder methods."
      ],
      "metadata": {
        "id": "dslOJymqO8K1"
      },
      "execution_count": null,
      "outputs": []
    },
    {
      "cell_type": "markdown",
      "source": [
        "## Inheritance"
      ],
      "metadata": {
        "id": "299X5lPEQqC4"
      }
    },
    {
      "cell_type": "code",
      "source": [
        "class Parent:\n",
        "  def __init__(self):\n",
        "    print(\"parent class\")\n",
        "\n",
        "\n",
        "\n",
        "class Child(Parent): # inheriting parent class\n",
        "  def __init__(self):\n",
        "    print(\"child class\")"
      ],
      "metadata": {
        "id": "fYiCH90pQr4u"
      },
      "execution_count": null,
      "outputs": []
    },
    {
      "cell_type": "markdown",
      "source": [
        "School Example"
      ],
      "metadata": {
        "id": "il51uE6ASMg6"
      }
    },
    {
      "cell_type": "code",
      "source": [
        "class Schoolmember:\n",
        "\n",
        "  def __init__(self, name):\n",
        "    self.name = name\n",
        "\n",
        "\n",
        "class Student(Schoolmember):\n",
        "\n",
        "  def __init__(self, name, grade):\n",
        "    super().__init__(name) #super is a keyword use to refrence the parent class\n",
        "    self.grade = grade\n",
        "\n",
        "\n",
        "class Staff(Schoolmember):\n",
        "    def __init__(self, name, salary):\n",
        "        super().__init__(name)\n",
        "        self.salary = salary\n",
        "\n",
        "class Teacher(Staff):\n",
        "    def __init__(self, name, salary, subject):\n",
        "        super().__init__(name, salary)\n",
        "        self.subject = subject"
      ],
      "metadata": {
        "id": "iWXOxLj7SKkY"
      },
      "execution_count": null,
      "outputs": []
    },
    {
      "cell_type": "code",
      "source": [
        "s1 = Student(\"Krishna\", \"A\")\n",
        "\n",
        "type(s1)"
      ],
      "metadata": {
        "colab": {
          "base_uri": "https://localhost:8080/",
          "height": 103
        },
        "id": "5p212hCAS-_7",
        "outputId": "aca8c229-76a7-417c-c00d-a9e2055a9ef1"
      },
      "execution_count": null,
      "outputs": [
        {
          "output_type": "execute_result",
          "data": {
            "text/plain": [
              "__main__.Student"
            ],
            "text/html": [
              "<div style=\"max-width:800px; border: 1px solid var(--colab-border-color);\"><style>\n",
              "      pre.function-repr-contents {\n",
              "        overflow-x: auto;\n",
              "        padding: 8px 12px;\n",
              "        max-height: 500px;\n",
              "      }\n",
              "\n",
              "      pre.function-repr-contents.function-repr-contents-collapsed {\n",
              "        cursor: pointer;\n",
              "        max-height: 100px;\n",
              "      }\n",
              "    </style>\n",
              "    <pre style=\"white-space: initial; background:\n",
              "         var(--colab-secondary-surface-color); padding: 8px 12px;\n",
              "         border-bottom: 1px solid var(--colab-border-color);\"><b>Student</b><br/>def __init__(name, grade)</pre><pre class=\"function-repr-contents function-repr-contents-collapsed\" style=\"\"><a class=\"filepath\" style=\"display:none\" href=\"#\"></a>&lt;no docstring&gt;</pre></div>"
            ]
          },
          "metadata": {},
          "execution_count": 29
        }
      ]
    },
    {
      "cell_type": "code",
      "source": [
        "s1.name"
      ],
      "metadata": {
        "colab": {
          "base_uri": "https://localhost:8080/",
          "height": 141
        },
        "id": "bINYEgYFTDk8",
        "outputId": "5fdea6f8-d443-4c1e-a652-28980fb13fea"
      },
      "execution_count": null,
      "outputs": [
        {
          "output_type": "error",
          "ename": "AttributeError",
          "evalue": "'Student' object has no attribute 'name'",
          "traceback": [
            "\u001b[0;31m---------------------------------------------------------------------------\u001b[0m",
            "\u001b[0;31mAttributeError\u001b[0m                            Traceback (most recent call last)",
            "\u001b[0;32m<ipython-input-25-bfa1764dcbdc>\u001b[0m in \u001b[0;36m<cell line: 1>\u001b[0;34m()\u001b[0m\n\u001b[0;32m----> 1\u001b[0;31m \u001b[0ms1\u001b[0m\u001b[0;34m.\u001b[0m\u001b[0mname\u001b[0m\u001b[0;34m\u001b[0m\u001b[0;34m\u001b[0m\u001b[0m\n\u001b[0m",
            "\u001b[0;31mAttributeError\u001b[0m: 'Student' object has no attribute 'name'"
          ]
        }
      ]
    },
    {
      "cell_type": "code",
      "source": [
        "s1.name"
      ],
      "metadata": {
        "colab": {
          "base_uri": "https://localhost:8080/",
          "height": 35
        },
        "id": "Ggift-aLTJs-",
        "outputId": "6bebd482-2075-44d9-af0c-a942e30e7cc8"
      },
      "execution_count": null,
      "outputs": [
        {
          "output_type": "execute_result",
          "data": {
            "text/plain": [
              "'Krishna'"
            ],
            "application/vnd.google.colaboratory.intrinsic+json": {
              "type": "string"
            }
          },
          "metadata": {},
          "execution_count": 30
        }
      ]
    },
    {
      "cell_type": "code",
      "source": [
        "class Schoolmember:\n",
        "\n",
        "  def __init__(self, name):\n",
        "    self.name = name\n",
        "\n",
        "\n",
        "class Student(Schoolmember):\n",
        "\n",
        "  def __init__(self, name, grade):\n",
        "    super().__init__(name) #super is a keyword use to refrence the parent class\n",
        "    self.grade = grade\n",
        "\n",
        "\n",
        "class Staff(Schoolmember):\n",
        "    def __init__(self, name, salary):\n",
        "        super().__init__(name)\n",
        "        self.salary = salary\n",
        "\n",
        "class Teacher(Staff):\n",
        "    def __init__(self, name, salary, subject):\n",
        "        super().__init__(name, salary)\n",
        "        self.subject = subject"
      ],
      "metadata": {
        "id": "1phymdCYTiCp"
      },
      "execution_count": null,
      "outputs": []
    },
    {
      "cell_type": "code",
      "source": [
        "s1 = Student(\"Sharath\", \"A\")\n",
        "print(s1.name)"
      ],
      "metadata": {
        "colab": {
          "base_uri": "https://localhost:8080/"
        },
        "id": "Vw8zHgmWV8nk",
        "outputId": "23975f8a-c06c-4fa7-9c45-e695b13dffe9"
      },
      "execution_count": null,
      "outputs": [
        {
          "output_type": "stream",
          "name": "stdout",
          "text": [
            "Sharath\n"
          ]
        }
      ]
    },
    {
      "cell_type": "code",
      "source": [
        "s1.name = \"Random\"\n",
        "print(s1.name)"
      ],
      "metadata": {
        "colab": {
          "base_uri": "https://localhost:8080/"
        },
        "id": "yOCW5WYlV_Ag",
        "outputId": "6ebe7639-7ffd-4880-c799-75081ef8680b"
      },
      "execution_count": null,
      "outputs": [
        {
          "output_type": "stream",
          "name": "stdout",
          "text": [
            "Random\n"
          ]
        }
      ]
    },
    {
      "cell_type": "code",
      "source": [
        "t1 = Teacher(\"Bipin\", 10, \"Python\")\n",
        "\n",
        "t1.name, t1.salary, t1.subject"
      ],
      "metadata": {
        "colab": {
          "base_uri": "https://localhost:8080/"
        },
        "id": "cyfYViWBWIc1",
        "outputId": "f44d3076-c736-4c4d-aace-b6386f0c2dfd"
      },
      "execution_count": null,
      "outputs": [
        {
          "output_type": "execute_result",
          "data": {
            "text/plain": [
              "('Bipin', 10, 'Python')"
            ]
          },
          "metadata": {},
          "execution_count": 35
        }
      ]
    },
    {
      "cell_type": "markdown",
      "source": [
        "## Quiz 2"
      ],
      "metadata": {
        "id": "CS2hwYPKW1XH"
      }
    },
    {
      "cell_type": "code",
      "source": [
        "class A:\n",
        "    def do_something(self):\n",
        "        print(\"I do something!\", end=\" \")\n",
        "\n",
        "class B(A):\n",
        "    def do_something(self):\n",
        "        super().do_something()\n",
        "        print(\"I also do something!\", end=\" \")\n",
        "\n",
        "b = B()\n",
        "b.do_something()"
      ],
      "metadata": {
        "colab": {
          "base_uri": "https://localhost:8080/"
        },
        "id": "_ZEwoN7YWV8T",
        "outputId": "24e04dad-30c1-46a0-dd98-14ac2b03820f"
      },
      "execution_count": null,
      "outputs": [
        {
          "output_type": "stream",
          "name": "stdout",
          "text": [
            "I do something! I also do something! "
          ]
        }
      ]
    },
    {
      "cell_type": "code",
      "source": [
        "class BankAccount:\n",
        "    def __init__(self, balance):\n",
        "        self.__balance = balance\n",
        "\n",
        "    def withdrawl(self, amount):\n",
        "        self.__balance -= amount\n",
        "\n",
        "    def deposit(self, amount):\n",
        "        self.__balance += amount"
      ],
      "metadata": {
        "id": "iztTjL8_XInc"
      },
      "execution_count": null,
      "outputs": []
    },
    {
      "cell_type": "code",
      "source": [],
      "metadata": {
        "id": "DNV8FZvCaRgn"
      },
      "execution_count": null,
      "outputs": []
    },
    {
      "cell_type": "code",
      "source": [
        "b1 = BankAccount(10000)"
      ],
      "metadata": {
        "id": "Mw2-kWK3XaeS"
      },
      "execution_count": null,
      "outputs": []
    },
    {
      "cell_type": "code",
      "source": [
        "b1.__balance"
      ],
      "metadata": {
        "colab": {
          "base_uri": "https://localhost:8080/"
        },
        "id": "ju7s6RKNXc1L",
        "outputId": "15a5e5b2-5dca-4b78-8cd2-ca6a312e0ab2"
      },
      "execution_count": null,
      "outputs": [
        {
          "output_type": "execute_result",
          "data": {
            "text/plain": [
              "98782372379723972937923273929479374973497973497"
            ]
          },
          "metadata": {},
          "execution_count": 52
        }
      ]
    },
    {
      "cell_type": "code",
      "source": [
        "b1.deposit(5000)\n",
        "b1.balance"
      ],
      "metadata": {
        "colab": {
          "base_uri": "https://localhost:8080/"
        },
        "id": "JQ-jcfT-XjJI",
        "outputId": "1a7865db-247b-4aa5-82d5-8ee704470077"
      },
      "execution_count": null,
      "outputs": [
        {
          "output_type": "execute_result",
          "data": {
            "text/plain": [
              "15000"
            ]
          },
          "metadata": {},
          "execution_count": 40
        }
      ]
    },
    {
      "cell_type": "code",
      "source": [
        "b1.withdrawl(15000)\n",
        "\n",
        "b1.balance"
      ],
      "metadata": {
        "colab": {
          "base_uri": "https://localhost:8080/"
        },
        "id": "lzRtbZrAXqzF",
        "outputId": "00f751f2-a680-41d0-ddc4-17917d06a48f"
      },
      "execution_count": null,
      "outputs": [
        {
          "output_type": "execute_result",
          "data": {
            "text/plain": [
              "0"
            ]
          },
          "metadata": {},
          "execution_count": 41
        }
      ]
    },
    {
      "cell_type": "code",
      "source": [
        "b1.balance = 98782372379723972937923273929479374973497973497"
      ],
      "metadata": {
        "id": "Hc37XHblXxpX"
      },
      "execution_count": null,
      "outputs": []
    },
    {
      "cell_type": "code",
      "source": [
        "b1.balance"
      ],
      "metadata": {
        "colab": {
          "base_uri": "https://localhost:8080/"
        },
        "id": "OorqKeqnX1qX",
        "outputId": "566dcb69-e352-4506-bb8f-629b50552ad8"
      },
      "execution_count": null,
      "outputs": [
        {
          "output_type": "execute_result",
          "data": {
            "text/plain": [
              "98782372379723972937923273929479374973497973497"
            ]
          },
          "metadata": {},
          "execution_count": 45
        }
      ]
    },
    {
      "cell_type": "code",
      "source": [
        "## Concept of private variables"
      ],
      "metadata": {
        "id": "okw7NxNMZwW7"
      },
      "execution_count": null,
      "outputs": []
    },
    {
      "cell_type": "code",
      "source": [
        "b1.__balance = 98782372379723972937923273929479374973497973497"
      ],
      "metadata": {
        "id": "9hUCUmmBX8-V"
      },
      "execution_count": null,
      "outputs": []
    },
    {
      "cell_type": "code",
      "source": [
        "class BankAccount:\n",
        "    def __init__(self, balance):\n",
        "        # initializing private property\n",
        "        self.__balance = balance\n",
        "\n",
        "    # Setter\n",
        "    def withdraw(self, amount):\n",
        "        self.__balance -= amount\n",
        "\n",
        "    def deposit(self, amount):\n",
        "        self.__balance += amount\n",
        "\n",
        "    def check_balance(self):\n",
        "      return self.__balance"
      ],
      "metadata": {
        "id": "PK-119pCaNDV"
      },
      "execution_count": null,
      "outputs": []
    },
    {
      "cell_type": "code",
      "source": [
        "b1 = BankAccount(10000)\n",
        "\n",
        "# cannot be accessed like this\n",
        "b1.__balance"
      ],
      "metadata": {
        "colab": {
          "base_uri": "https://localhost:8080/",
          "height": 176
        },
        "id": "BUXSkSGsaTD1",
        "outputId": "018ea943-b780-45dd-e995-7fc2ae54718b"
      },
      "execution_count": null,
      "outputs": [
        {
          "output_type": "error",
          "ename": "AttributeError",
          "evalue": "'BankAccount' object has no attribute '__balance'",
          "traceback": [
            "\u001b[0;31m---------------------------------------------------------------------------\u001b[0m",
            "\u001b[0;31mAttributeError\u001b[0m                            Traceback (most recent call last)",
            "\u001b[0;32m<ipython-input-59-3bb99baabf88>\u001b[0m in \u001b[0;36m<cell line: 4>\u001b[0;34m()\u001b[0m\n\u001b[1;32m      2\u001b[0m \u001b[0;34m\u001b[0m\u001b[0m\n\u001b[1;32m      3\u001b[0m \u001b[0;31m# cannot be accessed like this\u001b[0m\u001b[0;34m\u001b[0m\u001b[0;34m\u001b[0m\u001b[0m\n\u001b[0;32m----> 4\u001b[0;31m \u001b[0mb1\u001b[0m\u001b[0;34m.\u001b[0m\u001b[0m__balance\u001b[0m\u001b[0;34m\u001b[0m\u001b[0;34m\u001b[0m\u001b[0m\n\u001b[0m",
            "\u001b[0;31mAttributeError\u001b[0m: 'BankAccount' object has no attribute '__balance'"
          ]
        }
      ]
    },
    {
      "cell_type": "code",
      "source": [
        "b1.check_balance()"
      ],
      "metadata": {
        "colab": {
          "base_uri": "https://localhost:8080/"
        },
        "id": "_bDochTMaXzb",
        "outputId": "811c174d-de7b-446f-ee86-b23948145d47"
      },
      "execution_count": null,
      "outputs": [
        {
          "output_type": "execute_result",
          "data": {
            "text/plain": [
              "10000"
            ]
          },
          "metadata": {},
          "execution_count": 60
        }
      ]
    },
    {
      "cell_type": "code",
      "source": [
        "# Nothing can be completely private in Python."
      ],
      "metadata": {
        "id": "lWtKSUiVardW"
      },
      "execution_count": null,
      "outputs": []
    },
    {
      "cell_type": "code",
      "source": [
        "# Checking the properties and methods within any object -\n",
        "dir(b1)"
      ],
      "metadata": {
        "colab": {
          "base_uri": "https://localhost:8080/"
        },
        "id": "PFgA1w1Ja6wn",
        "outputId": "c958b6c4-52a2-4054-a24d-6684cc1a15ee"
      },
      "execution_count": null,
      "outputs": [
        {
          "output_type": "execute_result",
          "data": {
            "text/plain": [
              "['_BankAccount__balance',\n",
              " '__class__',\n",
              " '__delattr__',\n",
              " '__dict__',\n",
              " '__dir__',\n",
              " '__doc__',\n",
              " '__eq__',\n",
              " '__format__',\n",
              " '__ge__',\n",
              " '__getattribute__',\n",
              " '__gt__',\n",
              " '__hash__',\n",
              " '__init__',\n",
              " '__init_subclass__',\n",
              " '__le__',\n",
              " '__lt__',\n",
              " '__module__',\n",
              " '__ne__',\n",
              " '__new__',\n",
              " '__reduce__',\n",
              " '__reduce_ex__',\n",
              " '__repr__',\n",
              " '__setattr__',\n",
              " '__sizeof__',\n",
              " '__str__',\n",
              " '__subclasshook__',\n",
              " '__weakref__',\n",
              " 'check_balance',\n",
              " 'deposit',\n",
              " 'withdraw']"
            ]
          },
          "metadata": {},
          "execution_count": 61
        }
      ]
    },
    {
      "cell_type": "code",
      "source": [
        "b1._BankAccount__balance"
      ],
      "metadata": {
        "colab": {
          "base_uri": "https://localhost:8080/"
        },
        "id": "DKBQpJSPbAL5",
        "outputId": "e8b970ac-20db-424f-a880-c24ce9d38146"
      },
      "execution_count": null,
      "outputs": [
        {
          "output_type": "execute_result",
          "data": {
            "text/plain": [
              "10000"
            ]
          },
          "metadata": {},
          "execution_count": 62
        }
      ]
    },
    {
      "cell_type": "markdown",
      "source": [
        "## Muticlass Inheritance"
      ],
      "metadata": {
        "id": "azdGOSKDcTl-"
      }
    },
    {
      "cell_type": "code",
      "source": [
        "class A:\n",
        "    def __init__(self, a):\n",
        "        self.a = a\n",
        "\n",
        "class B:\n",
        "    def __init__(self, b):\n",
        "        self.b = b\n",
        "\n",
        "class C(A,B):\n",
        "\n",
        "  def __init__(self, a,b,c):\n",
        "\n",
        "    #super().__init__(a,b) #This will not work\n",
        "\n",
        "    # super().__init__(a) #This will not work\n",
        "    # super().__init__(b) #This will not work\n",
        "\n",
        "    A.__init__(self,a)\n",
        "    B.__init__(self,b)\n",
        "    self.c = c"
      ],
      "metadata": {
        "id": "lkGKQtnebU_i"
      },
      "execution_count": null,
      "outputs": []
    },
    {
      "cell_type": "code",
      "source": [
        "c1 = C(1,2,3)\n",
        "\n",
        "c1.c"
      ],
      "metadata": {
        "colab": {
          "base_uri": "https://localhost:8080/"
        },
        "id": "lLM4UJF8dtO8",
        "outputId": "a7cb2aa4-94c6-4014-a42c-a7f07a8b8c80"
      },
      "execution_count": null,
      "outputs": [
        {
          "output_type": "execute_result",
          "data": {
            "text/plain": [
              "3"
            ]
          },
          "metadata": {},
          "execution_count": 64
        }
      ]
    },
    {
      "cell_type": "code",
      "source": [
        "c1.a, c1.b"
      ],
      "metadata": {
        "colab": {
          "base_uri": "https://localhost:8080/"
        },
        "id": "ZOhlShqmdwIR",
        "outputId": "eab9840e-c922-4bc2-f029-3e8ecaca464e"
      },
      "execution_count": null,
      "outputs": [
        {
          "output_type": "execute_result",
          "data": {
            "text/plain": [
              "(1, 2)"
            ]
          },
          "metadata": {},
          "execution_count": 65
        }
      ]
    },
    {
      "cell_type": "markdown",
      "source": [
        "MRO (Method Resolution Order)"
      ],
      "metadata": {
        "id": "3P9fT3CwebSo"
      }
    },
    {
      "cell_type": "code",
      "source": [
        "class A:\n",
        "    x = 10\n",
        "\n",
        "class B(A):\n",
        "    x = 8\n",
        "\n",
        "class D(B):\n",
        "    pass\n",
        "\n",
        "class C(A):\n",
        "  x = 5\n",
        "\n",
        "class E(D,C):\n",
        "    pass\n"
      ],
      "metadata": {
        "id": "uiBEhm0FebCq"
      },
      "execution_count": null,
      "outputs": []
    },
    {
      "cell_type": "code",
      "source": [
        "e1 = E()\n",
        "\n",
        "e1.x"
      ],
      "metadata": {
        "colab": {
          "base_uri": "https://localhost:8080/"
        },
        "id": "h9v0SZXidxtu",
        "outputId": "a4537bc0-3bdc-468a-ead2-12a5d359c54c"
      },
      "execution_count": null,
      "outputs": [
        {
          "output_type": "execute_result",
          "data": {
            "text/plain": [
              "8"
            ]
          },
          "metadata": {},
          "execution_count": 84
        }
      ]
    },
    {
      "cell_type": "code",
      "source": [
        "# It'll give the method resolution order\n",
        "E.__mro__"
      ],
      "metadata": {
        "colab": {
          "base_uri": "https://localhost:8080/"
        },
        "id": "sIuSeYWmgsn9",
        "outputId": "4daca404-56ea-45ad-9cf9-c6b7b56e3079"
      },
      "execution_count": null,
      "outputs": [
        {
          "output_type": "execute_result",
          "data": {
            "text/plain": [
              "(__main__.E, __main__.D, __main__.B, __main__.C, __main__.A, object)"
            ]
          },
          "metadata": {},
          "execution_count": 85
        }
      ]
    },
    {
      "cell_type": "markdown",
      "source": [
        "## Quiz 3"
      ],
      "metadata": {
        "id": "RT4kAILQjUo4"
      }
    },
    {
      "cell_type": "code",
      "source": [
        "class A:\n",
        "  pass\n",
        "class B:\n",
        "  pass\n",
        "class C(A, B):\n",
        "  pass\n",
        "class D:\n",
        "  pass\n",
        "class E(C, D):\n",
        "  pass"
      ],
      "metadata": {
        "id": "oY9GyUXGhB6U"
      },
      "execution_count": null,
      "outputs": []
    },
    {
      "cell_type": "markdown",
      "source": [
        "## Practice Question"
      ],
      "metadata": {
        "id": "MO9rN-M3lU__"
      }
    },
    {
      "cell_type": "code",
      "source": [
        "class Animal:\n",
        "\n",
        "  def __init__(self, species, age, name):\n",
        "    self.species = species\n",
        "    self.age = age\n",
        "    self.name = name\n",
        "\n",
        "\n",
        "  def __str__(self, species, age, name):\n",
        "    return f\"Name: {self.name}, Species: {self.species}, Age: {self.age}\"\n",
        "\n",
        "\n",
        "class Bird(Animal):\n",
        "\n",
        "  def __init__(self, species, age, name, can_fly):\n",
        "    Animal.__init__(self,species, age, name)\n",
        "    self.can_fly = can_fly\n",
        "\n",
        "\n",
        "  def __str__(self):\n",
        "    fly_status = \"Yes\" if self.can_fly else \"No\"\n",
        "    return f\"{super().__str__()}, Can Fly: {fly_status}\"\n",
        "\n",
        "\n",
        "\n",
        "class Zoo:\n",
        "\n",
        "  def __init__(self):\n",
        "    self.animals = []\n",
        "\n",
        "\n",
        "  def add_animals(self, animal):\n",
        "    self.animals.append(animal)\n",
        "\n",
        "\n",
        "  def list_animals(self):\n",
        "    for animal in self.animals:\n",
        "      print(animal)\n",
        "\n",
        "\n",
        "\n"
      ],
      "metadata": {
        "id": "BaykaaPNlSnY"
      },
      "execution_count": null,
      "outputs": []
    },
    {
      "cell_type": "code",
      "source": [
        "class Person:\n",
        "\n",
        "  def __init__(self, Name):\n",
        "    self.name = Name             #line x\n",
        "\n",
        "  def get_person_name(self):\n",
        "    return self.name\n",
        "\n",
        "\n",
        "p1=Person(\"Vishal\")\n"
      ],
      "metadata": {
        "id": "bF-fLXWBlSgg"
      },
      "execution_count": null,
      "outputs": []
    },
    {
      "cell_type": "code",
      "source": [
        "p1.name"
      ],
      "metadata": {
        "colab": {
          "base_uri": "https://localhost:8080/",
          "height": 35
        },
        "id": "FQTvBLE4sC2J",
        "outputId": "5172e94e-3c15-46cf-bb9d-3455a001deff"
      },
      "execution_count": null,
      "outputs": [
        {
          "output_type": "execute_result",
          "data": {
            "text/plain": [
              "'Vishal'"
            ],
            "application/vnd.google.colaboratory.intrinsic+json": {
              "type": "string"
            }
          },
          "metadata": {},
          "execution_count": 88
        }
      ]
    },
    {
      "cell_type": "code",
      "source": [
        "p1.get_person_name()"
      ],
      "metadata": {
        "colab": {
          "base_uri": "https://localhost:8080/",
          "height": 35
        },
        "id": "FxQ7jXy5sVU_",
        "outputId": "a6b2cf27-7000-4b45-9993-fc2a359635d9"
      },
      "execution_count": null,
      "outputs": [
        {
          "output_type": "execute_result",
          "data": {
            "text/plain": [
              "'Vishal'"
            ],
            "application/vnd.google.colaboratory.intrinsic+json": {
              "type": "string"
            }
          },
          "metadata": {},
          "execution_count": 90
        }
      ]
    },
    {
      "cell_type": "code",
      "source": [
        "def __init__(self, marks1,marks2,credits1, credits2):\n",
        "  self.marks1 = marks1\n",
        "  self.marks2 = marks2\n",
        "  self.credits1 = credits1\n",
        "  self.credits2 = credits2\n",
        "       #YOUR CODE GOES HERE\n",
        "\n",
        "def grade_point_average(self):\n",
        "  points1 = self.calculate_points(self.marks1)\n",
        "  points2 = self.calculate_points(self.marks2)\n",
        "  total_credits = self.credits1 + self.credits2\n",
        "\n",
        "  if total_credits == 0:\n",
        "    return -1.0\n",
        "  else:\n",
        "    gpa = (points1 * self.credits1 + points2 * self.credits2) / total_credits\n",
        "\n",
        "    return round(gpa,2)\n",
        "    # Rounded to two decimal places\n",
        "\n",
        "def calculate_points(self, marks):\n",
        "\n",
        "  if marks >= 90:\n",
        "      return 10\n",
        "  elif 90 > marks and marks >= 75:\n",
        "      return 9\n",
        "  elif 75 > marks and marks >= 60:\n",
        "      return 8 elif 60 > marks and marks >= 45: return 7 else: return 0"
      ],
      "metadata": {
        "id": "MKzNCpzGshZ_"
      },
      "execution_count": null,
      "outputs": []
    },
    {
      "cell_type": "markdown",
      "source": [],
      "metadata": {
        "id": "G2izG6CqsClv"
      }
    },
    {
      "cell_type": "markdown",
      "source": [],
      "metadata": {
        "id": "ya6opxmZmWtm"
      }
    }
  ]
}