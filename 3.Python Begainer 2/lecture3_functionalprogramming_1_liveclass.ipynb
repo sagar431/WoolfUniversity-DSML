{
  "nbformat": 4,
  "nbformat_minor": 0,
  "metadata": {
    "colab": {
      "provenance": []
    },
    "kernelspec": {
      "name": "python3",
      "display_name": "Python 3"
    },
    "language_info": {
      "name": "python"
    }
  },
  "cells": [
    {
      "cell_type": "markdown",
      "source": [
        "## Nested Class"
      ],
      "metadata": {
        "id": "wxv9S_Wim6Q1"
      }
    },
    {
      "cell_type": "code",
      "execution_count": null,
      "metadata": {
        "id": "J3UggRzllrpb"
      },
      "outputs": [],
      "source": [
        "class Outer:\n",
        "    \"\"\"Outer Class\"\"\"\n",
        "\n",
        "    def __init__(self):\n",
        "        ## instantiating the 'Inner' class\n",
        "        self.inner = self.Inner()\n",
        "\n",
        "    def reveal(self):\n",
        "        ## calling the 'Inner' class function display\n",
        "        self.inner.inner_display(\"Hello\")\n",
        "\n",
        "    class Inner:\n",
        "        \"\"\"Inner Class\"\"\"\n",
        "\n",
        "        def inner_display(self, msg):\n",
        "            print(msg)"
      ]
    },
    {
      "cell_type": "code",
      "source": [
        "outer = Outer()"
      ],
      "metadata": {
        "id": "MvaV-oBYnHzy"
      },
      "execution_count": null,
      "outputs": []
    },
    {
      "cell_type": "code",
      "source": [
        "outer.reveal()"
      ],
      "metadata": {
        "colab": {
          "base_uri": "https://localhost:8080/"
        },
        "id": "oi1AUvMnnbdU",
        "outputId": "b9f52ebb-df31-42b2-a4c1-c714a8cfb376"
      },
      "execution_count": null,
      "outputs": [
        {
          "output_type": "stream",
          "name": "stdout",
          "text": [
            "Calling Inner class function from Outer class\n"
          ]
        }
      ]
    },
    {
      "cell_type": "code",
      "source": [
        "Outer().Inner().inner_display(\"Hellow\")"
      ],
      "metadata": {
        "colab": {
          "base_uri": "https://localhost:8080/",
          "height": 228
        },
        "id": "6OWvAAxAoZZF",
        "outputId": "cca9bb38-7413-40a5-bb28-16ee810a0417"
      },
      "execution_count": null,
      "outputs": [
        {
          "output_type": "error",
          "ename": "AttributeError",
          "evalue": "'Inner' object has no attribute 'msg'",
          "traceback": [
            "\u001b[0;31m---------------------------------------------------------------------------\u001b[0m",
            "\u001b[0;31mAttributeError\u001b[0m                            Traceback (most recent call last)",
            "\u001b[0;32m<ipython-input-22-d9cd8dafaea4>\u001b[0m in \u001b[0;36m<cell line: 1>\u001b[0;34m()\u001b[0m\n\u001b[0;32m----> 1\u001b[0;31m \u001b[0mOuter\u001b[0m\u001b[0;34m(\u001b[0m\u001b[0;34m)\u001b[0m\u001b[0;34m.\u001b[0m\u001b[0mInner\u001b[0m\u001b[0;34m(\u001b[0m\u001b[0;34m)\u001b[0m\u001b[0;34m.\u001b[0m\u001b[0minner_display\u001b[0m\u001b[0;34m(\u001b[0m\u001b[0;34m\"Hellow\"\u001b[0m\u001b[0;34m)\u001b[0m\u001b[0;34m\u001b[0m\u001b[0;34m\u001b[0m\u001b[0m\n\u001b[0m",
            "\u001b[0;32m<ipython-input-21-92844f9e8e43>\u001b[0m in \u001b[0;36minner_display\u001b[0;34m(self, msg)\u001b[0m\n\u001b[1;32m     14\u001b[0m \u001b[0;34m\u001b[0m\u001b[0m\n\u001b[1;32m     15\u001b[0m         \u001b[0;32mdef\u001b[0m \u001b[0minner_display\u001b[0m\u001b[0;34m(\u001b[0m\u001b[0mself\u001b[0m\u001b[0;34m,\u001b[0m \u001b[0mmsg\u001b[0m\u001b[0;34m)\u001b[0m\u001b[0;34m:\u001b[0m\u001b[0;34m\u001b[0m\u001b[0;34m\u001b[0m\u001b[0m\n\u001b[0;32m---> 16\u001b[0;31m             \u001b[0mprint\u001b[0m\u001b[0;34m(\u001b[0m\u001b[0mself\u001b[0m\u001b[0;34m.\u001b[0m\u001b[0mmsg\u001b[0m\u001b[0;34m)\u001b[0m\u001b[0;34m\u001b[0m\u001b[0;34m\u001b[0m\u001b[0m\n\u001b[0m",
            "\u001b[0;31mAttributeError\u001b[0m: 'Inner' object has no attribute 'msg'"
          ]
        }
      ]
    },
    {
      "cell_type": "code",
      "source": [
        "# Car and Engine\n",
        "\n",
        "\n",
        "class Car:\n",
        "\n",
        "  class Engine"
      ],
      "metadata": {
        "id": "Uwf8VQeAqgHG"
      },
      "execution_count": null,
      "outputs": []
    },
    {
      "cell_type": "markdown",
      "source": [
        "## Functional Programming"
      ],
      "metadata": {
        "id": "jcNH2udFt7Y_"
      }
    },
    {
      "cell_type": "code",
      "source": [
        "numbers = [1, 2, 3, 4]\n",
        "squared_numbers = []\n",
        "for num in numbers:\n",
        "    squared_numbers.append(num*num)"
      ],
      "metadata": {
        "id": "PHZpjSbdt919"
      },
      "execution_count": null,
      "outputs": []
    },
    {
      "cell_type": "code",
      "source": [
        "squared_numbers"
      ],
      "metadata": {
        "colab": {
          "base_uri": "https://localhost:8080/"
        },
        "id": "6sBO0MQruBbV",
        "outputId": "09994457-9fb4-4450-fc9a-0ec4361f5344"
      },
      "execution_count": null,
      "outputs": [
        {
          "output_type": "execute_result",
          "data": {
            "text/plain": [
              "[1, 4, 9, 16]"
            ]
          },
          "metadata": {},
          "execution_count": 26
        }
      ]
    },
    {
      "cell_type": "markdown",
      "source": [
        "### Map function"
      ],
      "metadata": {
        "id": "WKScOdUjuHOo"
      }
    },
    {
      "cell_type": "code",
      "source": [
        "numbers = [1, 2, 3, 4]\n",
        "\n",
        "def square_num(num):\n",
        "\n",
        "  return num * num\n",
        "\n",
        "\n",
        "tuple(map(square_num,numbers))"
      ],
      "metadata": {
        "colab": {
          "base_uri": "https://localhost:8080/"
        },
        "id": "vReadt0EuDjs",
        "outputId": "daf881be-176c-44af-c11d-8626140c94c6"
      },
      "execution_count": null,
      "outputs": [
        {
          "output_type": "execute_result",
          "data": {
            "text/plain": [
              "(1, 4, 9, 16)"
            ]
          },
          "metadata": {},
          "execution_count": 29
        }
      ]
    },
    {
      "cell_type": "markdown",
      "source": [
        "## lambda function"
      ],
      "metadata": {
        "id": "Q8yROlO5uq8y"
      }
    },
    {
      "cell_type": "code",
      "source": [
        "numbers = [1, 2, 3, 4] #inplace is a state update\n",
        "\n",
        "stored_value = list(map(lambda b: b*b ,numbers))\n",
        "\n",
        "# They donot require state update."
      ],
      "metadata": {
        "colab": {
          "base_uri": "https://localhost:8080/"
        },
        "id": "QIXWaYgQuXxL",
        "outputId": "4015f8cd-d835-4ebd-c8b0-c0d612c65764"
      },
      "execution_count": null,
      "outputs": [
        {
          "output_type": "execute_result",
          "data": {
            "text/plain": [
              "[1, 4, 9, 16]"
            ]
          },
          "metadata": {},
          "execution_count": 32
        }
      ]
    },
    {
      "cell_type": "markdown",
      "source": [
        "Why use functional programming?\n",
        "\n",
        "1) Concise and Readble\n",
        "2) More maintainable\n",
        "3) Efficient\n",
        "\n",
        "\n",
        "\n"
      ],
      "metadata": {
        "id": "rYMcShH1v27o"
      }
    },
    {
      "cell_type": "markdown",
      "source": [
        "## lambda Function"
      ],
      "metadata": {
        "id": "EV2fXbiWyGxi"
      }
    },
    {
      "cell_type": "code",
      "source": [
        "# function_name = lambda arguments: expression"
      ],
      "metadata": {
        "id": "M7eWA_zju5se"
      },
      "execution_count": null,
      "outputs": []
    },
    {
      "cell_type": "code",
      "source": [
        "def cube(x):\n",
        "\n",
        "  return x ** 3\n",
        "\n",
        "cube(3)"
      ],
      "metadata": {
        "colab": {
          "base_uri": "https://localhost:8080/"
        },
        "id": "2ZHZA52qyUoH",
        "outputId": "9fcd6ce9-9e19-496a-dafc-71554bfbe68c"
      },
      "execution_count": null,
      "outputs": [
        {
          "output_type": "execute_result",
          "data": {
            "text/plain": [
              "27"
            ]
          },
          "metadata": {},
          "execution_count": 34
        }
      ]
    },
    {
      "cell_type": "code",
      "source": [
        "(lambda x : x**3)(3) # It doesn't have any name"
      ],
      "metadata": {
        "colab": {
          "base_uri": "https://localhost:8080/"
        },
        "id": "906QUhBCyaqz",
        "outputId": "4d32e285-824c-4d26-b66a-bf69ddbc0749"
      },
      "execution_count": null,
      "outputs": [
        {
          "output_type": "execute_result",
          "data": {
            "text/plain": [
              "27"
            ]
          },
          "metadata": {},
          "execution_count": 37
        }
      ]
    },
    {
      "cell_type": "markdown",
      "source": [
        "## Adding two numbers using lambda"
      ],
      "metadata": {
        "id": "T7ay8ByazAVg"
      }
    },
    {
      "cell_type": "code",
      "source": [
        "(lambda x,y: x + y)(5,4)"
      ],
      "metadata": {
        "colab": {
          "base_uri": "https://localhost:8080/"
        },
        "id": "Vyg_uLYoyg0Z",
        "outputId": "9117a4e3-be0b-4b79-b98f-5da7cea5501b"
      },
      "execution_count": null,
      "outputs": [
        {
          "output_type": "execute_result",
          "data": {
            "text/plain": [
              "9"
            ]
          },
          "metadata": {},
          "execution_count": 38
        }
      ]
    },
    {
      "cell_type": "code",
      "source": [
        "sum_two = lambda x,y: x + y\n",
        "sum_two(5,4)"
      ],
      "metadata": {
        "colab": {
          "base_uri": "https://localhost:8080/"
        },
        "id": "tDjmE5hWzaky",
        "outputId": "84e7732f-2f39-488b-874c-a12246ef0f5b"
      },
      "execution_count": null,
      "outputs": [
        {
          "output_type": "execute_result",
          "data": {
            "text/plain": [
              "9"
            ]
          },
          "metadata": {},
          "execution_count": 39
        }
      ]
    },
    {
      "cell_type": "markdown",
      "source": [
        "if the number is greater than 4 then 1 else 0"
      ],
      "metadata": {
        "id": "Ux8ynlbZzpPP"
      }
    },
    {
      "cell_type": "code",
      "source": [
        "s = 'hello'\n",
        "\n",
        "count = 0\n",
        "for i in s:\n",
        "  count += 1\n",
        "\n",
        "count"
      ],
      "metadata": {
        "colab": {
          "base_uri": "https://localhost:8080/"
        },
        "id": "a8-B7oGn3eG0",
        "outputId": "f6730344-d0ad-45c9-8378-4c651bbdaf26"
      },
      "execution_count": null,
      "outputs": [
        {
          "output_type": "execute_result",
          "data": {
            "text/plain": [
              "5"
            ]
          },
          "metadata": {},
          "execution_count": 60
        }
      ]
    },
    {
      "cell_type": "code",
      "source": [
        "gt = lambda x : 1 if int(x) > 4 else 0\n",
        "\n",
        "gt(\"20\")"
      ],
      "metadata": {
        "colab": {
          "base_uri": "https://localhost:8080/"
        },
        "id": "RXD7RQIjzgpM",
        "outputId": "c744c15f-b962-407c-8197-bc17be1f5031"
      },
      "execution_count": null,
      "outputs": [
        {
          "output_type": "execute_result",
          "data": {
            "text/plain": [
              "1"
            ]
          },
          "metadata": {},
          "execution_count": 45
        }
      ]
    },
    {
      "cell_type": "code",
      "source": [
        "students = [\n",
        "    {\"name\": \"A\", \"marks\": 50},\n",
        "    {\"name\": \"B\", \"marks\": 100},\n",
        "    {\"name\": \"C\", \"marks\": 40},\n",
        "    {\"name\": \"D\", \"marks\": 70},\n",
        "    {\"name\": \"E\", \"marks\": 60},\n",
        "]"
      ],
      "metadata": {
        "id": "IHF3Hksg0DjF"
      },
      "execution_count": null,
      "outputs": []
    },
    {
      "cell_type": "code",
      "source": [
        "students[0]['marks']"
      ],
      "metadata": {
        "colab": {
          "base_uri": "https://localhost:8080/"
        },
        "id": "8HoTNCNf0tqY",
        "outputId": "f5eff20e-9151-411e-d4f3-1311e956c97f"
      },
      "execution_count": null,
      "outputs": [
        {
          "output_type": "execute_result",
          "data": {
            "text/plain": [
              "50"
            ]
          },
          "metadata": {},
          "execution_count": 48
        }
      ]
    },
    {
      "cell_type": "code",
      "source": [
        "students[1]['marks']"
      ],
      "metadata": {
        "colab": {
          "base_uri": "https://localhost:8080/"
        },
        "id": "-QRLj0FJ043f",
        "outputId": "bbb983e2-d129-456d-d008-d445c1951819"
      },
      "execution_count": null,
      "outputs": [
        {
          "output_type": "execute_result",
          "data": {
            "text/plain": [
              "100"
            ]
          },
          "metadata": {},
          "execution_count": 49
        }
      ]
    },
    {
      "cell_type": "code",
      "source": [
        "## Compare two student marks"
      ],
      "metadata": {
        "id": "sj-Wxp671ASj"
      },
      "execution_count": null,
      "outputs": []
    },
    {
      "cell_type": "code",
      "source": [
        "students[0]['marks'] > students[1]['marks']"
      ],
      "metadata": {
        "colab": {
          "base_uri": "https://localhost:8080/"
        },
        "id": "_XxMpvN31GAE",
        "outputId": "8ef95d4e-5c9d-49a3-e500-dd70de7cf5fb"
      },
      "execution_count": null,
      "outputs": [
        {
          "output_type": "execute_result",
          "data": {
            "text/plain": [
              "False"
            ]
          },
          "metadata": {},
          "execution_count": 51
        }
      ]
    },
    {
      "cell_type": "code",
      "source": [
        "get_value = lambda x : x['marks']"
      ],
      "metadata": {
        "id": "KDXe1TsJ1J6c"
      },
      "execution_count": null,
      "outputs": []
    },
    {
      "cell_type": "code",
      "source": [
        "get_value(students[0])"
      ],
      "metadata": {
        "colab": {
          "base_uri": "https://localhost:8080/"
        },
        "id": "tHDAHGji1eXI",
        "outputId": "8e862f96-dcb7-4bb7-b0a0-e1f669351db3"
      },
      "execution_count": null,
      "outputs": [
        {
          "output_type": "execute_result",
          "data": {
            "text/plain": [
              "50"
            ]
          },
          "metadata": {},
          "execution_count": 53
        }
      ]
    },
    {
      "cell_type": "code",
      "source": [
        "get_value(students[1])"
      ],
      "metadata": {
        "colab": {
          "base_uri": "https://localhost:8080/"
        },
        "id": "ZGgBoEW01iGh",
        "outputId": "3693bf72-5e2e-47ef-ed00-c90b710c9e47"
      },
      "execution_count": null,
      "outputs": [
        {
          "output_type": "execute_result",
          "data": {
            "text/plain": [
              "100"
            ]
          },
          "metadata": {},
          "execution_count": 54
        }
      ]
    },
    {
      "cell_type": "code",
      "source": [
        "get_value(students[0]) > get_value(students[1])"
      ],
      "metadata": {
        "colab": {
          "base_uri": "https://localhost:8080/"
        },
        "id": "-PKsEp1E1j2f",
        "outputId": "15b843d3-c9de-4731-a3a7-8c3a23667cc1"
      },
      "execution_count": null,
      "outputs": [
        {
          "output_type": "execute_result",
          "data": {
            "text/plain": [
              "False"
            ]
          },
          "metadata": {},
          "execution_count": 55
        }
      ]
    },
    {
      "cell_type": "markdown",
      "source": [
        "## How to sort a dictionary? by key or value"
      ],
      "metadata": {
        "id": "WOmZAhHU1zYu"
      }
    },
    {
      "cell_type": "code",
      "source": [
        "students"
      ],
      "metadata": {
        "colab": {
          "base_uri": "https://localhost:8080/"
        },
        "id": "xKGbrH3G1msB",
        "outputId": "2f52a978-95f3-49e1-937a-6f2e2758c950"
      },
      "execution_count": null,
      "outputs": [
        {
          "output_type": "execute_result",
          "data": {
            "text/plain": [
              "[{'name': 'A', 'marks': 50},\n",
              " {'name': 'B', 'marks': 100},\n",
              " {'name': 'C', 'marks': 40},\n",
              " {'name': 'D', 'marks': 70},\n",
              " {'name': 'E', 'marks': 60}]"
            ]
          },
          "metadata": {},
          "execution_count": 56
        }
      ]
    },
    {
      "cell_type": "code",
      "source": [
        "sorted(students, key = lambda x: x['name'], reverse = True)"
      ],
      "metadata": {
        "colab": {
          "base_uri": "https://localhost:8080/"
        },
        "id": "0S2UGvBB18AP",
        "outputId": "6e273c6e-d640-42e9-8aaf-e3daba272cba"
      },
      "execution_count": null,
      "outputs": [
        {
          "output_type": "execute_result",
          "data": {
            "text/plain": [
              "[{'name': 'E', 'marks': 60},\n",
              " {'name': 'D', 'marks': 70},\n",
              " {'name': 'C', 'marks': 40},\n",
              " {'name': 'B', 'marks': 100},\n",
              " {'name': 'A', 'marks': 50}]"
            ]
          },
          "metadata": {},
          "execution_count": 58
        }
      ]
    },
    {
      "cell_type": "code",
      "source": [
        "sorted(students, key = lambda x: x['marks'], reverse = True)"
      ],
      "metadata": {
        "colab": {
          "base_uri": "https://localhost:8080/"
        },
        "id": "qWOval992QpJ",
        "outputId": "246f5f36-3c70-4cb5-b2f9-867cb7edfa71"
      },
      "execution_count": null,
      "outputs": [
        {
          "output_type": "execute_result",
          "data": {
            "text/plain": [
              "[{'name': 'B', 'marks': 100},\n",
              " {'name': 'D', 'marks': 70},\n",
              " {'name': 'E', 'marks': 60},\n",
              " {'name': 'A', 'marks': 50},\n",
              " {'name': 'C', 'marks': 40}]"
            ]
          },
          "metadata": {},
          "execution_count": 59
        }
      ]
    },
    {
      "cell_type": "code",
      "source": [
        "# sort vs sorted\n",
        "\n",
        "\n",
        "a = [1,2,3,4]\n",
        "\n",
        "a.sort() # inplace operation\n",
        "\n",
        "a\n",
        "\n"
      ],
      "metadata": {
        "colab": {
          "base_uri": "https://localhost:8080/"
        },
        "id": "c3aonFDd2YG7",
        "outputId": "c33293f6-6ecf-4b72-e3ee-e2cdfa4739fd"
      },
      "execution_count": null,
      "outputs": [
        {
          "output_type": "execute_result",
          "data": {
            "text/plain": [
              "[1, 2, 3, 4]"
            ]
          },
          "metadata": {},
          "execution_count": 63
        }
      ]
    },
    {
      "cell_type": "code",
      "source": [
        "a = [1,5,3,4]\n",
        "\n",
        "sorted(a) # not inplace"
      ],
      "metadata": {
        "colab": {
          "base_uri": "https://localhost:8080/"
        },
        "id": "GwfdmFRm4cgZ",
        "outputId": "9e868be9-8592-4e0f-c70d-5882bd315be1"
      },
      "execution_count": null,
      "outputs": [
        {
          "output_type": "execute_result",
          "data": {
            "text/plain": [
              "[1, 3, 4, 5]"
            ]
          },
          "metadata": {},
          "execution_count": 67
        }
      ]
    },
    {
      "cell_type": "code",
      "source": [
        "a"
      ],
      "metadata": {
        "colab": {
          "base_uri": "https://localhost:8080/"
        },
        "id": "50Imza-g4jrF",
        "outputId": "042e050c-e367-476a-c161-fd08d4027497"
      },
      "execution_count": null,
      "outputs": [
        {
          "output_type": "execute_result",
          "data": {
            "text/plain": [
              "[1, 5, 3, 4]"
            ]
          },
          "metadata": {},
          "execution_count": 66
        }
      ]
    },
    {
      "cell_type": "markdown",
      "source": [
        "## Higher order functions"
      ],
      "metadata": {
        "id": "auDKISSc4vAX"
      }
    },
    {
      "cell_type": "code",
      "source": [
        "# y = f(x)\n",
        "\n",
        "# y = x (Linear function)\n",
        "\n",
        "# y = x**2 (2nd degree function)"
      ],
      "metadata": {
        "id": "OKtbrnY64mYf"
      },
      "execution_count": null,
      "outputs": []
    },
    {
      "cell_type": "code",
      "source": [
        "# It's a function inside a function / nested function"
      ],
      "metadata": {
        "id": "338AX2Is5A3z"
      },
      "execution_count": null,
      "outputs": []
    },
    {
      "cell_type": "code",
      "source": [
        "def gen_exp(n):\n",
        "\n",
        "  def exp(x):\n",
        "    return x ** n\n",
        "\n",
        "  def exp_again(y):\n",
        "    return y ** n\n",
        "\n",
        "  return exp,exp_again"
      ],
      "metadata": {
        "id": "Vn33dUUg5HLa"
      },
      "execution_count": null,
      "outputs": []
    },
    {
      "cell_type": "code",
      "source": [
        "exp_3 = gen_exp(3)"
      ],
      "metadata": {
        "id": "skkwtN9n5c-H"
      },
      "execution_count": null,
      "outputs": []
    },
    {
      "cell_type": "code",
      "source": [
        "type(exp_3)"
      ],
      "metadata": {
        "colab": {
          "base_uri": "https://localhost:8080/"
        },
        "id": "VJE3iVsy6Iww",
        "outputId": "d5280ce0-0678-4f26-ca27-e6ad8c18611e"
      },
      "execution_count": null,
      "outputs": [
        {
          "output_type": "execute_result",
          "data": {
            "text/plain": [
              "function"
            ]
          },
          "metadata": {},
          "execution_count": 73
        }
      ]
    },
    {
      "cell_type": "code",
      "source": [
        "exp_3(3)"
      ],
      "metadata": {
        "colab": {
          "base_uri": "https://localhost:8080/"
        },
        "id": "hq55phrv5yNy",
        "outputId": "808e85b1-346b-4a0d-bdf3-25ec95feca35"
      },
      "execution_count": null,
      "outputs": [
        {
          "output_type": "execute_result",
          "data": {
            "text/plain": [
              "27"
            ]
          },
          "metadata": {},
          "execution_count": 72
        }
      ]
    },
    {
      "cell_type": "code",
      "source": [
        "exp_3, exp_again_3 = gen_exp(3)"
      ],
      "metadata": {
        "id": "tWCxMZFP6AeH"
      },
      "execution_count": null,
      "outputs": []
    },
    {
      "cell_type": "code",
      "source": [
        "exp_again_3(4)"
      ],
      "metadata": {
        "colab": {
          "base_uri": "https://localhost:8080/"
        },
        "id": "a0h6qw6N6eXQ",
        "outputId": "344b2514-321e-49e2-cb58-fe3ec6d72831"
      },
      "execution_count": null,
      "outputs": [
        {
          "output_type": "execute_result",
          "data": {
            "text/plain": [
              "64"
            ]
          },
          "metadata": {},
          "execution_count": 77
        }
      ]
    },
    {
      "cell_type": "markdown",
      "source": [
        "Consider the following scenario: You want to generate a function that can calculate the square of any number. How can you achieve this using a higher order function?"
      ],
      "metadata": {
        "id": "6KIb8b197fZ6"
      }
    },
    {
      "cell_type": "code",
      "source": [
        "def generate_square_function():\n",
        "\n",
        "  def square(x):\n",
        "    return x ** 2\n",
        "\n",
        "  return square"
      ],
      "metadata": {
        "id": "0G-Xne1p6kkJ"
      },
      "execution_count": null,
      "outputs": []
    },
    {
      "cell_type": "code",
      "source": [
        "cal_sq = generate_square_function()\n",
        "\n",
        "cal_sq(5)"
      ],
      "metadata": {
        "colab": {
          "base_uri": "https://localhost:8080/"
        },
        "id": "sl781c7p7qZQ",
        "outputId": "43d262b1-3ac6-4f98-e61a-28cb843eae64"
      },
      "execution_count": null,
      "outputs": [
        {
          "output_type": "execute_result",
          "data": {
            "text/plain": [
              "25"
            ]
          },
          "metadata": {},
          "execution_count": 79
        }
      ]
    },
    {
      "cell_type": "markdown",
      "source": [
        "## Decorators"
      ],
      "metadata": {
        "id": "MgrzYkDn76QU"
      }
    },
    {
      "cell_type": "code",
      "source": [
        "def foo():\n",
        "    print(\"Hello everyone! How are you doing?\")"
      ],
      "metadata": {
        "id": "calWmFz-7w9h"
      },
      "execution_count": null,
      "outputs": []
    },
    {
      "cell_type": "code",
      "source": [
        "foo()"
      ],
      "metadata": {
        "colab": {
          "base_uri": "https://localhost:8080/"
        },
        "id": "5R7KIMJg8K4h",
        "outputId": "1461b8a9-bbb3-41a9-9fb4-753cda5f9d8a"
      },
      "execution_count": null,
      "outputs": [
        {
          "output_type": "stream",
          "name": "stdout",
          "text": [
            "Hello everyone! How are you doing?\n"
          ]
        }
      ]
    },
    {
      "cell_type": "code",
      "source": [
        "def poo():\n",
        "    print(\"-\"*50) # code that runs before\n",
        "    print(\"Hello everyone! How are you doing?\")\n",
        "    print(\"-\"*50) # code that runs after\n",
        "\n",
        "poo()"
      ],
      "metadata": {
        "colab": {
          "base_uri": "https://localhost:8080/"
        },
        "id": "ZMKwGn-o8MBw",
        "outputId": "3aef6df8-49d5-495c-e9b8-3ad66ad5f30e"
      },
      "execution_count": null,
      "outputs": [
        {
          "output_type": "stream",
          "name": "stdout",
          "text": [
            "--------------------------------------------------\n",
            "Hello everyone! How are you doing?\n",
            "--------------------------------------------------\n"
          ]
        }
      ]
    },
    {
      "cell_type": "code",
      "source": [
        "# All 10,000 funcs"
      ],
      "metadata": {
        "id": "dC1WdOlk8Tdt"
      },
      "execution_count": null,
      "outputs": []
    },
    {
      "cell_type": "code",
      "source": [
        "def pretty(func):\n",
        "\n",
        "    def inner():\n",
        "        print(\"-\"*50)\n",
        "        func()\n",
        "        print(\"-\"*50)\n",
        "\n",
        "    return inner"
      ],
      "metadata": {
        "id": "CW_Cd1r88o4d"
      },
      "execution_count": null,
      "outputs": []
    },
    {
      "cell_type": "code",
      "source": [
        "@pretty\n",
        "def soo():\n",
        "    print(\"This is amazing!!!\")\n",
        "\n",
        "\n",
        "@pretty\n",
        "def foo():\n",
        "    print(\"Hello everyone! How are you doing?\")\n",
        "\n",
        "\n",
        "soo()\n",
        "foo()"
      ],
      "metadata": {
        "colab": {
          "base_uri": "https://localhost:8080/"
        },
        "id": "mKF8sFQW9s9V",
        "outputId": "90f16444-3af8-4330-ec92-cafc7fc31d88"
      },
      "execution_count": null,
      "outputs": [
        {
          "output_type": "stream",
          "name": "stdout",
          "text": [
            "--------------------------------------------------\n",
            "This is amazing!!!\n",
            "--------------------------------------------------\n",
            "--------------------------------------------------\n",
            "Hello everyone! How are you doing?\n",
            "--------------------------------------------------\n"
          ]
        }
      ]
    },
    {
      "cell_type": "code",
      "source": [
        "new_foo = pretty(foo)\n",
        "\n",
        "new_foo()"
      ],
      "metadata": {
        "colab": {
          "base_uri": "https://localhost:8080/"
        },
        "id": "p1U6kJC98vz8",
        "outputId": "3ad84f39-78d8-41f7-b995-374dbc5fd996"
      },
      "execution_count": null,
      "outputs": [
        {
          "output_type": "stream",
          "name": "stdout",
          "text": [
            "--------------------------------------------------\n",
            "Hello everyone! How are you doing?\n",
            "--------------------------------------------------\n"
          ]
        }
      ]
    },
    {
      "cell_type": "code",
      "source": [
        "def foo():\n",
        "    print(\"Hello everyone! How are you doing?\")\n",
        "\n",
        "foo()"
      ],
      "metadata": {
        "colab": {
          "base_uri": "https://localhost:8080/"
        },
        "id": "e6j0yT-s86R4",
        "outputId": "c46681bb-34dc-4715-beb8-bb31e2a237e3"
      },
      "execution_count": null,
      "outputs": [
        {
          "output_type": "stream",
          "name": "stdout",
          "text": [
            "Hello everyone! How are you doing?\n"
          ]
        }
      ]
    },
    {
      "cell_type": "code",
      "source": [
        "# SOLID"
      ],
      "metadata": {
        "id": "sjv4qtgL9JZT"
      },
      "execution_count": null,
      "outputs": []
    },
    {
      "cell_type": "code",
      "source": [
        "1) vowel_count = sum(1 for char in self.string if char in vowels) # sdhjsdhh\n",
        "\n",
        "#sdklskdlksldk\n",
        "2)for char in self.string:\n",
        "  if char in vowels:\n",
        "     vowel_count += 1\n",
        "     print(vowel_count)\n",
        "\n",
        "\n",
        "Both means same sir ? if yes then which one shoul we use in our code...?"
      ],
      "metadata": {
        "id": "Lg6-2qttD7Fi"
      },
      "execution_count": null,
      "outputs": []
    }
  ]
}