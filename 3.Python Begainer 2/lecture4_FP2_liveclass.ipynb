{
  "nbformat": 4,
  "nbformat_minor": 0,
  "metadata": {
    "colab": {
      "provenance": []
    },
    "kernelspec": {
      "name": "python3",
      "display_name": "Python 3"
    },
    "language_info": {
      "name": "python"
    }
  },
  "cells": [
    {
      "cell_type": "code",
      "execution_count": null,
      "metadata": {
        "colab": {
          "base_uri": "https://localhost:8080/"
        },
        "id": "UhdfG26S3oiD",
        "outputId": "9068756d-42f4-4c5c-c411-212e2fbd2449"
      },
      "outputs": [
        {
          "output_type": "stream",
          "name": "stdout",
          "text": [
            "5 11\n"
          ]
        }
      ],
      "source": [
        "x = 5\n",
        "\n",
        "def mutation_1(x):\n",
        "    x = 2*x\n",
        "    x += 1\n",
        "\n",
        "    return x\n",
        "\n",
        "x1 = mutation_1(x)\n",
        "print(x, x1)"
      ]
    },
    {
      "cell_type": "markdown",
      "source": [
        "## Map function"
      ],
      "metadata": {
        "id": "vbjK3uL394bq"
      }
    },
    {
      "cell_type": "code",
      "source": [
        "a = [1,2,3,4,5]"
      ],
      "metadata": {
        "id": "UOoBvAvq83UI"
      },
      "execution_count": null,
      "outputs": []
    },
    {
      "cell_type": "markdown",
      "source": [
        "### Traditional looping way"
      ],
      "metadata": {
        "id": "9S460Zrd989b"
      }
    },
    {
      "cell_type": "code",
      "source": [
        "res = []\n",
        "for items in a:\n",
        "  res.append(items * items)\n",
        "\n",
        "print(res)"
      ],
      "metadata": {
        "colab": {
          "base_uri": "https://localhost:8080/"
        },
        "id": "2Q-d9DHF98Pe",
        "outputId": "312bcd4d-71c1-4e34-f649-b3f0a7f026b1"
      },
      "execution_count": null,
      "outputs": [
        {
          "output_type": "stream",
          "name": "stdout",
          "text": [
            "[1, 4, 9, 16, 25]\n"
          ]
        }
      ]
    },
    {
      "cell_type": "markdown",
      "source": [
        "### List comprehension method"
      ],
      "metadata": {
        "id": "rK54s8XW-F91"
      }
    },
    {
      "cell_type": "code",
      "source": [
        "res = [items * items for items in a]\n",
        "res"
      ],
      "metadata": {
        "colab": {
          "base_uri": "https://localhost:8080/"
        },
        "id": "arTSvooD-E62",
        "outputId": "06127103-fd02-46f0-d083-f2b1f0de841f"
      },
      "execution_count": null,
      "outputs": [
        {
          "output_type": "execute_result",
          "data": {
            "text/plain": [
              "[1, 4, 9, 16, 25]"
            ]
          },
          "metadata": {},
          "execution_count": 5
        }
      ]
    },
    {
      "cell_type": "markdown",
      "source": [
        "### Using map function"
      ],
      "metadata": {
        "id": "OjvwBRif-g4o"
      }
    },
    {
      "cell_type": "code",
      "source": [
        "## Using function method\n",
        "\n",
        "a = [1,2,3,4,5]\n",
        "\n",
        "def square_num(n):\n",
        "  return n * n\n",
        "\n",
        "\n",
        "list(map(square_num, a))"
      ],
      "metadata": {
        "colab": {
          "base_uri": "https://localhost:8080/"
        },
        "id": "JhedSxfo-RJF",
        "outputId": "78e43029-073f-48c5-c4c3-d8df5b1c9a74"
      },
      "execution_count": null,
      "outputs": [
        {
          "output_type": "execute_result",
          "data": {
            "text/plain": [
              "[1, 4, 9, 16, 25]"
            ]
          },
          "metadata": {},
          "execution_count": 7
        }
      ]
    },
    {
      "cell_type": "code",
      "source": [
        "## Using lambda function\n",
        "\n",
        "list(map(lambda x: x*x, a))"
      ],
      "metadata": {
        "colab": {
          "base_uri": "https://localhost:8080/"
        },
        "id": "Ygxuw7CE-wfX",
        "outputId": "27e253ff-774c-45e6-f06f-dd8777a44477"
      },
      "execution_count": null,
      "outputs": [
        {
          "output_type": "execute_result",
          "data": {
            "text/plain": [
              "[1, 4, 9, 16, 25]"
            ]
          },
          "metadata": {},
          "execution_count": 8
        }
      ]
    },
    {
      "cell_type": "markdown",
      "source": [
        "Convert the given heights from a list into to t-shirt sizes.\n",
        "\n",
        "- h < 150 --> S\n",
        "- h >= 150 and h < 180 --> M\n",
        "- h>=180 --> L"
      ],
      "metadata": {
        "id": "ip3wFsoH_HLG"
      }
    },
    {
      "cell_type": "code",
      "source": [
        "heights = [144, 167, 189, 170, 190, 150, 165, 178, 200, 130]"
      ],
      "metadata": {
        "id": "CtPD9xgl-_nv"
      },
      "execution_count": null,
      "outputs": []
    },
    {
      "cell_type": "code",
      "source": [
        "def complex_logic(height):\n",
        "   if height < 150:\n",
        "        return \"S\"\n",
        "   elif height >= 150 and height < 180:\n",
        "        return \"M\"\n",
        "   elif height > 180:\n",
        "        return \"L\""
      ],
      "metadata": {
        "id": "AoA3riEq_0TP"
      },
      "execution_count": null,
      "outputs": []
    },
    {
      "cell_type": "code",
      "source": [
        "list(map(complex_logic, heights))"
      ],
      "metadata": {
        "colab": {
          "base_uri": "https://localhost:8080/"
        },
        "id": "OGxvCK-w_8_X",
        "outputId": "2789fa89-04eb-426e-8c65-6904ba09da42"
      },
      "execution_count": null,
      "outputs": [
        {
          "output_type": "execute_result",
          "data": {
            "text/plain": [
              "['S', 'M', 'L', 'M', 'L', 'M', 'M', 'M', 'L', 'S']"
            ]
          },
          "metadata": {},
          "execution_count": 11
        }
      ]
    },
    {
      "cell_type": "code",
      "source": [
        "sizes_2 = list(map(lambda x: \"S\" if x < 150 else \"M\" if x >= 150 and x < 180 else \"L\", heights))\n",
        "sizes_2"
      ],
      "metadata": {
        "colab": {
          "base_uri": "https://localhost:8080/"
        },
        "id": "pMw_j4WwAHDM",
        "outputId": "e79b0426-b9e1-4124-af00-19766eed04ef"
      },
      "execution_count": null,
      "outputs": [
        {
          "output_type": "execute_result",
          "data": {
            "text/plain": [
              "['S', 'M', 'L', 'M', 'L', 'M', 'M', 'M', 'L', 'S']"
            ]
          },
          "metadata": {},
          "execution_count": 12
        }
      ]
    },
    {
      "cell_type": "code",
      "source": [
        "if x < 150:\n",
        "  return \"S\"\n",
        "else:\n",
        "  if x >= 150 and x < 180:\n",
        "    return \"M\"\n",
        "  else:\n",
        "    return \"L\""
      ],
      "metadata": {
        "id": "fVlRJLHHAgm0"
      },
      "execution_count": null,
      "outputs": []
    },
    {
      "cell_type": "markdown",
      "source": [
        "## Lets say you have to compare two list and check the differences"
      ],
      "metadata": {
        "id": "lbIdIpjXBCEU"
      }
    },
    {
      "cell_type": "code",
      "source": [
        "A = [1,0,0,1,1,1,0,0,0,1,0,1]\n",
        "B = [0,0,1,1,0,1,1,1,0,0,0,0]\n",
        "\n",
        "# res = [False, True.....]"
      ],
      "metadata": {
        "id": "C4SIhfK1BGts"
      },
      "execution_count": null,
      "outputs": []
    },
    {
      "cell_type": "code",
      "source": [
        "## Simple method\n",
        "res = []\n",
        "for i in range(0,len(A)):\n",
        "  if A[i] == B[i]:\n",
        "    res.append(True)\n",
        "  else:\n",
        "    res.append(False)\n",
        "\n",
        "res"
      ],
      "metadata": {
        "colab": {
          "base_uri": "https://localhost:8080/"
        },
        "id": "ngdHjhVPCGyR",
        "outputId": "a66d0243-daf0-43a2-cae2-d9f002a47dcc"
      },
      "execution_count": null,
      "outputs": [
        {
          "output_type": "execute_result",
          "data": {
            "text/plain": [
              "[False, True, False, True, False, True, False, False, True, False, True, False]"
            ]
          },
          "metadata": {},
          "execution_count": 16
        }
      ]
    },
    {
      "cell_type": "code",
      "source": [
        "## Using Map function\n",
        "\n",
        "list(map(lambda x,y: x==y, A,B))"
      ],
      "metadata": {
        "colab": {
          "base_uri": "https://localhost:8080/"
        },
        "id": "_RiurVFtCbay",
        "outputId": "0eb1551e-3541-4032-9d58-2e37c202db2b"
      },
      "execution_count": null,
      "outputs": [
        {
          "output_type": "execute_result",
          "data": {
            "text/plain": [
              "[False, True, False, True, False, True, False, False, True, False, True, False]"
            ]
          },
          "metadata": {},
          "execution_count": 17
        }
      ]
    },
    {
      "cell_type": "markdown",
      "source": [
        "## Filter"
      ],
      "metadata": {
        "id": "QX4d_C0LDKxL"
      }
    },
    {
      "cell_type": "code",
      "source": [
        "a = list(range(1,11))\n",
        "\n",
        "print(a)"
      ],
      "metadata": {
        "colab": {
          "base_uri": "https://localhost:8080/"
        },
        "id": "wgerzitPCxvm",
        "outputId": "13ee5554-5ab5-4e0d-922a-46fd3b82c607"
      },
      "execution_count": null,
      "outputs": [
        {
          "output_type": "stream",
          "name": "stdout",
          "text": [
            "[1, 2, 3, 4, 5, 6, 7, 8, 9, 10]\n"
          ]
        }
      ]
    },
    {
      "cell_type": "code",
      "source": [
        "## Simple method\n",
        "\n",
        "res = []\n",
        "\n",
        "for items in a:\n",
        "  if items % 2 == 0:\n",
        "    res.append(items)\n",
        "\n",
        "res"
      ],
      "metadata": {
        "colab": {
          "base_uri": "https://localhost:8080/"
        },
        "id": "Q2L7zXzYDMoA",
        "outputId": "4a08477f-e77c-4b60-ce7a-ace75b8f621c"
      },
      "execution_count": null,
      "outputs": [
        {
          "output_type": "execute_result",
          "data": {
            "text/plain": [
              "[2, 4, 6, 8, 10]"
            ]
          },
          "metadata": {},
          "execution_count": 19
        }
      ]
    },
    {
      "cell_type": "code",
      "source": [
        "#Using filter function\n",
        "\n",
        "list(filter(lambda x: x%2 == 0, a))"
      ],
      "metadata": {
        "colab": {
          "base_uri": "https://localhost:8080/"
        },
        "id": "4RHHbpBEDdw8",
        "outputId": "9956400b-2fb2-465e-c873-918759638a19"
      },
      "execution_count": null,
      "outputs": [
        {
          "output_type": "execute_result",
          "data": {
            "text/plain": [
              "[2, 4, 6, 8, 10]"
            ]
          },
          "metadata": {},
          "execution_count": 21
        }
      ]
    },
    {
      "cell_type": "code",
      "source": [
        "# How to get a list of odd numbers\n",
        "\n",
        "a = list(range(1,11))\n",
        "\n",
        "print(a)"
      ],
      "metadata": {
        "colab": {
          "base_uri": "https://localhost:8080/"
        },
        "id": "BLSPI4eMDqL8",
        "outputId": "d8382bd9-e46b-491c-a004-43ee737536cb"
      },
      "execution_count": null,
      "outputs": [
        {
          "output_type": "stream",
          "name": "stdout",
          "text": [
            "[1, 2, 3, 4, 5, 6, 7, 8, 9, 10]\n"
          ]
        }
      ]
    },
    {
      "cell_type": "code",
      "source": [
        "list(filter(lambda x: x%2 != 0, a))"
      ],
      "metadata": {
        "colab": {
          "base_uri": "https://localhost:8080/"
        },
        "id": "xTg1_yTWD9dG",
        "outputId": "e6d939a3-c097-46cd-f8d1-3081a035faff"
      },
      "execution_count": null,
      "outputs": [
        {
          "output_type": "execute_result",
          "data": {
            "text/plain": [
              "[1, 3, 5, 7, 9]"
            ]
          },
          "metadata": {},
          "execution_count": 25
        }
      ]
    },
    {
      "cell_type": "markdown",
      "source": [
        "## Zip"
      ],
      "metadata": {
        "id": "F6XdYbdbEOxT"
      }
    },
    {
      "cell_type": "code",
      "source": [
        "a = ['a','b','c']\n",
        "b = [1,2,3]\n",
        "\n",
        "list(zip(a,b))"
      ],
      "metadata": {
        "colab": {
          "base_uri": "https://localhost:8080/"
        },
        "id": "sTRrZLD9EFwD",
        "outputId": "da36a9e2-da59-4836-940b-0720a43aa7fa"
      },
      "execution_count": null,
      "outputs": [
        {
          "output_type": "execute_result",
          "data": {
            "text/plain": [
              "[('a', 1), ('b', 2), ('c', 3)]"
            ]
          },
          "metadata": {},
          "execution_count": 27
        }
      ]
    },
    {
      "cell_type": "markdown",
      "source": [
        "##### What if they are not of the same length?"
      ],
      "metadata": {
        "id": "QK5Wy5qOE1TF"
      }
    },
    {
      "cell_type": "code",
      "source": [
        "a = [1,2,3]\n",
        "b = [\"a\", \"b\", \"c\", \"d\", \"e\"]\n",
        "c = [\"x\", \"y\", \"z\", \"m\", \"n\"]"
      ],
      "metadata": {
        "id": "W994BRRTEr02"
      },
      "execution_count": null,
      "outputs": []
    },
    {
      "cell_type": "code",
      "source": [
        "list(zip(a,b,c))"
      ],
      "metadata": {
        "colab": {
          "base_uri": "https://localhost:8080/"
        },
        "id": "QmYIAwvuFAmk",
        "outputId": "80290de3-ac5f-4cdf-803c-654b50d82fbf"
      },
      "execution_count": null,
      "outputs": [
        {
          "output_type": "execute_result",
          "data": {
            "text/plain": [
              "[(1, 'a', 'x'), (2, 'b', 'y'), (3, 'c', 'z')]"
            ]
          },
          "metadata": {},
          "execution_count": 30
        }
      ]
    },
    {
      "cell_type": "code",
      "source": [
        "# Zip always return in tuples"
      ],
      "metadata": {
        "id": "74NFyFAXFDGO"
      },
      "execution_count": null,
      "outputs": []
    },
    {
      "cell_type": "code",
      "source": [
        "list(zip(b,a,c))"
      ],
      "metadata": {
        "colab": {
          "base_uri": "https://localhost:8080/"
        },
        "id": "TmwWfYyrFZPw",
        "outputId": "c5f0d081-4eaa-40a5-c11e-c755e7067b32"
      },
      "execution_count": null,
      "outputs": [
        {
          "output_type": "execute_result",
          "data": {
            "text/plain": [
              "[('a', 1, 'x'), ('b', 2, 'y'), ('c', 3, 'z')]"
            ]
          },
          "metadata": {},
          "execution_count": 32
        }
      ]
    },
    {
      "cell_type": "code",
      "source": [
        "tuple(zip(b,a,c))"
      ],
      "metadata": {
        "colab": {
          "base_uri": "https://localhost:8080/"
        },
        "id": "0lH1CpQ8Fj8b",
        "outputId": "66a48c06-4d88-457b-dbb6-de791df7db41"
      },
      "execution_count": null,
      "outputs": [
        {
          "output_type": "execute_result",
          "data": {
            "text/plain": [
              "(('a', 1, 'x'), ('b', 2, 'y'), ('c', 3, 'z'))"
            ]
          },
          "metadata": {},
          "execution_count": 33
        }
      ]
    },
    {
      "cell_type": "code",
      "source": [
        "# Can I do zipping only for list? No"
      ],
      "metadata": {
        "id": "VhUBaN8AFsSf"
      },
      "execution_count": null,
      "outputs": []
    },
    {
      "cell_type": "code",
      "source": [
        "a = (1,2,3)\n",
        "b = (\"a\", \"b\", \"c\", \"d\", \"e\")\n",
        "c = (\"x\", \"y\", \"z\", \"m\", \"n\")"
      ],
      "metadata": {
        "id": "aVH8gtMiF11F"
      },
      "execution_count": null,
      "outputs": []
    },
    {
      "cell_type": "code",
      "source": [
        "tuple(zip(a,b,c))"
      ],
      "metadata": {
        "colab": {
          "base_uri": "https://localhost:8080/"
        },
        "id": "Ge7FXZ2wF8M-",
        "outputId": "b79425d0-e15f-4b04-e0c0-6c2ac949b86c"
      },
      "execution_count": null,
      "outputs": [
        {
          "output_type": "execute_result",
          "data": {
            "text/plain": [
              "((1, 'a', 'x'), (2, 'b', 'y'), (3, 'c', 'z'))"
            ]
          },
          "metadata": {},
          "execution_count": 37
        }
      ]
    },
    {
      "cell_type": "code",
      "source": [
        "a = [1,2,3]\n",
        "b = (\"a\", \"b\", \"c\", \"d\", \"e\")\n",
        "c = {\"x\", \"y\", \"z\", \"m\", \"n\"}"
      ],
      "metadata": {
        "id": "81zr5jhCF-2x"
      },
      "execution_count": null,
      "outputs": []
    },
    {
      "cell_type": "code",
      "source": [
        "list(zip(a,b,c))"
      ],
      "metadata": {
        "colab": {
          "base_uri": "https://localhost:8080/"
        },
        "id": "eSKNbgr6GDCN",
        "outputId": "e89fc13e-18cc-48cc-d39a-7aa9680de0f5"
      },
      "execution_count": null,
      "outputs": [
        {
          "output_type": "execute_result",
          "data": {
            "text/plain": [
              "[(1, 'a', 'm'), (2, 'b', 'y'), (3, 'c', 'z')]"
            ]
          },
          "metadata": {},
          "execution_count": 40
        }
      ]
    },
    {
      "cell_type": "code",
      "source": [
        "list(zip(b,b))"
      ],
      "metadata": {
        "colab": {
          "base_uri": "https://localhost:8080/"
        },
        "id": "n0wFmwjIGIOj",
        "outputId": "be9463cc-623c-41e5-bb76-d9873b8bfae6"
      },
      "execution_count": null,
      "outputs": [
        {
          "output_type": "execute_result",
          "data": {
            "text/plain": [
              "[('a', 'a'), ('b', 'b'), ('c', 'c'), ('d', 'd'), ('e', 'e')]"
            ]
          },
          "metadata": {},
          "execution_count": 42
        }
      ]
    },
    {
      "cell_type": "code",
      "source": [
        "store_sales = [1234,4356]\n",
        "\n",
        "customer_data = ['A','B']\n",
        "\n",
        "list(zip(store_sales, customer_data))"
      ],
      "metadata": {
        "colab": {
          "base_uri": "https://localhost:8080/"
        },
        "id": "UeiLO-1-GmSt",
        "outputId": "8829d0b1-374f-4f30-eb18-e6073f9a0bec"
      },
      "execution_count": null,
      "outputs": [
        {
          "output_type": "execute_result",
          "data": {
            "text/plain": [
              "[(1234, 'A'), (4356, 'B')]"
            ]
          },
          "metadata": {},
          "execution_count": 44
        }
      ]
    },
    {
      "cell_type": "code",
      "source": [
        "# Can we have a dictionary to list/tuple zipping?\n",
        "\n",
        "a = {'a': 1, 'b': 3}\n",
        "c = [1,2]\n",
        "\n",
        "list(zip(a,c))"
      ],
      "metadata": {
        "colab": {
          "base_uri": "https://localhost:8080/"
        },
        "id": "5cUjI3xDGchQ",
        "outputId": "7f73a409-9efc-4efb-a667-0b98a10477bc"
      },
      "execution_count": null,
      "outputs": [
        {
          "output_type": "execute_result",
          "data": {
            "text/plain": [
              "[('a', 1), ('b', 2)]"
            ]
          },
          "metadata": {},
          "execution_count": 46
        }
      ]
    },
    {
      "cell_type": "code",
      "source": [
        "list(zip(a.values(),c))"
      ],
      "metadata": {
        "colab": {
          "base_uri": "https://localhost:8080/"
        },
        "id": "zcyc4rMUHLYS",
        "outputId": "f7a03f37-0774-4dab-fa77-a1b13a986ad9"
      },
      "execution_count": null,
      "outputs": [
        {
          "output_type": "execute_result",
          "data": {
            "text/plain": [
              "[(1, 1), (3, 2)]"
            ]
          },
          "metadata": {},
          "execution_count": 47
        }
      ]
    },
    {
      "cell_type": "markdown",
      "source": [
        "## Reduce"
      ],
      "metadata": {
        "id": "yIcsXZV6Kjzp"
      }
    },
    {
      "cell_type": "code",
      "source": [
        "from functools import reduce"
      ],
      "metadata": {
        "id": "6j6ksintHZbX"
      },
      "execution_count": null,
      "outputs": []
    },
    {
      "cell_type": "code",
      "source": [
        "a = [1.4,2,3,4,5]\n",
        "\n",
        "\n",
        "reduce(lambda x,y: x + y, a)"
      ],
      "metadata": {
        "colab": {
          "base_uri": "https://localhost:8080/"
        },
        "id": "Omah0I6UKpQJ",
        "outputId": "a5ffb130-8582-4fe4-b332-df71c27b0566"
      },
      "execution_count": null,
      "outputs": [
        {
          "output_type": "execute_result",
          "data": {
            "text/plain": [
              "15.4"
            ]
          },
          "metadata": {},
          "execution_count": 53
        }
      ]
    },
    {
      "cell_type": "code",
      "source": [
        "# I didn't type this to anything. WHY?\n",
        "#- Output is one single number. Hence typecast is not required."
      ],
      "metadata": {
        "id": "Cxw-EuKDLRTi"
      },
      "execution_count": null,
      "outputs": []
    },
    {
      "cell_type": "code",
      "source": [
        "a = list(range(1,11))\n",
        "a"
      ],
      "metadata": {
        "colab": {
          "base_uri": "https://localhost:8080/"
        },
        "id": "Wv7PrcFULY8p",
        "outputId": "a6061dc3-45ce-4645-bdfd-a9fe480f0a3f"
      },
      "execution_count": null,
      "outputs": [
        {
          "output_type": "execute_result",
          "data": {
            "text/plain": [
              "[1, 2, 3, 4, 5, 6, 7, 8, 9, 10]"
            ]
          },
          "metadata": {},
          "execution_count": 55
        }
      ]
    },
    {
      "cell_type": "code",
      "source": [
        "b = list(reversed(a))\n",
        "b"
      ],
      "metadata": {
        "colab": {
          "base_uri": "https://localhost:8080/"
        },
        "id": "K_b7j8bmLyRf",
        "outputId": "a384f966-87c3-41d7-ef12-eae8fc0271b2"
      },
      "execution_count": null,
      "outputs": [
        {
          "output_type": "execute_result",
          "data": {
            "text/plain": [
              "[10, 9, 8, 7, 6, 5, 4, 3, 2, 1]"
            ]
          },
          "metadata": {},
          "execution_count": 56
        }
      ]
    },
    {
      "cell_type": "code",
      "source": [
        "# What will be the output?\n",
        "print(reduce(lambda x,y: x*y, a) == reduce(lambda x,y: x*y, b))"
      ],
      "metadata": {
        "colab": {
          "base_uri": "https://localhost:8080/"
        },
        "id": "6FyxY_LnLz0k",
        "outputId": "d917240d-95c8-4ba9-c5ea-4850cc99a070"
      },
      "execution_count": null,
      "outputs": [
        {
          "output_type": "stream",
          "name": "stdout",
          "text": [
            "True\n"
          ]
        }
      ]
    },
    {
      "cell_type": "code",
      "source": [
        "reduce(lambda x,y: x*y, a)"
      ],
      "metadata": {
        "colab": {
          "base_uri": "https://localhost:8080/"
        },
        "id": "ZdQGwgDVMDWz",
        "outputId": "3bda6963-0cdd-4f04-a1be-4c339bd9824f"
      },
      "execution_count": null,
      "outputs": [
        {
          "output_type": "execute_result",
          "data": {
            "text/plain": [
              "3628800"
            ]
          },
          "metadata": {},
          "execution_count": 58
        }
      ]
    },
    {
      "cell_type": "code",
      "source": [
        "reduce(lambda x,y: x*y, b)"
      ],
      "metadata": {
        "colab": {
          "base_uri": "https://localhost:8080/"
        },
        "id": "IBRmG42dMF7P",
        "outputId": "252c38cc-7e6c-4378-ad6e-4d5e4288a1f9"
      },
      "execution_count": null,
      "outputs": [
        {
          "output_type": "execute_result",
          "data": {
            "text/plain": [
              "3628800"
            ]
          },
          "metadata": {},
          "execution_count": 59
        }
      ]
    },
    {
      "cell_type": "code",
      "source": [
        "# Gives the element with maximum value from a given list of elements.\n",
        "\n",
        "a = [1,3,5,12,6,8]"
      ],
      "metadata": {
        "id": "DVKazLRmMIc2"
      },
      "execution_count": null,
      "outputs": []
    },
    {
      "cell_type": "code",
      "source": [
        "reduce(lambda x, y: x if x>y else y, a)"
      ],
      "metadata": {
        "colab": {
          "base_uri": "https://localhost:8080/"
        },
        "id": "kaTjeqh-MTop",
        "outputId": "93fd12f0-5453-4cfe-f4f0-7c674e05f7f1"
      },
      "execution_count": null,
      "outputs": [
        {
          "output_type": "execute_result",
          "data": {
            "text/plain": [
              "12"
            ]
          },
          "metadata": {},
          "execution_count": 61
        }
      ]
    },
    {
      "cell_type": "code",
      "source": [
        "# Gives the element with minimum value from a given list of elements.\n",
        "reduce(lambda x, y: x if x<y else y, a)"
      ],
      "metadata": {
        "colab": {
          "base_uri": "https://localhost:8080/"
        },
        "id": "WPlUuYR9MeNh",
        "outputId": "e4e14286-856d-4b36-e47f-d49650a75f77"
      },
      "execution_count": null,
      "outputs": [
        {
          "output_type": "execute_result",
          "data": {
            "text/plain": [
              "1"
            ]
          },
          "metadata": {},
          "execution_count": 62
        }
      ]
    },
    {
      "cell_type": "code",
      "source": [
        "a = [1,2,3,4,5]\n",
        "\n",
        "\n",
        "reduce(lambda x,y: x * y, a, 100) #an initial value 100."
      ],
      "metadata": {
        "colab": {
          "base_uri": "https://localhost:8080/"
        },
        "id": "t6gjDBntNKMn",
        "outputId": "830a18c4-01a0-4ffb-c34e-b25efb30b8c0"
      },
      "execution_count": null,
      "outputs": [
        {
          "output_type": "execute_result",
          "data": {
            "text/plain": [
              "12000"
            ]
          },
          "metadata": {},
          "execution_count": 72
        }
      ]
    },
    {
      "cell_type": "code",
      "source": [
        "#Given the lists a = [1, 2, 3] and b = [\"a\", \"b\"], what will be the result of list(zip(a,b))?\n",
        "\n",
        "a = [1,2,3]\n",
        "b = ['a','b']\n",
        "\n",
        "list(zip(a,b))"
      ],
      "metadata": {
        "colab": {
          "base_uri": "https://localhost:8080/"
        },
        "id": "s6CHtUaLNGuS",
        "outputId": "78ef0156-b2bd-467e-894d-32841e585728"
      },
      "execution_count": null,
      "outputs": [
        {
          "output_type": "execute_result",
          "data": {
            "text/plain": [
              "[(1, 'a'), (2, 'b')]"
            ]
          },
          "metadata": {},
          "execution_count": 74
        }
      ]
    },
    {
      "cell_type": "markdown",
      "source": [
        "## Args and Kwargs"
      ],
      "metadata": {
        "id": "XhuJhlGiOp8p"
      }
    },
    {
      "cell_type": "code",
      "source": [
        "def sum_all(x,y):\n",
        "\n",
        "  sum = 0\n",
        "  sum = x + y\n",
        "\n",
        "  return sum"
      ],
      "metadata": {
        "id": "AivLRo4sOp0Q"
      },
      "execution_count": null,
      "outputs": []
    },
    {
      "cell_type": "code",
      "source": [
        "sum_all(10,10,1,2,3,4,5)"
      ],
      "metadata": {
        "colab": {
          "base_uri": "https://localhost:8080/",
          "height": 141
        },
        "id": "luKD3ZTaONGk",
        "outputId": "ab1b898e-8c2a-4582-ac76-84767965866c"
      },
      "execution_count": null,
      "outputs": [
        {
          "output_type": "error",
          "ename": "TypeError",
          "evalue": "sum_all() takes 2 positional arguments but 7 were given",
          "traceback": [
            "\u001b[0;31m---------------------------------------------------------------------------\u001b[0m",
            "\u001b[0;31mTypeError\u001b[0m                                 Traceback (most recent call last)",
            "\u001b[0;32m<ipython-input-77-dd7f109c7d12>\u001b[0m in \u001b[0;36m<cell line: 1>\u001b[0;34m()\u001b[0m\n\u001b[0;32m----> 1\u001b[0;31m \u001b[0msum_all\u001b[0m\u001b[0;34m(\u001b[0m\u001b[0;36m10\u001b[0m\u001b[0;34m,\u001b[0m\u001b[0;36m10\u001b[0m\u001b[0;34m,\u001b[0m\u001b[0;36m1\u001b[0m\u001b[0;34m,\u001b[0m\u001b[0;36m2\u001b[0m\u001b[0;34m,\u001b[0m\u001b[0;36m3\u001b[0m\u001b[0;34m,\u001b[0m\u001b[0;36m4\u001b[0m\u001b[0;34m,\u001b[0m\u001b[0;36m5\u001b[0m\u001b[0;34m)\u001b[0m\u001b[0;34m\u001b[0m\u001b[0;34m\u001b[0m\u001b[0m\n\u001b[0m",
            "\u001b[0;31mTypeError\u001b[0m: sum_all() takes 2 positional arguments but 7 were given"
          ]
        }
      ]
    },
    {
      "cell_type": "code",
      "source": [
        "def sum_all(x,y, *args):\n",
        "\n",
        "  result = x + y\n",
        "\n",
        "  if args:\n",
        "    result = result + sum(args)\n",
        "\n",
        "  return result"
      ],
      "metadata": {
        "id": "irSW0gFWPPoU"
      },
      "execution_count": null,
      "outputs": []
    },
    {
      "cell_type": "code",
      "source": [
        "sum_all(10,10,1,2,3)"
      ],
      "metadata": {
        "colab": {
          "base_uri": "https://localhost:8080/"
        },
        "id": "SZbREJ8yP1ph",
        "outputId": "7200c5e8-a69f-42b5-ab73-096165c6cfdc"
      },
      "execution_count": null,
      "outputs": [
        {
          "output_type": "execute_result",
          "data": {
            "text/plain": [
              "26"
            ]
          },
          "metadata": {},
          "execution_count": 85
        }
      ]
    },
    {
      "cell_type": "code",
      "source": [
        "def investigate_sum_all(x,y, *args):\n",
        "  print(x,y,args)"
      ],
      "metadata": {
        "id": "E_3IUyoSP9v9"
      },
      "execution_count": null,
      "outputs": []
    },
    {
      "cell_type": "code",
      "source": [
        "investigate_sum_all(10,10,1,2,3)"
      ],
      "metadata": {
        "colab": {
          "base_uri": "https://localhost:8080/"
        },
        "id": "-cJi0FN-QGs_",
        "outputId": "9a6bb638-bb5b-4cd3-db6d-4813b0e2f699"
      },
      "execution_count": null,
      "outputs": [
        {
          "output_type": "stream",
          "name": "stdout",
          "text": [
            "10 10 (1, 2, 3)\n"
          ]
        }
      ]
    },
    {
      "cell_type": "code",
      "source": [
        "sum((1,2,3))"
      ],
      "metadata": {
        "colab": {
          "base_uri": "https://localhost:8080/"
        },
        "id": "NV1fceB-QJlB",
        "outputId": "86b78d14-9e0c-4bea-c9f6-a620087f6ed8"
      },
      "execution_count": null,
      "outputs": [
        {
          "output_type": "execute_result",
          "data": {
            "text/plain": [
              "6"
            ]
          },
          "metadata": {},
          "execution_count": 83
        }
      ]
    },
    {
      "cell_type": "markdown",
      "source": [
        "**kwargs"
      ],
      "metadata": {
        "id": "JsPAOG8_RLTI"
      }
    },
    {
      "cell_type": "code",
      "source": [
        "def create_person(name, age, gender,**kwargs):\n",
        "    Person = {\n",
        "        \"name\": name,\n",
        "        \"age\": age,\n",
        "        \"gender\": gender\n",
        "    }\n",
        "\n",
        "    if kwargs:\n",
        "      Person.update(kwargs)\n",
        "\n",
        "    return Person"
      ],
      "metadata": {
        "id": "JbUwqScaQWoo"
      },
      "execution_count": null,
      "outputs": []
    },
    {
      "cell_type": "code",
      "source": [
        "create_person(name = \"Thor\", age = 1500, gender = \"Male\", hobby=\"saving the world\", god=True )"
      ],
      "metadata": {
        "colab": {
          "base_uri": "https://localhost:8080/"
        },
        "id": "JYq9cwghRUL1",
        "outputId": "48b80924-bd48-4767-bb20-ef168515732b"
      },
      "execution_count": null,
      "outputs": [
        {
          "output_type": "execute_result",
          "data": {
            "text/plain": [
              "{'name': 'Thor',\n",
              " 'age': 1500,\n",
              " 'gender': 'Male',\n",
              " 'hobby': 'saving the world',\n",
              " 'god': True}"
            ]
          },
          "metadata": {},
          "execution_count": 98
        }
      ]
    },
    {
      "cell_type": "code",
      "source": [
        "def random(x, y, *args, **kwargs):\n",
        "    print(x)\n",
        "    print(y)\n",
        "    print(args)\n",
        "    print(kwargs)\n"
      ],
      "metadata": {
        "id": "-mAzBUVhRYnt"
      },
      "execution_count": null,
      "outputs": []
    },
    {
      "cell_type": "code",
      "source": [
        "random(1,2,32,43,54,56,m=1,b=5,76,67)"
      ],
      "metadata": {
        "colab": {
          "base_uri": "https://localhost:8080/",
          "height": 106
        },
        "id": "rcOj8mCMSl2b",
        "outputId": "2a25ded7-1b38-4bb4-bfd5-7d1028ee202f"
      },
      "execution_count": null,
      "outputs": [
        {
          "output_type": "error",
          "ename": "SyntaxError",
          "evalue": "positional argument follows keyword argument (<ipython-input-106-cca4a08690aa>, line 1)",
          "traceback": [
            "\u001b[0;36m  File \u001b[0;32m\"<ipython-input-106-cca4a08690aa>\"\u001b[0;36m, line \u001b[0;32m1\u001b[0m\n\u001b[0;31m    random(1,2,32,43,54,56,m=1,b=5,76,67)\u001b[0m\n\u001b[0m                                        ^\u001b[0m\n\u001b[0;31mSyntaxError\u001b[0m\u001b[0;31m:\u001b[0m positional argument follows keyword argument\n"
          ]
        }
      ]
    },
    {
      "cell_type": "code",
      "source": [
        "# positional -> args -> kwargs"
      ],
      "metadata": {
        "id": "yFSivUcESooA"
      },
      "execution_count": null,
      "outputs": []
    },
    {
      "cell_type": "code",
      "source": [
        "random(2,1,2,3,u=1)"
      ],
      "metadata": {
        "colab": {
          "base_uri": "https://localhost:8080/"
        },
        "id": "o_cdfZWwTQTq",
        "outputId": "b16c579d-f979-465b-b506-8cfcd5ed8cf0"
      },
      "execution_count": null,
      "outputs": [
        {
          "output_type": "stream",
          "name": "stdout",
          "text": [
            "2\n",
            "1\n",
            "(2, 3)\n",
            "{'u': 1}\n"
          ]
        }
      ]
    },
    {
      "cell_type": "code",
      "source": [
        "(+) name: 'Ani'\n",
        "(+) gender: \"male\""
      ],
      "metadata": {
        "id": "0VkOddN7TQs2"
      },
      "execution_count": null,
      "outputs": []
    },
    {
      "cell_type": "code",
      "source": [
        "def sample_func(x, y, *args, **kwargs):\n",
        "    return x, y, args, kwargs\n",
        "\n",
        "\n",
        "sample_func(, a=1)"
      ],
      "metadata": {
        "colab": {
          "base_uri": "https://localhost:8080/"
        },
        "id": "VPVtjs8aT9l7",
        "outputId": "9620ba7e-d491-4037-d7e1-a927d20aa02c"
      },
      "execution_count": null,
      "outputs": [
        {
          "output_type": "execute_result",
          "data": {
            "text/plain": [
              "(1, 2, (), {'a': 5, 'b': 6})"
            ]
          },
          "metadata": {},
          "execution_count": 113
        }
      ]
    },
    {
      "cell_type": "code",
      "source": [
        "items = [\"Book\", \"Pen\", \"Notebook\", \"Backpack\", \"Pencil\"]\n",
        "sales = [150, 20, 90, 200, 10]\n",
        "costs = [100, 10, 50, 150, 5]\n",
        "threshold = 50"
      ],
      "metadata": {
        "id": "TCAIhRyXUOYS"
      },
      "execution_count": null,
      "outputs": []
    },
    {
      "cell_type": "code",
      "source": [
        "from functools import reduce\n",
        "\n",
        "def analyze_sales_data(items, sales, costs, threshold):\n",
        "    # complete the function\n",
        "\n",
        "    #Combining all the data: items, sales, cost\n",
        "    combined_data = zip(items, sales, costs)\n",
        "\n",
        "    # Use filter to select items with sales greater than the threshold\n",
        "    filtered_data = filter(lambda x : x[1] > threshold, combined_data)\n",
        "\n",
        "    # Use map to calculate net profit for each item\n",
        "    net_profit_data = map(lambda x: (x[0], x[1] - x[2]), filtered_data)\n",
        "\n",
        "    item_profit_pairs = list(net_profit_data)\n",
        "\n",
        "    # # total net profit calculation using reduce\n",
        "    total_net_profit = reduce(lambda acc, curr: acc + curr[1], item_profit_pairs, 0)\n",
        "\n",
        "    return item_profit_pairs, total_net_profit"
      ],
      "metadata": {
        "id": "7abIknzQXVje"
      },
      "execution_count": null,
      "outputs": []
    },
    {
      "cell_type": "code",
      "source": [
        "analyze_sales_data(items, sales, costs, threshold)"
      ],
      "metadata": {
        "colab": {
          "base_uri": "https://localhost:8080/"
        },
        "id": "0KtBXmsXXaYx",
        "outputId": "35a4b022-fc45-4485-f7c3-2f41027aaadd"
      },
      "execution_count": null,
      "outputs": [
        {
          "output_type": "execute_result",
          "data": {
            "text/plain": [
              "([('Book', 50), ('Notebook', 40), ('Backpack', 50)], 140)"
            ]
          },
          "metadata": {},
          "execution_count": 142
        }
      ]
    },
    {
      "cell_type": "code",
      "source": [
        "a = [('Book', 50), ('Notebook', 40), ('Backpack', 50)]\n",
        "\n",
        "\n",
        "reduce(lambda x:y: x[])\n",
        "\n",
        "\n",
        "\n",
        "sum = 0\n",
        "sum += value"
      ],
      "metadata": {
        "id": "vA0xaXemXcIk"
      },
      "execution_count": null,
      "outputs": []
    }
  ]
}